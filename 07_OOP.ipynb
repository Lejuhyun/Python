{
 "cells": [
  {
   "cell_type": "markdown",
   "id": "db70010e-a303-4809-bf5c-8956fc16524a",
   "metadata": {},
   "source": [
    "# 객체지향 프로그래밍 (OOP)\n",
    "- 클래스(class) : 같은 종류의 집단에 속하는 `속성`과 `행동`을 정의한 것\n",
    "- 속성(attribute) : 클래스/ 인스턴스가 가지고 있는 데이터/값\n",
    "- 행동(method) : 클래스/인스턴스가 가지고 있는 함수/기능 (class안에 들어있는 함수 = method)\n",
    "- 인스턴스(instance) : 클래스를 실제로 메모리상에 할당한 것"
   ]
  },
  {
   "cell_type": "code",
   "execution_count": null,
   "id": "197a5a96-cad1-4311-a3da-146dc1b7eb03",
   "metadata": {},
   "outputs": [],
   "source": [
    "number = 1 + 2j #complex: 복소수"
   ]
  },
  {
   "cell_type": "code",
   "execution_count": null,
   "id": "32736d05-6e8d-4355-8c96-4e46de824fb3",
   "metadata": {},
   "outputs": [],
   "source": [
    "print(type(number)) #class 'complex' : 복소수를 정의해놓은 것"
   ]
  },
  {
   "cell_type": "code",
   "execution_count": null,
   "id": "11bb2342-877e-46c5-ae4c-4e83283160c7",
   "metadata": {},
   "outputs": [],
   "source": [
    "print(number.real) # 복소수 = 실수부분 + 허수부분 #데이터에 접근할때는 .(데이터이름)\n",
    "#real : 실수부분 출력\n",
    "print(number.imag)\n",
    "#img : 허수부분 출력"
   ]
  },
  {
   "cell_type": "code",
   "execution_count": null,
   "id": "cc8099fc-33de-4605-8a75-a075589a0106",
   "metadata": {},
   "outputs": [],
   "source": [
    "numbers = [1,2,3]"
   ]
  },
  {
   "cell_type": "code",
   "execution_count": null,
   "id": "44665495-7a30-462f-96ab-9421615822b6",
   "metadata": {},
   "outputs": [],
   "source": [
    "print(type(numbers)) #class 'list' : 리스트의 개념을 정의해놓은 것"
   ]
  },
  {
   "cell_type": "code",
   "execution_count": null,
   "id": "7c1a83ff-72d5-47a3-801b-dfc3a3e3a2d3",
   "metadata": {},
   "outputs": [],
   "source": [
    "numbers.reverse() # 함수를 실행할 때는 소괄호가 붙는다   ex) duck.run() \n",
    "print(numbers)"
   ]
  },
  {
   "cell_type": "code",
   "execution_count": null,
   "id": "712ac3bf-018a-4980-b25e-19e171ada86e",
   "metadata": {},
   "outputs": [],
   "source": [
    "#핸드폰의 데이터\n",
    "number = '010-1234-1234'\n",
    "power = True\n",
    "phone_book = {\n",
    "    'kim' : '010-1111-1111',\n",
    "    'park' : '010-2222-2222',\n",
    "}\n",
    "\n",
    "\n",
    "#핸드폰의 기능\n",
    "def call(from_num, to_num):  #전화를 거는 사람, 전화를 받는 사람\n",
    "    print(f'{from_num}가 {to_num}한테 전화거는 중')\n",
    "call(number, phone_book['kim'])\n",
    "    "
   ]
  },
  {
   "cell_type": "code",
   "execution_count": null,
   "id": "649351b9-f8ab-45ea-a2f4-9986ca07028f",
   "metadata": {},
   "outputs": [],
   "source": [
    "number_2 = '010-4321-4321'\n",
    "power_2 = True\n",
    "phone_book_2 = {\n",
    "    'kim' : '010-1111-1111',\n",
    "    'park' : '010-2222-2222',\n",
    "}\n",
    "\n",
    "\n",
    "#핸드폰의 기능\n",
    "def call(from_num, to_num):  #전화를 거는 사람, 전화를 받는 사람\n",
    "    print(f'{from_num}가 {to_num}한테 전화거는 중')\n",
    "call(number_2, phone_book_2['kim'])"
   ]
  },
  {
   "cell_type": "markdown",
   "id": "3c949569-20fd-4dc0-95de-e36fb373c35e",
   "metadata": {},
   "source": [
    "## class \n",
    "\n",
    "- 클래스 선언/ 정의\n",
    "```python\n",
    "class ClassName():  #클래스에서는 각 단어의 시작점을 대문자로 쓴다!!!!!!!!!\n",
    "    attribute1 = value1\n",
    "    attribute2 = value2\n",
    "    ...\n",
    "\n",
    "    def method_name(self):\n",
    "        code:\n",
    "    def method_name2(self):\n",
    "        code:\n",
    "    ...\n",
    "```\n",
    "\n",
    "- 인스턴스화 (=클래스 실행)\n",
    "```\n",
    "c = ClassName()\n",
    "```"
   ]
  },
  {
   "cell_type": "code",
   "execution_count": null,
   "id": "d149423f-4201-499e-8691-d6cfe035b0ef",
   "metadata": {},
   "outputs": [],
   "source": [
    "# 선언 / 정의\n",
    "\n",
    "class MyClass():\n",
    "    name = 'kim'\n",
    "\n",
    "    def hello(self):\n",
    "        return 'hihihihi'\n",
    "        "
   ]
  },
  {
   "cell_type": "code",
   "execution_count": null,
   "id": "1d6b35a0-9b1f-479a-b073-3e4db7ae6dcd",
   "metadata": {},
   "outputs": [],
   "source": [
    "# 인스턴스화\n",
    "\n",
    "m = MyClass()"
   ]
  },
  {
   "cell_type": "code",
   "execution_count": null,
   "id": "6c932c30-2aed-4dbb-a8de-ebe247280ca6",
   "metadata": {},
   "outputs": [],
   "source": [
    "print(type(m))"
   ]
  },
  {
   "cell_type": "code",
   "execution_count": null,
   "id": "9bfcc9e7-29e7-4631-b2dc-51f01cf3d2ce",
   "metadata": {},
   "outputs": [],
   "source": [
    "print(m.name)  #데이터 접근할때는 .(데이터이름)\n",
    "print(m.hello()) #함수 접근할때는 .(함수이름)()"
   ]
  },
  {
   "cell_type": "code",
   "execution_count": null,
   "id": "6066d43a-b8f0-4aba-8569-2205180bdb1b",
   "metadata": {},
   "outputs": [],
   "source": [
    "# 두번째 인스턴스화\n",
    "\n",
    "m2 = MyClass()\n",
    "print(m2.name)\n",
    "print(m2.hello())"
   ]
  },
  {
   "cell_type": "code",
   "execution_count": null,
   "id": "3a8825b0-e33c-4682-92ae-80588828c4fd",
   "metadata": {},
   "outputs": [],
   "source": [
    "# m과 m2는 완전히 독립적임\n",
    "m2.name = 'park'\n",
    "print(m.name)\n",
    "print(m2.name)"
   ]
  },
  {
   "cell_type": "code",
   "execution_count": null,
   "id": "826758f6-663d-47f1-a127-2186ef27ae7d",
   "metadata": {},
   "outputs": [],
   "source": [
    "# 핸드폰 선언하기\n",
    "\n",
    "class Phone():\n",
    "    power = False\n",
    "    number = '010-0000-0000'\n",
    "    booke = {}\n",
    "    model = ''\n",
    "\n",
    "    def on(self):\n",
    "        if self.power == False:     ## if문에서 값을 비교할 때 : ==\n",
    "            self.power = True       ## 값을 할당할 때 : =\n",
    "\n",
    "    def off(self):\n",
    "        if self.power == True:\n",
    "            self.power = False\n",
    "\n",
    "    def call(self, target):\n",
    "        if self.power == True:\n",
    "            print(f'{self.number}가 {target.number}한테 전화거는 중')\n",
    "        else:\n",
    "            print('핸드폰이 꺼져있습니다')\n",
    "        "
   ]
  },
  {
   "cell_type": "code",
   "execution_count": null,
   "id": "8ea61df3-be1d-404f-8afb-e6dce8bb80a3",
   "metadata": {},
   "outputs": [],
   "source": [
    "my_phone = Phone()\n",
    "your_phone = Phone()"
   ]
  },
  {
   "cell_type": "code",
   "execution_count": null,
   "id": "695d18bb-b02a-46ca-a0ca-920ccd7e1431",
   "metadata": {},
   "outputs": [],
   "source": [
    "my_phone.number"
   ]
  },
  {
   "cell_type": "code",
   "execution_count": null,
   "id": "a60057ec-18fb-4e57-bc7a-c03e4138341a",
   "metadata": {},
   "outputs": [],
   "source": [
    "your_phone.number"
   ]
  },
  {
   "cell_type": "code",
   "execution_count": null,
   "id": "a844aaf0-a298-4484-9d3d-b2900787e45d",
   "metadata": {},
   "outputs": [],
   "source": [
    "my_phone.number = '010-1234-1234'\n",
    "print(my_phone.number)"
   ]
  },
  {
   "cell_type": "code",
   "execution_count": null,
   "id": "15c51b18-2d70-40fd-b68c-d91ba7dd60a9",
   "metadata": {},
   "outputs": [],
   "source": [
    "my_phone.power"
   ]
  },
  {
   "cell_type": "code",
   "execution_count": null,
   "id": "7635158f-b454-4027-ab5f-a8f458e68d9a",
   "metadata": {},
   "outputs": [],
   "source": [
    "my_phone.on()"
   ]
  },
  {
   "cell_type": "code",
   "execution_count": null,
   "id": "543aa1f6-fc2b-48b3-92ad-2044657b16bd",
   "metadata": {},
   "outputs": [],
   "source": [
    "my_phone.power"
   ]
  },
  {
   "cell_type": "code",
   "execution_count": null,
   "id": "92cacc10-6af5-4e62-b8fa-8dc759605174",
   "metadata": {},
   "outputs": [],
   "source": [
    "your_phone.power  ## my_phone과 Your_phone은 독립적임"
   ]
  },
  {
   "cell_type": "code",
   "execution_count": null,
   "id": "9c64d83e-ddcb-4484-92e2-3dd2932d8c60",
   "metadata": {},
   "outputs": [],
   "source": [
    "my_phone.call(your_phone)  ## (self, target)에서 self는 생략하고 target만 써준다"
   ]
  },
  {
   "cell_type": "code",
   "execution_count": null,
   "id": "ea687b43-8947-4382-965b-66ade2e4f2d5",
   "metadata": {},
   "outputs": [],
   "source": [
    "your_phone.call(my_phone)"
   ]
  },
  {
   "cell_type": "code",
   "execution_count": null,
   "id": "0e717895-da41-46b5-9d9e-6db5b300b5db",
   "metadata": {},
   "outputs": [],
   "source": [
    "# 사람 class 선언\n",
    "\n",
    "class Person():\n",
    "    name = ''\n",
    "    gender = ''\n",
    "    age = 0\n",
    "    height = 0\n",
    "\n",
    "    def greeting(self):\n",
    "        print(f'안녕하세요. 나는 {self.name}입니다')\n",
    "\n",
    "    def grow(self):\n",
    "        self.age += 1\n",
    "    "
   ]
  },
  {
   "cell_type": "code",
   "execution_count": null,
   "id": "43ae7061-2a39-43e0-a478-34f259c629f1",
   "metadata": {},
   "outputs": [],
   "source": [
    "p1 = Person()\n",
    "p2 = Person()"
   ]
  },
  {
   "cell_type": "code",
   "execution_count": null,
   "id": "5dd01c63-04b1-48c5-809c-388982ac0ab0",
   "metadata": {},
   "outputs": [],
   "source": [
    "print(p1.name, p2.name)"
   ]
  },
  {
   "cell_type": "code",
   "execution_count": null,
   "id": "96a3b4fd-6444-4aba-8254-04515fc7b1fa",
   "metadata": {},
   "outputs": [],
   "source": [
    "p1.name = 'hong'\n",
    "p2.name = 'kim'\n",
    "\n",
    "p1.gender = 'F'\n",
    "p2.gender = 'M'\n",
    "\n",
    "p1.age= 20\n",
    "p2.age= 30\n",
    "\n",
    "p1.height = 170\n",
    "p2.heigth = 180"
   ]
  },
  {
   "cell_type": "code",
   "execution_count": null,
   "id": "bec718ba-459c-4796-90d8-8e8fe001b899",
   "metadata": {},
   "outputs": [],
   "source": [
    "p1.greeting()\n",
    "p2.greeting()"
   ]
  },
  {
   "cell_type": "code",
   "execution_count": null,
   "id": "f0747dcf-4ec6-4224-94b9-956ea7509b8f",
   "metadata": {},
   "outputs": [],
   "source": [
    "Person.greeting(p1)  ## self = p1\n",
    "p1.greeting()  ## self = p1"
   ]
  },
  {
   "cell_type": "markdown",
   "id": "c15b01a8-01da-47eb-a649-7b098415c9ed",
   "metadata": {},
   "source": [
    "# 생성자, 소멸자\n",
    "\n",
    "```Python\n",
    "class MyClass():\n",
    "    \n",
    "    def __init__(self):\n",
    "        pass\n",
    "\n",
    "    def __del__(self):\n",
    "        pass\n",
    "```"
   ]
  },
  {
   "cell_type": "code",
   "execution_count": null,
   "id": "391716ed-62af-4227-aaf3-454d790fc639",
   "metadata": {},
   "outputs": [],
   "source": [
    "class Person():\n",
    "    name = ''\n",
    "\n",
    "    def __init__(self, n):\n",
    "        self.name = n\n",
    "        print('생성됨')\n",
    "\n",
    "    def __del__(self):\n",
    "        print('소멸됨')\n",
    "    "
   ]
  },
  {
   "cell_type": "code",
   "execution_count": null,
   "id": "c13f84ae-349f-476f-a2a1-80692256472c",
   "metadata": {},
   "outputs": [],
   "source": [
    "# 인스턴스화 하기\n",
    "p1 = Person('kim')  # => Person.__init__(p1, 'kim')\n",
    "p2 = Person('park')"
   ]
  },
  {
   "cell_type": "code",
   "execution_count": null,
   "id": "3979b97f-0d0d-4f02-8744-51cbdd1912cb",
   "metadata": {},
   "outputs": [],
   "source": [
    "del p1    #  p1이라는 변수가 소멸됐을 때."
   ]
  },
  {
   "cell_type": "code",
   "execution_count": null,
   "id": "dc25746c-aac6-46b1-a9e1-4ed8c813acab",
   "metadata": {},
   "outputs": [],
   "source": [
    "del p2"
   ]
  },
  {
   "cell_type": "code",
   "execution_count": 1,
   "id": "410d7233-5a23-4c0b-a653-fcf1e03720d6",
   "metadata": {},
   "outputs": [],
   "source": [
    "class Circle():\n",
    "    \n",
    "    \n",
    "    def __init__(self, r, x=0, y=0):  ## 중심점의 좌표를 기본값인자로 설정함, 반지름만 넣어도 동작된다\n",
    "        self.r = r\n",
    "        self.x = x\n",
    "        self.y = y\n",
    "        self.pi =3.14\n",
    "\n",
    "    def info(self):\n",
    "        print(f'반지름: {self.r}, 중심점: {self.x}, {self.y}')\n",
    "\n",
    "    def area(self):\n",
    "        return self.r ** 2 * self.pi ## self내에서 정의한 pi를 찾음 =>없으면 class에서 정의한 pi를 찾음 =>있으니까 3.14출력\n",
    "\n",
    "    def round(self):\n",
    "        return self.r * 2 * self.pi\n",
    "\n",
    "    def move(self, x, y):\n",
    "        self.x = x\n",
    "        self.y = y\n",
    "        "
   ]
  },
  {
   "cell_type": "code",
   "execution_count": 2,
   "id": "0f556463-3852-4de5-9b69-d0ab60b4bc2c",
   "metadata": {},
   "outputs": [],
   "source": [
    "c1 = Circle(5)\n",
    "c2 = Circle(3, 1, 1)"
   ]
  },
  {
   "cell_type": "code",
   "execution_count": null,
   "id": "cf213388-938a-4c23-8fb9-41c1184c04ee",
   "metadata": {},
   "outputs": [],
   "source": [
    "c1.info()\n",
    "c2.info()"
   ]
  },
  {
   "cell_type": "code",
   "execution_count": 3,
   "id": "997e4b61-6c53-41f1-8796-d7b9c9ca1251",
   "metadata": {},
   "outputs": [
    {
     "name": "stdout",
     "output_type": "stream",
     "text": [
      "78.5\n",
      "28.26\n"
     ]
    }
   ],
   "source": [
    "print(c1.area())\n",
    "print(c2.area())"
   ]
  },
  {
   "cell_type": "code",
   "execution_count": null,
   "id": "b6a4ec93-782b-44c6-bc5b-6e93016a083d",
   "metadata": {},
   "outputs": [],
   "source": [
    "print(c1.round())\n",
    "print(c2.round())"
   ]
  },
  {
   "cell_type": "code",
   "execution_count": null,
   "id": "bd47c15b-299e-4a89-a92e-bd45e65d219c",
   "metadata": {},
   "outputs": [],
   "source": [
    "c1.move(100,100)\n",
    "c1.info()"
   ]
  },
  {
   "cell_type": "code",
   "execution_count": null,
   "id": "f9d14382-cb12-4c69-9d6a-15ed5d9fe15a",
   "metadata": {},
   "outputs": [],
   "source": [
    "class Point():\n",
    "    def __init__(self, x, y):\n",
    "        self.x = x\n",
    "        self.y = y\n",
    "    \n",
    "    def info():\n",
    "        print(f'{self.x},{self.y}')"
   ]
  },
  {
   "cell_type": "code",
   "execution_count": null,
   "id": "608ee14c-9911-4ca8-9ef2-25b7cb9c4d1c",
   "metadata": {},
   "outputs": [],
   "source": [
    "p1 = Point(1,1)\n",
    "p2 = Point(2,3)"
   ]
  },
  {
   "cell_type": "code",
   "execution_count": null,
   "id": "ab58dcbf-d035-4999-866f-a8aee43e6dff",
   "metadata": {},
   "outputs": [],
   "source": [
    "class Circle():\n",
    "    def __init__(self, r, point):\n",
    "        self.r = r\n",
    "        self.point = point\n",
    "\n",
    "    def info(self):\n",
    "        point = self.point\n",
    "        x = point.x\n",
    "        y = point.y\n",
    "        print(f'반지름: {self.r}, 중심점: {x},{y}')\n",
    "        ###  print(f'반지름: {self.r}, 중심점: {self.point.x},{self.point.y}')"
   ]
  },
  {
   "cell_type": "code",
   "execution_count": null,
   "id": "4af26cdb-bb74-4c57-91fa-1ff0137553ad",
   "metadata": {},
   "outputs": [],
   "source": [
    "c1 = Circle(10, p1)\n",
    "c2 = Circle(5, p2)"
   ]
  },
  {
   "cell_type": "code",
   "execution_count": null,
   "id": "e6903021-37b2-486e-8e10-674498662b71",
   "metadata": {},
   "outputs": [],
   "source": [
    "c1.info()"
   ]
  },
  {
   "cell_type": "markdown",
   "id": "6e19ba0b-dfce-45c0-b760-f1f51941ef48",
   "metadata": {},
   "source": [
    "### 클래스 변수 / 인스턴스 변수\n",
    "\n",
    "- 클래스 변수: 클래스 선언 블록 최상단에 위치\n",
    "- 인스턴스 변수: 인스턴스 내부에서 생성한 변수\n",
    "```python\n",
    "class MyClass():\n",
    "    class_variable = '클래스변수'\n",
    "\n",
    "    def __init__(self):\n",
    "        self.instance_variable = '인스턴스변수'\n",
    "```"
   ]
  },
  {
   "cell_type": "code",
   "execution_count": 7,
   "id": "40c7af25-341f-4ed0-a791-e5745babc59b",
   "metadata": {},
   "outputs": [],
   "source": [
    "class Person():\n",
    "    name = 'hong'\n",
    "    age = 10\n",
    "\n",
    "    def __init__(self, name):\n",
    "        self.name = name"
   ]
  },
  {
   "cell_type": "code",
   "execution_count": 8,
   "id": "57a6f20d-8af9-427a-8115-47a20237f594",
   "metadata": {},
   "outputs": [
    {
     "name": "stdout",
     "output_type": "stream",
     "text": [
      "oh\n",
      "10\n"
     ]
    }
   ],
   "source": [
    "p1 = Person('oh')\n",
    "print(p1.name)\n",
    "print(p1.age)"
   ]
  },
  {
   "cell_type": "markdown",
   "id": "f481dd60-3b55-455d-b4fe-9912b3fbc517",
   "metadata": {},
   "source": [
    "### 클래스 메소드 / 인스턴스 메소드/ 스태틱 메소드\n",
    "- 인스턴스나 클래스와 관련 없는 메서드를 만들 때 사용된다.\n",
    "- self나 cls를 받지 않는다. 즉, 메서드 내부에서 인스턴스나 클래스 변수를 참조할 수 없다.\n",
    "- 클래스나 인스턴스에 의존하지 않는 작업을 수행할 때 사용된다.\n",
    "```python\n",
    "class MyClass():\n",
    "\n",
    "    def instance_method(self):\n",
    "        pass\n",
    "\n",
    "    @classmethod\n",
    "    def class_method(cls):\n",
    "        pass\n",
    "\n",
    "    @staticmethod\n",
    "    def static_method():\n",
    "        pass"
   ]
  },
  {
   "cell_type": "code",
   "execution_count": 9,
   "id": "8d442c08-ab64-46ec-afe6-fb5accc4ddfb",
   "metadata": {},
   "outputs": [],
   "source": [
    "class MyClass():\n",
    "    def instance_method(self):\n",
    "        print(self)\n",
    "    \n",
    "    @classmethod\n",
    "    def class_method(cls):\n",
    "        print(cls)\n",
    "\n",
    "    @staticmethod\n",
    "    def static_method():\n",
    "        print('static')"
   ]
  },
  {
   "cell_type": "code",
   "execution_count": 15,
   "id": "64be2960-424a-4778-8729-365a9f620826",
   "metadata": {},
   "outputs": [
    {
     "name": "stdout",
     "output_type": "stream",
     "text": [
      "<__main__.MyClass object at 0x00000155DBEEB6F0>\n",
      "<__main__.MyClass object at 0x00000155DBEEB6F0>\n"
     ]
    }
   ],
   "source": [
    "mc = MyClass()\n",
    "mc.instance_method() # => self\n",
    "print(mc)"
   ]
  },
  {
   "cell_type": "code",
   "execution_count": 17,
   "id": "98764278-6af0-4801-9ed0-40b28c1fdd18",
   "metadata": {},
   "outputs": [
    {
     "name": "stdout",
     "output_type": "stream",
     "text": [
      "<class '__main__.MyClass'>\n",
      "<class '__main__.MyClass'>\n"
     ]
    }
   ],
   "source": [
    "mc.class_method() # => cls\n",
    "print(MyClass)"
   ]
  },
  {
   "cell_type": "code",
   "execution_count": 32,
   "id": "97f32f5a-2c07-4e5c-9e9b-b86c9cfd242f",
   "metadata": {},
   "outputs": [],
   "source": [
    "class Puppy(): \n",
    "    num_of_puppy = 0  #모든 강아지에게 공통적으로 필요한 정보\n",
    "\n",
    "    def __init__(self, name):\n",
    "        self.name = name\n",
    "        Puppy.num_of_puppy += 1\n",
    "\n",
    "    @classmethod  #클래스에 있는 데이터에 접근\n",
    "    def info(cls): #여기서는 클래스변수에만 접근가능합니다\n",
    "        print(f'현재 강아지는 {cls.num_of_puppy}마리입니다')\n",
    "\n",
    "    def bark(self): #인스턴스가 있어야만 작동이 되는 함수\n",
    "        #여기선 Puppy.num_of_puppy를 쓰면 클래스 변수에도 접근 가능합니다\n",
    "        #만능이에여\n",
    "        print(f'멍멍! {self.name}입니다')  ## 이름은 각각 인스턴스가 갖는 데이터 #인스턴스 변수에 접근하기 위해 self\n",
    "\n",
    "    @staticmethod\n",
    "    def bark2():\n",
    "        print('왈왈!')\n",
    "        \n",
    "    "
   ]
  },
  {
   "cell_type": "code",
   "execution_count": 29,
   "id": "392183ff-5f58-4105-bee6-3615fd424265",
   "metadata": {},
   "outputs": [
    {
     "name": "stdout",
     "output_type": "stream",
     "text": [
      "현재 강아지는 3마리입니다\n"
     ]
    }
   ],
   "source": [
    "p1 = Puppy('초코')\n",
    "p2 = Puppy('구름')\n",
    "p3 = Puppy('인절미')\n",
    "Puppy.info()"
   ]
  },
  {
   "cell_type": "code",
   "execution_count": 30,
   "id": "d8db31c1-fb23-4f5f-b2e4-cc7edb091b7d",
   "metadata": {},
   "outputs": [
    {
     "name": "stdout",
     "output_type": "stream",
     "text": [
      "멍멍! 초코입니다\n"
     ]
    }
   ],
   "source": [
    "p1.bark()"
   ]
  },
  {
   "cell_type": "markdown",
   "id": "b2c2875e-7218-4d80-8c85-a955fab323e5",
   "metadata": {},
   "source": [
    "- 클래스\n",
    "    - 데이터/ 변수/ 속성/ attribute 저장\n",
    "       - 클래스 변수\n",
    "       - 인스턴스 변수\n",
    "    - 기능/ 동작/ 함수/ method 저장\n",
    "       - 클래스 변수에 접근하려면 클래스메소드 사용\n",
    "       - 인스턴스 변수에 접근하려면 인스턴스메소드 사용\n",
    "       - 둘 다 필요없는 경우 스태틱메소드 사용"
   ]
  },
  {
   "cell_type": "markdown",
   "id": "ed37885c-eaf0-46c3-a79a-374862cafb86",
   "metadata": {},
   "source": [
    "## 상속"
   ]
  },
  {
   "cell_type": "code",
   "execution_count": 2,
   "id": "159205d6-ba05-4867-9abc-ec01ac11484e",
   "metadata": {},
   "outputs": [],
   "source": [
    "class Person():\n",
    "    ident = ''\n",
    "\n",
    "    def __init__(self, name):\n",
    "        self.name = name\n",
    "\n",
    "    def greeting(self):\n",
    "        print(f'안녕하세요 {self.name}입니다')"
   ]
  },
  {
   "cell_type": "code",
   "execution_count": 3,
   "id": "d77a7fd8-8294-4e42-a2ac-97d047e23e17",
   "metadata": {},
   "outputs": [],
   "source": [
    "p1 = Person('hong')\n",
    "p2 = Person('kim')"
   ]
  },
  {
   "cell_type": "code",
   "execution_count": 4,
   "id": "6fa4f8f9-fb66-4516-9426-f326f19f53bc",
   "metadata": {},
   "outputs": [
    {
     "name": "stdout",
     "output_type": "stream",
     "text": [
      "안녕하세요 hong입니다\n",
      "안녕하세요 kim입니다\n"
     ]
    }
   ],
   "source": [
    "p1.greeting()\n",
    "p2.greeting()"
   ]
  },
  {
   "cell_type": "code",
   "execution_count": 5,
   "id": "55941c07-8f30-4c85-afe6-7aa64dda2ef4",
   "metadata": {},
   "outputs": [
    {
     "data": {
      "text/plain": [
       "'999999-111111'"
      ]
     },
     "execution_count": 5,
     "metadata": {},
     "output_type": "execute_result"
    }
   ],
   "source": [
    "p1.ident = '999999-111111'\n",
    "p1.ident"
   ]
  },
  {
   "cell_type": "code",
   "execution_count": 6,
   "id": "0696e302-faab-43a3-9d6c-39c852a17c25",
   "metadata": {},
   "outputs": [],
   "source": [
    "class Soldier(Person):\n",
    "    def greeting(self):\n",
    "        print(f'충성! {self.name}입니다')  ## 자식클래스에서 덮어씌워진대로 출력한다.\n",
    "\n",
    "        \n",
    "    #ident = ''\n",
    "\n",
    "    #def __init__(self, name):\n",
    "    #    self.name = name\n",
    "\n",
    "    #def greeting(self):\n",
    "    #    print(f'안녕하세요 {self.name}입니다')"
   ]
  },
  {
   "cell_type": "code",
   "execution_count": 7,
   "id": "99036eae-8596-417b-a83a-80c406101458",
   "metadata": {},
   "outputs": [
    {
     "name": "stdout",
     "output_type": "stream",
     "text": [
      "충성! 굳건이입니다\n"
     ]
    }
   ],
   "source": [
    "s1 = Soldier('굳건이')\n",
    "s1.greeting()"
   ]
  },
  {
   "cell_type": "code",
   "execution_count": 8,
   "id": "703e420f-1357-44b6-b37b-ea82976e7182",
   "metadata": {},
   "outputs": [
    {
     "data": {
      "text/plain": [
       "'25-1234-1234'"
      ]
     },
     "execution_count": 8,
     "metadata": {},
     "output_type": "execute_result"
    }
   ],
   "source": [
    "s1.ident = '25-1234-1234'\n",
    "s1.ident"
   ]
  },
  {
   "cell_type": "code",
   "execution_count": 59,
   "id": "1dc9fddf-61d2-4816-aae5-8bcb1495c1e0",
   "metadata": {},
   "outputs": [],
   "source": [
    "class Person():\n",
    "    def __init__(self, name, age, email, phone):\n",
    "        self.name = name\n",
    "        self.age = age\n",
    "        self.email = email\n",
    "        self.phone = phone\n",
    "\n",
    "class Student(Person):\n",
    "    def __init__(self, name, age, email, phone, student_id):\n",
    "        super().__init__(name, age, email, phone)  #부모가 가지고 있는 함수를 실행하기 : super()\n",
    "        self.student_id = student_id"
   ]
  },
  {
   "cell_type": "markdown",
   "id": "2caefac3-6b3d-4723-b1d4-7bffbb8793d6",
   "metadata": {},
   "source": [
    "### 다중상속"
   ]
  },
  {
   "cell_type": "code",
   "execution_count": 65,
   "id": "ee26421a-2e39-4bdf-837c-c5201d97101d",
   "metadata": {},
   "outputs": [],
   "source": [
    "class Person():\n",
    "    def __init__(self, name):\n",
    "        self.name = name\n",
    "\n",
    "    def breath(self):\n",
    "        print('후하')"
   ]
  },
  {
   "cell_type": "code",
   "execution_count": 66,
   "id": "e15cd072-b4b8-46a8-9214-3d7ad3d2dde9",
   "metadata": {},
   "outputs": [],
   "source": [
    "class Mom(Person):\n",
    "    gene = 'xx'\n",
    "\n",
    "    def swim(self):\n",
    "        print('어푸어푸')"
   ]
  },
  {
   "cell_type": "code",
   "execution_count": 67,
   "id": "14e3a1b6-6724-43c6-81c4-84e34b5bbf5b",
   "metadata": {},
   "outputs": [],
   "source": [
    "class Dad(Person):\n",
    "    gene = 'xy'\n",
    "\n",
    "    def run(self):\n",
    "        print('다다다')"
   ]
  },
  {
   "cell_type": "code",
   "execution_count": 69,
   "id": "b4ae9595-f95d-4d38-840e-e3bf1136d5c1",
   "metadata": {},
   "outputs": [],
   "source": [
    "class Child(Mom, Dad):\n",
    "    pass"
   ]
  },
  {
   "cell_type": "code",
   "execution_count": 71,
   "id": "92ee02ad-525b-4a7c-b18d-68bfc14ec91f",
   "metadata": {},
   "outputs": [
    {
     "name": "stdout",
     "output_type": "stream",
     "text": [
      "후하\n",
      "다다다\n",
      "어푸어푸\n"
     ]
    }
   ],
   "source": [
    "c = Child('금쪽이')\n",
    "c.breath()\n",
    "c.run()\n",
    "c.swim()"
   ]
  },
  {
   "cell_type": "code",
   "execution_count": 74,
   "id": "b5834235-a386-49b5-8487-6c1d5bbd14fb",
   "metadata": {},
   "outputs": [
    {
     "data": {
      "text/plain": [
       "'xx'"
      ]
     },
     "execution_count": 74,
     "metadata": {},
     "output_type": "execute_result"
    }
   ],
   "source": [
    "c.gene  #엄마의 gender를 출력함 (엄마를 앞에 써서)\n",
    "# 다중상속에서는 먼저 상속된게 우선순위를 갖는다"
   ]
  }
 ],
 "metadata": {
  "kernelspec": {
   "display_name": "Python 3 (ipykernel)",
   "language": "python",
   "name": "python3"
  },
  "language_info": {
   "codemirror_mode": {
    "name": "ipython",
    "version": 3
   },
   "file_extension": ".py",
   "mimetype": "text/x-python",
   "name": "python",
   "nbconvert_exporter": "python",
   "pygments_lexer": "ipython3",
   "version": "3.13.2"
  }
 },
 "nbformat": 4,
 "nbformat_minor": 5
}
