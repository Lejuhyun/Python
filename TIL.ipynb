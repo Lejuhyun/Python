{
 "cells": [
  {
   "cell_type": "markdown",
   "id": "fea67969-6be9-4ba1-828f-3c2367c5a4db",
   "metadata": {},
   "source": [
    "# 01. 변수\n",
    "## 1. number\n",
    "- int: 정수형\n",
    "- float: 실수형\n",
    "- complex: 복소수\n",
    "## 2. Boolean\n",
    "- True or False를 반환\n",
    "## 3. String\n",
    "- `''`, `\"\"`를 이용하여 표현한다\n",
    "- **인덱스 기반 접근**\n",
    "- **수정 불가능(immutable)**\n",
    "- \\n : 줄바꾸기\n",
    "- \\' : 작은따옴표를 문자열 안에서 표현\n"
   ]
  },
  {
   "cell_type": "markdown",
   "id": "3f6ae852-8123-4cee-b03f-742f591508e5",
   "metadata": {},
   "source": [
    "# 문자열 메소드\n",
    "## 1. calculation\n",
    "- len() : 문자열 길이\n",
    "- min() : 문자열 내 최솟값\n",
    "- max() : 문자열 내 최댓값\n",
    "- count() : 문자열에서 해당 글자의 개수"
   ]
  },
  {
   "cell_type": "code",
   "execution_count": 4,
   "id": "f4dfa2ba-787f-4ab5-820e-9d8d698a7835",
   "metadata": {},
   "outputs": [
    {
     "name": "stdout",
     "output_type": "stream",
     "text": [
      "10\n"
     ]
    },
    {
     "data": {
      "text/plain": [
       "2"
      ]
     },
     "execution_count": 4,
     "metadata": {},
     "output_type": "execute_result"
    }
   ],
   "source": [
    "a = 'I Love you'\n",
    "print(len(a))\n",
    "a.count('o')"
   ]
  },
  {
   "cell_type": "markdown",
   "id": "ed586481-8437-4d6f-ba2c-cb6625363c90",
   "metadata": {},
   "source": [
    "## 2. Split, Join, Fill, Replace\n",
    "- a.split() : 문자열을 분리하여 리스트 반환\n",
    "- a.replace('old','new',[count]) : old 문자열을 new 문자열로 교체. [count]개 만큼만 대체\n",
    "- '  '.join() : 괄호 안의 리스트를 하나의 문자열로 합쳐준다\n"
   ]
  },
  {
   "cell_type": "code",
   "execution_count": 7,
   "id": "ce4ac8fb-4046-4b82-b12f-19ff46695e91",
   "metadata": {},
   "outputs": [
    {
     "data": {
      "text/plain": [
       "'my!name!is'"
      ]
     },
     "execution_count": 7,
     "metadata": {},
     "output_type": "execute_result"
    }
   ],
   "source": [
    "my_list = ['my', 'name', 'is']\n",
    "'!'.join(my_list)"
   ]
  },
  {
   "cell_type": "code",
   "execution_count": 10,
   "id": "1973089f-0ae0-489f-9c50-e19aa0776d71",
   "metadata": {},
   "outputs": [
    {
     "data": {
      "text/plain": [
       "'w!!!ooooooow'"
      ]
     },
     "execution_count": 10,
     "metadata": {},
     "output_type": "execute_result"
    }
   ],
   "source": [
    "a = 'woooooooooow'\n",
    "a.replace('o','!',3)"
   ]
  },
  {
   "cell_type": "code",
   "execution_count": 12,
   "id": "124131f5-b5b9-44a8-b35b-0decc5bf009b",
   "metadata": {},
   "outputs": [
    {
     "data": {
      "text/plain": [
       "['My', 'name', 'is', 'hong']"
      ]
     },
     "execution_count": 12,
     "metadata": {},
     "output_type": "execute_result"
    }
   ],
   "source": [
    "a = 'My name is hong'\n",
    "a.split()  #띄어쓰기 기준으로 분리"
   ]
  },
  {
   "cell_type": "markdown",
   "id": "1b56c6a8-1938-4a97-b39f-ef8d99808e14",
   "metadata": {},
   "source": [
    "# 리스트 메소드\n",
    "## 1. 데이터 추가\n",
    "- a.append() : 마지막에 하나의 데이터 추가\n",
    "- a.extend() : 마지막에 여러개의 데이터(리스트)를 추가\n",
    "- a.insert(index_nuber, 숫자) : 내가 원하는 위치에 데이터 추가\n",
    "\n",
    "## 2. 데이터 제거\n",
    "- a.remove(x) : x를 제거\n",
    "- a.pop() : 맨 마지막 데이터 제거\n",
    "- a.pop(x) : 인덱스넘버로 원하는 데"
   ]
  }
 ],
 "metadata": {
  "kernelspec": {
   "display_name": "Python 3 (ipykernel)",
   "language": "python",
   "name": "python3"
  },
  "language_info": {
   "codemirror_mode": {
    "name": "ipython",
    "version": 3
   },
   "file_extension": ".py",
   "mimetype": "text/x-python",
   "name": "python",
   "nbconvert_exporter": "python",
   "pygments_lexer": "ipython3",
   "version": "3.13.2"
  }
 },
 "nbformat": 4,
 "nbformat_minor": 5
}
