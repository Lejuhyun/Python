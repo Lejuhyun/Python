{
 "cells": [
  {
   "cell_type": "markdown",
   "id": "fea67969-6be9-4ba1-828f-3c2367c5a4db",
   "metadata": {},
   "source": [
    "# 01. 변수\n",
    "## 1-1. number\n",
    "- int: 정수형\n",
    "- float: 실수형\n",
    "- complex: 복소수\n",
    "## 1-2. Boolean\n",
    "- True or False를 반환\n",
    "## 1-3. String\n",
    "- `''`, `\"\"`를 이용하여 표현한다\n",
    "- **인덱스 기반 접근**\n",
    "- **수정 불가능(immutable)**\n",
    "- \\n : 줄바꾸기\n",
    "- \\' : 작은따옴표를 문자열 안에서 표현\n"
   ]
  },
  {
   "cell_type": "markdown",
   "id": "3f6ae852-8123-4cee-b03f-742f591508e5",
   "metadata": {},
   "source": [
    "# 02. 문자열 메소드\n",
    "## 2-1. calculation\n",
    "- len() : 문자열 길이\n",
    "- min() : 문자열 내 최솟값\n",
    "- max() : 문자열 내 최댓값\n",
    "- count() : 문자열에서 해당 글자의 개수"
   ]
  },
  {
   "cell_type": "code",
   "execution_count": 4,
   "id": "f4dfa2ba-787f-4ab5-820e-9d8d698a7835",
   "metadata": {},
   "outputs": [
    {
     "name": "stdout",
     "output_type": "stream",
     "text": [
      "10\n"
     ]
    },
    {
     "data": {
      "text/plain": [
       "2"
      ]
     },
     "execution_count": 4,
     "metadata": {},
     "output_type": "execute_result"
    }
   ],
   "source": [
    "a = 'I Love you'\n",
    "print(len(a))\n",
    "a.count('o')"
   ]
  },
  {
   "cell_type": "markdown",
   "id": "ed586481-8437-4d6f-ba2c-cb6625363c90",
   "metadata": {},
   "source": [
    "## 2-2. Split, Join, Fill, Replace\n",
    "- a.split() : 문자열을 분리하여 리스트 반환\n",
    "- a.replace('old','new',[count]) : old 문자열을 new 문자열로 교체. [count]개 만큼만 대체\n",
    "- '  '.join() : 괄호 안의 리스트를 하나의 문자열로 합쳐준다\n"
   ]
  },
  {
   "cell_type": "code",
   "execution_count": 7,
   "id": "ce4ac8fb-4046-4b82-b12f-19ff46695e91",
   "metadata": {},
   "outputs": [
    {
     "data": {
      "text/plain": [
       "'my!name!is'"
      ]
     },
     "execution_count": 7,
     "metadata": {},
     "output_type": "execute_result"
    }
   ],
   "source": [
    "my_list = ['my', 'name', 'is']\n",
    "'!'.join(my_list)"
   ]
  },
  {
   "cell_type": "code",
   "execution_count": 10,
   "id": "1973089f-0ae0-489f-9c50-e19aa0776d71",
   "metadata": {},
   "outputs": [
    {
     "data": {
      "text/plain": [
       "'w!!!ooooooow'"
      ]
     },
     "execution_count": 10,
     "metadata": {},
     "output_type": "execute_result"
    }
   ],
   "source": [
    "a = 'woooooooooow'\n",
    "a.replace('o','!',3)"
   ]
  },
  {
   "cell_type": "code",
   "execution_count": 12,
   "id": "124131f5-b5b9-44a8-b35b-0decc5bf009b",
   "metadata": {},
   "outputs": [
    {
     "data": {
      "text/plain": [
       "['My', 'name', 'is', 'hong']"
      ]
     },
     "execution_count": 12,
     "metadata": {},
     "output_type": "execute_result"
    }
   ],
   "source": [
    "a = 'My name is hong'\n",
    "a.split()  #띄어쓰기 기준으로 분리"
   ]
  },
  {
   "cell_type": "markdown",
   "id": "aa051dee-44e3-4ce0-aac1-e1e3e09d43e5",
   "metadata": {},
   "source": [
    "## 2-3. 대문자, 소문자\n",
    "- a.capitalize() : 첫번째 문자를 대문자로 바꿈\n",
    "- a.title() : 각 단어의 첫번째 문자를 대문자로 바꿈\n",
    "- a.upper() : 모든 문자를 대문자로 바꿈\n",
    "- a.lower() : 모든 문자를 소문자로 바꿈"
   ]
  },
  {
   "cell_type": "code",
   "execution_count": 6,
   "id": "e692cab3-77b3-41d8-bf36-5cf8f5b32982",
   "metadata": {},
   "outputs": [
    {
     "name": "stdout",
     "output_type": "stream",
     "text": [
      "Hello my name is hong\n",
      "Hello My Name Is Hong\n",
      "HELLO MY NAME IS HONG\n",
      "hello my name is hong\n"
     ]
    }
   ],
   "source": [
    "a = 'hello my name is hong'\n",
    "print(a.capitalize())\n",
    "print(a.title())\n",
    "print(a.upper())\n",
    "print(a.lower())"
   ]
  },
  {
   "cell_type": "markdown",
   "id": "1b56c6a8-1938-4a97-b39f-ef8d99808e14",
   "metadata": {},
   "source": [
    "# 03. 리스트 메소드\n",
    "## 3-1. 데이터 추가\n",
    "- a.append() : 마지막에 하나의 데이터 추가\n",
    "- a.extend() : 마지막에 여러개의 데이터(리스트)를 추가\n",
    "- a.insert(index_nuber, 숫자) : 내가 원하는 위치에 데이터 추가\n",
    "\n",
    "## 3-2. 데이터 제거\n",
    "- a.remove(x) : x를 제거\n",
    "- a.pop() : 맨 마지막 데이터 제거\n",
    "- a.pop(x) : 인덱스넘버로 원하는 데"
   ]
  },
  {
   "cell_type": "code",
   "execution_count": null,
   "id": "d9a614cb-9d47-4ae2-bfc3-bedd8a1fda67",
   "metadata": {},
   "outputs": [],
   "source": [
    "class Food:\n",
    "    def __init__(self, name, price):\n",
    "        self.name =name\n",
    "        self.price = price\n",
    "    def get_price(self): #함수안에 다 self 넣자\n",
    "        return self.price\n",
    "    def get_info(self):\n",
    "        print(f'{self.name}의 가격은 {self.prcie}입니다')\n",
    "\n",
    "class MainDish(Food):\n",
    "    def __init__(self, name, price, calories):\n",
    "        super().__init__(name, price) #self 필요 없음\n",
    "        self.calories = calories\n",
    "    def get_info(self):\n",
    "        print(f'{self.name}- 가격{self.price}원, {self.calories}kcal')\n",
    "class Dessert(Food):\n",
    "    def __init__(self, name, price, Sweetness_level):\n",
    "        super().__init(name,price)\n",
    "        self.Sweetness_level = Sweetness_level\n",
    "    def get_info(self):\n",
    "        print(f'{self.name}-{self.price}원, Sweetness: {self.Sweetness_level}/5')\n",
    "class Beverage(Food):\n",
    "    def __init__(self, name, price, size):\n",
    "        super().__init__(name, price)\n",
    "        self.size = size\n",
    "    def size_price(self):\n",
    "        if self.size == 'M':\n",
    "         #size_price = self.price + 500 # 지역변수는 다른 함수에서 사용못함\n",
    "            return self.price + 500 #return이 있어야 다른 메서드에서 값을 가져올 수 있다\n",
    "        elif size == 'L':\n",
    "            return self.price + 1000\n",
    "        else: \n",
    "            return self.price\n",
    "    def get_info(self): #get_info를 오버라이딩하면 Food의 get_info가 아닌 Beverage의 get_info 사용\n",
    "        print(f'{self.name}(Beverage, {self.size})-{self.size_price()}원)')\n",
    "\n",
    "class Restaurant(Food):\n",
    "    def __init__(self,name, price, res_name): #객체 생성할때 자동으로 호출되는 생성자\n",
    "        super().__init__(name, price)\n",
    "        self.res_name = res_name\n",
    "        self.menu = []\n",
    "    def add_to_menu(self,food):#메서드가 호출될 때 필요한 값\n",
    "        self.menu.append(food)\n",
    "    def show_menu(self):\n",
    "        return [for menu in self.menu]\n",
    "    "
   ]
  },
  {
   "cell_type": "markdown",
   "id": "d9928250-ea33-4d99-aa1c-d35ef8dde3d3",
   "metadata": {},
   "source": [
    "1. init에서의 변수\n",
    "   - 객체가 생성될 때 자동으로 호출\n",
    "3. 일반 메서드에서의 변수\n",
    "   - 매서드 내에서 필요한 변수"
   ]
  },
  {
   "cell_type": "code",
   "execution_count": 4,
   "id": "95522a18-29aa-4f7f-8aec-0f5883542aff",
   "metadata": {},
   "outputs": [],
   "source": [
    "class Phone:\n",
    "    def __init__(self, name, number,power):\n",
    "        self.name = name\n",
    "        self.number = number\n",
    "        self.power= power\n",
    "        self.phone_book = {}\n",
    "\n",
    "    def phone_book(self):\n",
    "        self.phone_book[self.name] = self.number\n",
    "        return self.phone_book\n",
    "\n",
    "    def off(self):\n",
    "        if self.power == True:\n",
    "            self.power = False\n",
    "\n",
    "    def call(self, target):\n",
    "        if self.power == True:\n",
    "            print(f'{self.number}가 {target.number}에게 전화거는 중')\n",
    "        else:\n",
    "            print('전원이 꺼져있습니다.')\n",
    "        \n",
    "\n",
    "phone1 = Phone('주현', '010-9901-1111', True)\n",
    "phone2 = Phone('진욱', '010-5041-1111', False)\n",
    "         "
   ]
  },
  {
   "cell_type": "code",
   "execution_count": 5,
   "id": "b48b12ea-63c3-491c-876f-a3d9fa6b7a2f",
   "metadata": {},
   "outputs": [
    {
     "ename": "TypeError",
     "evalue": "'dict' object is not callable",
     "output_type": "error",
     "traceback": [
      "\u001b[1;31m---------------------------------------------------------------------------\u001b[0m",
      "\u001b[1;31mTypeError\u001b[0m                                 Traceback (most recent call last)",
      "Cell \u001b[1;32mIn[5], line 1\u001b[0m\n\u001b[1;32m----> 1\u001b[0m \u001b[43mphone1\u001b[49m\u001b[38;5;241;43m.\u001b[39;49m\u001b[43mphone_book\u001b[49m\u001b[43m(\u001b[49m\u001b[43m)\u001b[49m\n",
      "\u001b[1;31mTypeError\u001b[0m: 'dict' object is not callable"
     ]
    }
   ],
   "source": [
    "phone1.phone_book()"
   ]
  },
  {
   "cell_type": "code",
   "execution_count": null,
   "id": "53afa9f3-6982-4d24-b42e-759d0735ac9a",
   "metadata": {},
   "outputs": [],
   "source": []
  }
 ],
 "metadata": {
  "kernelspec": {
   "display_name": "Python 3 (ipykernel)",
   "language": "python",
   "name": "python3"
  },
  "language_info": {
   "codemirror_mode": {
    "name": "ipython",
    "version": 3
   },
   "file_extension": ".py",
   "mimetype": "text/x-python",
   "name": "python",
   "nbconvert_exporter": "python",
   "pygments_lexer": "ipython3",
   "version": "3.13.2"
  }
 },
 "nbformat": 4,
 "nbformat_minor": 5
}
