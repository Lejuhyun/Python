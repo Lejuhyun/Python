{
 "cells": [
  {
   "cell_type": "markdown",
   "id": "ec01c601-6033-4df3-bfca-8e198121611c",
   "metadata": {},
   "source": [
    "# 01.intro\n",
    "\n",
    "## shortcut\n",
    "\n",
    "- ctrl + enter : 현재 셀 실행\n",
    "- shift + enter : 현재 셀 실행 & 아래로 이동\n",
    "- alt + enter : 현재 셀 실행 & 아래에 새로운 셀 추가"
   ]
  },
  {
   "cell_type": "markdown",
   "id": "157ceccb-1767-45c6-b41e-f955004f5946",
   "metadata": {},
   "source": [
    "## 주의사항\n",
    "\n",
    "1. Apple / apple (대소문자 주의)\n",
    "2. git add. / git add .\n",
    "3. messge / massage"
   ]
  },
  {
   "cell_type": "markdown",
   "id": "c658c9a3-527a-4856-b617-266e1698888b",
   "metadata": {},
   "source": [
    "# 01. 변수\n",
    "```\n",
    "var_name = value\n",
    "```\n",
    "\n",
    "- 변수 이름은 어떤 이름이든 사용가능\n",
    "- 다만 영어, 숫자, _fmf dldydgotj tjsdjs\n",
    "- 키워드는 불가능"
   ]
  },
  {
   "cell_type": "code",
   "execution_count": 10,
   "id": "df48308a-ea0c-433b-9883-7d93ff4565d6",
   "metadata": {},
   "outputs": [],
   "source": [
    "a = 100"
   ]
  },
  {
   "cell_type": "code",
   "execution_count": 4,
   "id": "e63a0812-0c7a-4dc0-85fe-7a4c1776741e",
   "metadata": {},
   "outputs": [
    {
     "data": {
      "text/plain": [
       "100"
      ]
     },
     "execution_count": 4,
     "metadata": {},
     "output_type": "execute_result"
    }
   ],
   "source": [
    "a"
   ]
  },
  {
   "cell_type": "code",
   "execution_count": 6,
   "id": "90c4d9a0-d38e-43f4-bd61-ddbbded89c5b",
   "metadata": {},
   "outputs": [
    {
     "data": {
      "text/plain": [
       "['False',\n",
       " 'None',\n",
       " 'True',\n",
       " 'and',\n",
       " 'as',\n",
       " 'assert',\n",
       " 'async',\n",
       " 'await',\n",
       " 'break',\n",
       " 'class',\n",
       " 'continue',\n",
       " 'def',\n",
       " 'del',\n",
       " 'elif',\n",
       " 'else',\n",
       " 'except',\n",
       " 'finally',\n",
       " 'for',\n",
       " 'from',\n",
       " 'global',\n",
       " 'if',\n",
       " 'import',\n",
       " 'in',\n",
       " 'is',\n",
       " 'lambda',\n",
       " 'nonlocal',\n",
       " 'not',\n",
       " 'or',\n",
       " 'pass',\n",
       " 'raise',\n",
       " 'return',\n",
       " 'try',\n",
       " 'while',\n",
       " 'with',\n",
       " 'yield']"
      ]
     },
     "execution_count": 6,
     "metadata": {},
     "output_type": "execute_result"
    }
   ],
   "source": [
    "import keyword\n",
    "keyword.kwlist"
   ]
  },
  {
   "cell_type": "markdown",
   "id": "cfa7a491-fe83-4e57-84f7-48cfcd0a8783",
   "metadata": {},
   "source": [
    "# 1.1 number\n",
    "- int : 정수형\n",
    "- float : 실수형\n",
    "- complex: 복소수"
   ]
  },
  {
   "cell_type": "code",
   "execution_count": 8,
   "id": "e2d7f06b-eda9-40e4-ae2e-52e87f8bb74d",
   "metadata": {},
   "outputs": [],
   "source": [
    "a = 10000"
   ]
  },
  {
   "cell_type": "code",
   "execution_count": 9,
   "id": "43c39dbf-127f-4878-b97a-322dfc0fcf52",
   "metadata": {},
   "outputs": [
    {
     "data": {
      "text/plain": [
       "10000"
      ]
     },
     "execution_count": 9,
     "metadata": {},
     "output_type": "execute_result"
    }
   ],
   "source": [
    "a"
   ]
  },
  {
   "cell_type": "code",
   "execution_count": 11,
   "id": "ab1e0efa-8837-409a-9815-da79cf48b9e9",
   "metadata": {},
   "outputs": [
    {
     "data": {
      "text/plain": [
       "int"
      ]
     },
     "execution_count": 11,
     "metadata": {},
     "output_type": "execute_result"
    }
   ],
   "source": [
    "type(a)"
   ]
  },
  {
   "cell_type": "code",
   "execution_count": 14,
   "id": "dff58a65-ee75-49f3-a6b9-cfc734925c0c",
   "metadata": {},
   "outputs": [],
   "source": [
    "b = 1.1"
   ]
  },
  {
   "cell_type": "code",
   "execution_count": 15,
   "id": "38fb0bbb-85e3-401b-9c0b-2c1d526a3417",
   "metadata": {},
   "outputs": [
    {
     "data": {
      "text/plain": [
       "1.1"
      ]
     },
     "execution_count": 15,
     "metadata": {},
     "output_type": "execute_result"
    }
   ],
   "source": [
    "b"
   ]
  },
  {
   "cell_type": "code",
   "execution_count": 13,
   "id": "dc9e3c50-4d0a-43f4-920a-797e679ffcd5",
   "metadata": {},
   "outputs": [
    {
     "data": {
      "text/plain": [
       "float"
      ]
     },
     "execution_count": 13,
     "metadata": {},
     "output_type": "execute_result"
    }
   ],
   "source": [
    "type(b)"
   ]
  },
  {
   "cell_type": "code",
   "execution_count": 16,
   "id": "e82dbed2-9510-4e2f-a631-f49b831bd257",
   "metadata": {},
   "outputs": [],
   "source": [
    "c = 1 + 1j"
   ]
  },
  {
   "cell_type": "code",
   "execution_count": 17,
   "id": "53fe2e9c-c329-4e7b-962e-8052f7d599c9",
   "metadata": {},
   "outputs": [
    {
     "data": {
      "text/plain": [
       "(1+1j)"
      ]
     },
     "execution_count": 17,
     "metadata": {},
     "output_type": "execute_result"
    }
   ],
   "source": [
    "c"
   ]
  },
  {
   "cell_type": "code",
   "execution_count": 18,
   "id": "e542f81f-277f-44a9-8a3e-e6ed5abe4ac3",
   "metadata": {},
   "outputs": [
    {
     "data": {
      "text/plain": [
       "complex"
      ]
     },
     "execution_count": 18,
     "metadata": {},
     "output_type": "execute_result"
    }
   ],
   "source": [
    "type(c)"
   ]
  },
  {
   "cell_type": "markdown",
   "id": "cef78b52-ec45-467f-9abd-d78b989237bc",
   "metadata": {},
   "source": [
    "## 1.2 boolean"
   ]
  },
  {
   "cell_type": "code",
   "execution_count": 19,
   "id": "26c88db1-a5a6-4dc1-88ca-58a0d1435cdb",
   "metadata": {},
   "outputs": [],
   "source": [
    "a = True"
   ]
  },
  {
   "cell_type": "code",
   "execution_count": 20,
   "id": "e3eb70b2-1235-4abe-ade0-5231ac221600",
   "metadata": {},
   "outputs": [
    {
     "data": {
      "text/plain": [
       "True"
      ]
     },
     "execution_count": 20,
     "metadata": {},
     "output_type": "execute_result"
    }
   ],
   "source": [
    "a"
   ]
  },
  {
   "cell_type": "code",
   "execution_count": 21,
   "id": "4cbfedc3-78d0-47c3-bbf6-26607af05d9d",
   "metadata": {},
   "outputs": [
    {
     "data": {
      "text/plain": [
       "bool"
      ]
     },
     "execution_count": 21,
     "metadata": {},
     "output_type": "execute_result"
    }
   ],
   "source": [
    "type(a)"
   ]
  },
  {
   "cell_type": "code",
   "execution_count": 22,
   "id": "949af5ff-494a-48d1-b768-45ab44913161",
   "metadata": {},
   "outputs": [],
   "source": [
    "b = False"
   ]
  },
  {
   "cell_type": "code",
   "execution_count": 23,
   "id": "b509a9b4-8f9c-42cf-87de-7aef89c770cb",
   "metadata": {},
   "outputs": [
    {
     "data": {
      "text/plain": [
       "False"
      ]
     },
     "execution_count": 23,
     "metadata": {},
     "output_type": "execute_result"
    }
   ],
   "source": [
    "b"
   ]
  },
  {
   "cell_type": "code",
   "execution_count": 24,
   "id": "5207a195-d0a4-4897-b96d-4e77cba365fd",
   "metadata": {},
   "outputs": [
    {
     "data": {
      "text/plain": [
       "bool"
      ]
     },
     "execution_count": 24,
     "metadata": {},
     "output_type": "execute_result"
    }
   ],
   "source": [
    "type(b)"
   ]
  },
  {
   "cell_type": "code",
   "execution_count": null,
   "id": "76a51ba9-c7a8-4f09-b127-0df48dfd6718",
   "metadata": {},
   "outputs": [],
   "source": []
  },
  {
   "cell_type": "markdown",
   "id": "b2184aba-ad37-4b36-8b0b-284aa0d77da2",
   "metadata": {},
   "source": [
    "## 1.3 String\n",
    "- 문자열 `'`, `\"` 를 이용하여 표현\n",
    "- `\\n` : 줄바꾸기\n",
    "- `\\'` : 작은 따옴표를 그대로 표현"
   ]
  },
  {
   "cell_type": "code",
   "execution_count": 25,
   "id": "f4ba9e41-4eab-4c77-aa9b-6827652c5c27",
   "metadata": {},
   "outputs": [],
   "source": [
    "a = 'hello'"
   ]
  },
  {
   "cell_type": "code",
   "execution_count": 26,
   "id": "61847855-44f5-464d-9386-a1f07e4acfc8",
   "metadata": {},
   "outputs": [],
   "source": [
    "b = \"hi\""
   ]
  },
  {
   "cell_type": "code",
   "execution_count": 27,
   "id": "90608e25-54eb-48cc-919f-2a141cc6ace6",
   "metadata": {},
   "outputs": [
    {
     "data": {
      "text/plain": [
       "'hello'"
      ]
     },
     "execution_count": 27,
     "metadata": {},
     "output_type": "execute_result"
    }
   ],
   "source": [
    "a"
   ]
  },
  {
   "cell_type": "code",
   "execution_count": 28,
   "id": "2f22bc2d-b07a-45c0-81f2-10aab2a02d31",
   "metadata": {},
   "outputs": [
    {
     "data": {
      "text/plain": [
       "'hi'"
      ]
     },
     "execution_count": 28,
     "metadata": {},
     "output_type": "execute_result"
    }
   ],
   "source": [
    "b"
   ]
  },
  {
   "cell_type": "code",
   "execution_count": 29,
   "id": "0f82cd22-8945-417c-8cc1-d900bf13900c",
   "metadata": {},
   "outputs": [
    {
     "name": "stdout",
     "output_type": "stream",
     "text": [
      "hello\n"
     ]
    }
   ],
   "source": [
    "print('hello')"
   ]
  },
  {
   "cell_type": "code",
   "execution_count": 82,
   "id": "3b1caf91-07fd-4224-ae8e-2147f480b61a",
   "metadata": {},
   "outputs": [
    {
     "name": "stdout",
     "output_type": "stream",
     "text": [
      "hello my name is 'changhee'\n"
     ]
    }
   ],
   "source": [
    "print('hello my name is \\'changhee\\'') #작은 따옴표를 그대로 표현하려면 \\' 를 사용한다"
   ]
  },
  {
   "cell_type": "code",
   "execution_count": 83,
   "id": "58f18139-9102-4600-9bc2-80dc7da92411",
   "metadata": {},
   "outputs": [
    {
     "name": "stdout",
     "output_type": "stream",
     "text": [
      "hello\n",
      " my name is 'changhee'\n"
     ]
    }
   ],
   "source": [
    "print('hello\\n my name is \\'changhee\\'') #문자열 안에서 줄을 바꿀 때 \\n을 사용한다"
   ]
  },
  {
   "cell_type": "code",
   "execution_count": 35,
   "id": "ba390982-15d3-4293-8e61-9bbf5e2ae966",
   "metadata": {},
   "outputs": [],
   "source": [
    "a = '''\n",
    "hello\n",
    "world \n",
    "hi\n",
    "'''"
   ]
  },
  {
   "cell_type": "code",
   "execution_count": 36,
   "id": "a952e880-10e8-4fb4-ae09-22e87d4fe70e",
   "metadata": {},
   "outputs": [
    {
     "data": {
      "text/plain": [
       "'\\nhello\\nworld \\nhi\\n'"
      ]
     },
     "execution_count": 36,
     "metadata": {},
     "output_type": "execute_result"
    }
   ],
   "source": [
    "a"
   ]
  },
  {
   "cell_type": "code",
   "execution_count": 38,
   "id": "3eb7e5ac-6011-49f5-9e49-a355fb019643",
   "metadata": {},
   "outputs": [],
   "source": [
    "a = 10\n",
    "b = '홍길동은 a살입니다.'"
   ]
  },
  {
   "cell_type": "markdown",
   "id": "08b93b6d-337d-4c5c-a14c-488c5995e271",
   "metadata": {},
   "source": [
    "## 1.4 string interpolation\n",
    "- %-formating\n",
    "- str.format()\n",
    "- f-string ->얘를 이용할 예정\n"
   ]
  },
  {
   "cell_type": "code",
   "execution_count": 48,
   "id": "914f1ecd-7762-4cb6-ad7f-fe3ba97aa2d6",
   "metadata": {},
   "outputs": [],
   "source": [
    "age = 10"
   ]
  },
  {
   "cell_type": "code",
   "execution_count": 46,
   "id": "bf6b5c1e-1721-4177-8c10-6cdc229eda35",
   "metadata": {},
   "outputs": [
    {
     "name": "stdout",
     "output_type": "stream",
     "text": [
      "홍길동은 10살입니다.\n"
     ]
    }
   ],
   "source": [
    "print('홍길동은 %s살입니다.' % age) "
   ]
  },
  {
   "cell_type": "code",
   "execution_count": 50,
   "id": "36ebd1b9-2aea-42f4-8859-4185edbf20d9",
   "metadata": {},
   "outputs": [
    {
     "name": "stdout",
     "output_type": "stream",
     "text": [
      "홍길동은 10살입니다.\n"
     ]
    }
   ],
   "source": [
    "print('홍길동은 {}살입니다.'.format(age))"
   ]
  },
  {
   "cell_type": "code",
   "execution_count": 51,
   "id": "dfb9b06f-1154-43dd-8d8c-e5776c92a6fd",
   "metadata": {},
   "outputs": [
    {
     "name": "stdout",
     "output_type": "stream",
     "text": [
      "홍길동은 10살입니다.\n"
     ]
    }
   ],
   "source": [
    "print(f'홍길동은 {age}살입니다.')"
   ]
  },
  {
   "cell_type": "markdown",
   "id": "ce808106-795d-47e7-8fae-41c21d2a337a",
   "metadata": {},
   "source": [
    "# 02. 연산자"
   ]
  },
  {
   "cell_type": "markdown",
   "id": "db119ef0-b50f-4641-9bf3-fa13915d2ee1",
   "metadata": {},
   "source": [
    "## 2.1 산술연산자\n",
    "- `x ** y`: x의 y제곱\n",
    "- `x // y`: x를 y로 나눈 몫\n",
    "- `x % y` : x를 y로 나눈 나머지"
   ]
  },
  {
   "cell_type": "code",
   "execution_count": 62,
   "id": "40c9ac0a-98d1-49a4-ac2c-d4bb24a8bcbd",
   "metadata": {},
   "outputs": [],
   "source": [
    "a = 5\n",
    "b = 2"
   ]
  },
  {
   "cell_type": "code",
   "execution_count": 65,
   "id": "306cb6b4-581c-41a0-b4a2-cb52cda910b8",
   "metadata": {},
   "outputs": [
    {
     "name": "stdout",
     "output_type": "stream",
     "text": [
      "7\n",
      "3\n",
      "10\n",
      "2.5\n"
     ]
    }
   ],
   "source": [
    "print(a+b)\n",
    "print(a-b)\n",
    "print(a*b)\n",
    "print(a/b)"
   ]
  },
  {
   "cell_type": "code",
   "execution_count": 69,
   "id": "bce3ff05-9601-4a98-bbee-d4c037216864",
   "metadata": {},
   "outputs": [
    {
     "name": "stdout",
     "output_type": "stream",
     "text": [
      "25\n",
      "2\n",
      "1\n"
     ]
    }
   ],
   "source": [
    "print(a**b) # a의 b제곱\n",
    "print(a//b) # 몫\n",
    "print(a%b) # 나머지"
   ]
  },
  {
   "cell_type": "code",
   "execution_count": 68,
   "id": "854c720a-7777-4ee3-880f-9f42012fecb2",
   "metadata": {},
   "outputs": [
    {
     "name": "stdout",
     "output_type": "stream",
     "text": [
      "(2, 1)\n"
     ]
    }
   ],
   "source": [
    "result = divmod(a,b) #divmod(a,b) => (a를 b로 나눈 몫, 나머지)\n",
    "print(result)"
   ]
  },
  {
   "cell_type": "markdown",
   "id": "bb485655-9bc5-4143-927e-f3230c049820",
   "metadata": {},
   "source": [
    "## 2.2 비교연산자"
   ]
  },
  {
   "cell_type": "code",
   "execution_count": 70,
   "id": "293916c0-fa0d-45dd-bf77-1f21c0a950cc",
   "metadata": {},
   "outputs": [],
   "source": [
    "a = 5\n",
    "b = 10"
   ]
  },
  {
   "cell_type": "code",
   "execution_count": 75,
   "id": "a55d68cc-7cb5-4d19-9776-864c83e3f405",
   "metadata": {},
   "outputs": [
    {
     "name": "stdout",
     "output_type": "stream",
     "text": [
      "False\n",
      "True\n",
      "False\n",
      "True\n"
     ]
    }
   ],
   "source": [
    "print(a > b) # a가 b보다 큰가요?\n",
    "print(a < b) # a가 b보다 작나요?\n",
    "print(a >= b)\n",
    "print(a <= b)"
   ]
  },
  {
   "cell_type": "code",
   "execution_count": 78,
   "id": "24578380-2149-4db8-a7af-382b5f745de1",
   "metadata": {},
   "outputs": [
    {
     "name": "stdout",
     "output_type": "stream",
     "text": [
      "False\n",
      "True\n"
     ]
    }
   ],
   "source": [
    "print(a == b) # a와 b가 같다\n",
    "print(a != b) # a와 b가 다르다"
   ]
  },
  {
   "cell_type": "code",
   "execution_count": 79,
   "id": "26507c52-754b-40cd-8c65-8efc8dbf3570",
   "metadata": {},
   "outputs": [
    {
     "name": "stdout",
     "output_type": "stream",
     "text": [
      "True\n",
      "False\n"
     ]
    }
   ],
   "source": [
    "print('hi' == 'hi')\n",
    "print('hi' == 'Hi')"
   ]
  },
  {
   "cell_type": "markdown",
   "id": "9cafc131-c9e6-423b-9fc6-ccc53b409f63",
   "metadata": {},
   "source": [
    "## 2.3 논리연산자\n",
    "- and : 양쪽 모두 True일때, True를 반환\n",
    "- or : 양쪽 모두 False일때, False를 반환\n",
    "- not: 상태를 부정"
   ]
  },
  {
   "cell_type": "code",
   "execution_count": 80,
   "id": "cf00c649-eed4-4cbb-81be-15b55aba84e1",
   "metadata": {},
   "outputs": [
    {
     "name": "stdout",
     "output_type": "stream",
     "text": [
      "True\n",
      "False\n",
      "False\n",
      "False\n"
     ]
    }
   ],
   "source": [
    "print(True and True)\n",
    "print(True and False)\n",
    "print(False and True)\n",
    "print(False and False)"
   ]
  },
  {
   "cell_type": "code",
   "execution_count": 81,
   "id": "839abc47-d646-4f36-b7dd-c9e1f2952f96",
   "metadata": {},
   "outputs": [
    {
     "name": "stdout",
     "output_type": "stream",
     "text": [
      "True\n",
      "True\n",
      "True\n",
      "False\n"
     ]
    }
   ],
   "source": [
    "print(True or True)\n",
    "print(True or False)\n",
    "print(False or True)\n",
    "print(False or False)"
   ]
  },
  {
   "cell_type": "code",
   "execution_count": 84,
   "id": "e92f636b-8384-413a-b29e-b80458be8276",
   "metadata": {},
   "outputs": [
    {
     "name": "stdout",
     "output_type": "stream",
     "text": [
      "False\n"
     ]
    }
   ],
   "source": [
    "a = True\n",
    "print(not a)"
   ]
  },
  {
   "cell_type": "code",
   "execution_count": 90,
   "id": "f7f61d98-4c7b-46a2-a1f3-afa930b144f4",
   "metadata": {},
   "outputs": [
    {
     "name": "stdout",
     "output_type": "stream",
     "text": [
      "5\n",
      "0\n",
      "0\n",
      "0\n"
     ]
    }
   ],
   "source": [
    "# 단축평가 : 앞에가 T면 뒤에가 T든 F든 그냥 뒤에걸 선택, 앞에가 F면 뒤에가 T든 F든 그냥 F를 선택\n",
    "print(3 and 5)\n",
    "print(3 and 0)\n",
    "print(0 and 5)\n",
    "print(0 and 0)"
   ]
  },
  {
   "cell_type": "code",
   "execution_count": 92,
   "id": "13c2c3a7-1069-4534-86cc-64193dd7edca",
   "metadata": {},
   "outputs": [
    {
     "name": "stdout",
     "output_type": "stream",
     "text": [
      "3\n",
      "3\n",
      "5\n",
      "0\n"
     ]
    }
   ],
   "source": [
    "print(3 or 5)\n",
    "print(3 or 0)\n",
    "print(0 or 5)\n",
    "print(0 or 0)\n",
    "# 앞에가 T면 뒤에가 T든 F든 그냥 앞에걸 선택, 앞에가 F면 그냥 뒤에걸 선택"
   ]
  },
  {
   "cell_type": "markdown",
   "id": "27e78bce-fa6a-419f-96f4-871703e62e53",
   "metadata": {},
   "source": [
    "# 2.4 복합연산자\n",
    "- `a += b`   : a = a + b 과 같음\n",
    "- `a -= b`   : a = a - b\n",
    "- `a *= b`   : a = a * b\n",
    "- `a /= b`   : a = a / b\n",
    "- `a //= b`   : a = a // b\n",
    "- `a %= b`   : a = a % b\n",
    "- `a **= b`   :a = a ** b\n"
   ]
  },
  {
   "cell_type": "code",
   "execution_count": 1,
   "id": "1631f7d1-5f06-49de-82ca-2a266d42ffd7",
   "metadata": {},
   "outputs": [],
   "source": [
    "a = 2\n",
    "b = 3"
   ]
  },
  {
   "cell_type": "code",
   "execution_count": 99,
   "id": "f9416ebb-4078-47a0-8499-dc6663dae31c",
   "metadata": {},
   "outputs": [],
   "source": [
    "a = a + b\n",
    "a = a - b\n",
    "a = a * b\n",
    "a = a / b"
   ]
  },
  {
   "cell_type": "code",
   "execution_count": 2,
   "id": "6ecf962d-99d1-4af9-b3e6-248604933b17",
   "metadata": {},
   "outputs": [],
   "source": [
    "a += b\n",
    "a -= b\n",
    "a *= b\n",
    "a /= b\n",
    "a //= b\n",
    "a %= b\n",
    "a **= b"
   ]
  },
  {
   "cell_type": "markdown",
   "id": "b0e723e3-785b-4096-9d29-c76edcb262a0",
   "metadata": {},
   "source": [
    "## 2.5 기타연산자"
   ]
  },
  {
   "cell_type": "code",
   "execution_count": 106,
   "id": "5ead42f0-2b25-4788-91ba-5cace2453cb1",
   "metadata": {},
   "outputs": [],
   "source": [
    "a = 'hi'\n",
    "b = 'hello'"
   ]
  },
  {
   "cell_type": "code",
   "execution_count": 109,
   "id": "31dc74e3-ee58-4152-bcc0-7164be39c6df",
   "metadata": {},
   "outputs": [
    {
     "name": "stdout",
     "output_type": "stream",
     "text": [
      "hihello\n"
     ]
    },
    {
     "ename": "TypeError",
     "evalue": "can only concatenate str (not \"int\") to str",
     "output_type": "error",
     "traceback": [
      "\u001b[1;31m---------------------------------------------------------------------------\u001b[0m",
      "\u001b[1;31mTypeError\u001b[0m                                 Traceback (most recent call last)",
      "Cell \u001b[1;32mIn[109], line 3\u001b[0m\n\u001b[0;32m      1\u001b[0m \u001b[38;5;66;03m# concatenation\u001b[39;00m\n\u001b[0;32m      2\u001b[0m \u001b[38;5;28mprint\u001b[39m(a\u001b[38;5;241m+\u001b[39mb) \n\u001b[1;32m----> 3\u001b[0m \u001b[38;5;28mprint\u001b[39m(\u001b[43ma\u001b[49m\u001b[38;5;241;43m+\u001b[39;49m\u001b[38;5;241;43m1\u001b[39;49m) \u001b[38;5;66;03m#글자와 숫자는 에러\u001b[39;00m\n\u001b[0;32m      4\u001b[0m \u001b[38;5;28mprint\u001b[39m(\u001b[38;5;241m1\u001b[39m\u001b[38;5;241m+\u001b[39mb) \u001b[38;5;66;03m#숫자와 글자도 에러\u001b[39;00m\n",
      "\u001b[1;31mTypeError\u001b[0m: can only concatenate str (not \"int\") to str"
     ]
    }
   ],
   "source": [
    "# concatenation\n",
    "print(a+b) \n",
    "print(a+1) #글자와 숫자는 에러\n",
    "print(1+b) #숫자와 글자도 에러"
   ]
  },
  {
   "cell_type": "code",
   "execution_count": 111,
   "id": "8e4b6e1d-a23d-4f2d-9166-55b2adf0e196",
   "metadata": {},
   "outputs": [],
   "source": [
    "a = [1, 2, 3]\n",
    "b = [2, 3, 4]"
   ]
  },
  {
   "cell_type": "code",
   "execution_count": 113,
   "id": "c685e02f-dc40-4275-9bde-29947daeffc5",
   "metadata": {},
   "outputs": [
    {
     "name": "stdout",
     "output_type": "stream",
     "text": [
      "[1, 2, 3, 2, 3, 4]\n"
     ]
    }
   ],
   "source": [
    "print(a + b) #리스트도 concatenation으로 동작한다(연결)"
   ]
  },
  {
   "cell_type": "code",
   "execution_count": 115,
   "id": "08702566-82a6-42d7-969e-b36c9f240f7f",
   "metadata": {},
   "outputs": [
    {
     "name": "stdout",
     "output_type": "stream",
     "text": [
      "True\n"
     ]
    }
   ],
   "source": [
    "print(1 in a) #1이 a에 포함되어 있나요?"
   ]
  },
  {
   "cell_type": "code",
   "execution_count": 117,
   "id": "cdbd67a1-24b6-44cb-9bb3-9dfbdaec4b70",
   "metadata": {},
   "outputs": [
    {
     "name": "stdout",
     "output_type": "stream",
     "text": [
      "False\n"
     ]
    }
   ],
   "source": [
    "print(10 in a) #10이 a에 포함되어 있나요?"
   ]
  },
  {
   "cell_type": "code",
   "execution_count": 121,
   "id": "c5789e91-f2d8-4ac0-be1e-ba6086a7a295",
   "metadata": {},
   "outputs": [],
   "source": [
    "a = 100\n",
    "b = 100"
   ]
  },
  {
   "cell_type": "code",
   "execution_count": 123,
   "id": "879c3e0c-05b3-482b-aaf7-9773cd58d388",
   "metadata": {},
   "outputs": [
    {
     "name": "stdout",
     "output_type": "stream",
     "text": [
      "True\n",
      "True\n"
     ]
    }
   ],
   "source": [
    "print(a == b) #a와 b의 값이 같은가?\n",
    "print(a is b) #a와 b의 본질이 같은가?\n",
    "#값이 256이하이면 True, 257이상이면 False"
   ]
  },
  {
   "cell_type": "markdown",
   "id": "eeba469d-7448-4376-b493-2ea6f00875f8",
   "metadata": {},
   "source": [
    "## 2.6 연산자 우선순위\n",
    "0. ()를 통해서 그룹\n",
    "1. **\n",
    "2. 산술연산자 (*, /)\n",
    "3. 산술연산자 (+,-)\n",
    "4. 비교연산자, in, is\n",
    "5. not\n",
    "6. and\n",
    "7. or"
   ]
  },
  {
   "cell_type": "code",
   "execution_count": 124,
   "id": "2c77d610-69f8-4abe-b9b2-3775561ee3cb",
   "metadata": {},
   "outputs": [
    {
     "name": "stdout",
     "output_type": "stream",
     "text": [
      "-81\n",
      "81\n"
     ]
    }
   ],
   "source": [
    "print(-3 ** 4)\n",
    "print((-3)**4)"
   ]
  },
  {
   "cell_type": "markdown",
   "id": "836d603f-cd30-4ace-a66d-66cd65a47166",
   "metadata": {},
   "source": [
    "# 3. 형변환"
   ]
  },
  {
   "cell_type": "markdown",
   "id": "9c777059-bcc1-4425-b778-c03f57d4478a",
   "metadata": {},
   "source": [
    "## 3.1 암시적 형변환"
   ]
  },
  {
   "cell_type": "code",
   "execution_count": 126,
   "id": "f9fe1f3a-f5b4-4524-9240-3fba26c6b55f",
   "metadata": {},
   "outputs": [],
   "source": [
    "a = True\n",
    "b = False\n",
    "c = 1"
   ]
  },
  {
   "cell_type": "code",
   "execution_count": 128,
   "id": "73fb20de-6e38-4006-b43a-46a2650c1f8e",
   "metadata": {},
   "outputs": [
    {
     "name": "stdout",
     "output_type": "stream",
     "text": [
      "1\n",
      "2\n"
     ]
    }
   ],
   "source": [
    "print(a + b) # 1 -> True=1 False=0\n",
    "print(a + c) # 2 -> True=1 "
   ]
  },
  {
   "cell_type": "code",
   "execution_count": 132,
   "id": "78b257f6-ca36-40a7-ba0a-a9d44d1116f8",
   "metadata": {},
   "outputs": [
    {
     "name": "stdout",
     "output_type": "stream",
     "text": [
      "hello\n"
     ]
    }
   ],
   "source": [
    "if 1:\n",
    "    print('hello') # 1=True"
   ]
  },
  {
   "cell_type": "markdown",
   "id": "b01ad4c0-2db6-4b23-859c-a10cc3495e6f",
   "metadata": {},
   "source": [
    "## 3.2 명시적 형변환\n",
    "- int() : 정수로 바꿔줌\n",
    "- float() : 실수로 바꿔줌\n",
    "- str() : 문자열로 바꿔줌\n",
    "- bool() : True / False\n",
    "    - bool(0): False\n",
    "    - bool(0이 아닌 숫자): True\n",
    "    - bool([]): False\n",
    "    - bool([1,2]) : True"
   ]
  },
  {
   "cell_type": "code",
   "execution_count": 133,
   "id": "95265cd4-981f-4b6b-afd7-2ff1ae99c8a6",
   "metadata": {},
   "outputs": [],
   "source": [
    "a = 1\n",
    "b = '반'"
   ]
  },
  {
   "cell_type": "code",
   "execution_count": 134,
   "id": "5d7da18a-b6a3-4420-a72e-286eba690bd2",
   "metadata": {},
   "outputs": [
    {
     "ename": "TypeError",
     "evalue": "unsupported operand type(s) for +: 'int' and 'str'",
     "output_type": "error",
     "traceback": [
      "\u001b[1;31m---------------------------------------------------------------------------\u001b[0m",
      "\u001b[1;31mTypeError\u001b[0m                                 Traceback (most recent call last)",
      "Cell \u001b[1;32mIn[134], line 1\u001b[0m\n\u001b[1;32m----> 1\u001b[0m \u001b[38;5;28mprint\u001b[39m(\u001b[43ma\u001b[49m\u001b[43m \u001b[49m\u001b[38;5;241;43m+\u001b[39;49m\u001b[43m \u001b[49m\u001b[43mb\u001b[49m)\n",
      "\u001b[1;31mTypeError\u001b[0m: unsupported operand type(s) for +: 'int' and 'str'"
     ]
    }
   ],
   "source": [
    "print(a + b) #Error: 숫자와 문자를 더할 수 없다-> 형변환"
   ]
  },
  {
   "cell_type": "code",
   "execution_count": 136,
   "id": "2b20cadf-31e9-4cef-aeb0-e3b981513878",
   "metadata": {},
   "outputs": [
    {
     "name": "stdout",
     "output_type": "stream",
     "text": [
      "1반\n"
     ]
    }
   ],
   "source": [
    "print(str(a) + b) # a가 문자열이 되었기 때문에 더할 수 있다."
   ]
  },
  {
   "cell_type": "code",
   "execution_count": 141,
   "id": "9b5fb217-d0ff-419a-8671-574aa570c52f",
   "metadata": {},
   "outputs": [
    {
     "name": "stdout",
     "output_type": "stream",
     "text": [
      "<class 'str'>\n",
      "<class 'int'>\n"
     ]
    }
   ],
   "source": [
    "a = '3'\n",
    "print(type(a)) # str\n",
    "b = int(a)\n",
    "print(type(b)) # int"
   ]
  },
  {
   "cell_type": "code",
   "execution_count": 144,
   "id": "e69a9c27-e700-414f-9e67-8def0e5a1760",
   "metadata": {},
   "outputs": [
    {
     "ename": "ValueError",
     "evalue": "invalid literal for int() with base 10: 'apple'",
     "output_type": "error",
     "traceback": [
      "\u001b[1;31m---------------------------------------------------------------------------\u001b[0m",
      "\u001b[1;31mValueError\u001b[0m                                Traceback (most recent call last)",
      "Cell \u001b[1;32mIn[144], line 2\u001b[0m\n\u001b[0;32m      1\u001b[0m c \u001b[38;5;241m=\u001b[39m \u001b[38;5;124m'\u001b[39m\u001b[38;5;124mapple\u001b[39m\u001b[38;5;124m'\u001b[39m\n\u001b[1;32m----> 2\u001b[0m d \u001b[38;5;241m=\u001b[39m \u001b[38;5;28;43mint\u001b[39;49m\u001b[43m(\u001b[49m\u001b[43mc\u001b[49m\u001b[43m)\u001b[49m \u001b[38;5;66;03m#ERROR: 숫자로 바꿀 수 없는 형태이기 때문에\u001b[39;00m\n",
      "\u001b[1;31mValueError\u001b[0m: invalid literal for int() with base 10: 'apple'"
     ]
    }
   ],
   "source": [
    "c = 'apple'\n",
    "d = int(c) #ERROR: 숫자로 바꿀 수 없는 형태이기 때문에"
   ]
  },
  {
   "cell_type": "code",
   "execution_count": 147,
   "id": "2edba762-0f07-4bb2-ae3c-675d0680803e",
   "metadata": {},
   "outputs": [
    {
     "name": "stdout",
     "output_type": "stream",
     "text": [
      "True\n",
      "False\n",
      "True\n"
     ]
    }
   ],
   "source": [
    "a = 1\n",
    "b = 0\n",
    "c = -123 \n",
    "print(bool(a)) #True :0이 아닌 모든 숫자는 True\n",
    "print(bool(b)) #False : 0만 False\n",
    "print(bool(c)) #True :음수도 True"
   ]
  },
  {
   "cell_type": "code",
   "execution_count": 149,
   "id": "747545a4-f229-4739-9d82-0422554cf594",
   "metadata": {},
   "outputs": [
    {
     "name": "stdout",
     "output_type": "stream",
     "text": [
      "False\n",
      "True\n"
     ]
    }
   ],
   "source": [
    "print(bool([])) #리스트 안에 데이터가 하나도 없으면 False\n",
    "print(bool([1,2,3])) #리스트 안에 데이터가 하나라도 존재하면 True"
   ]
  },
  {
   "cell_type": "markdown",
   "id": "655a2594-77bf-4cad-8e26-4e358da3f1ef",
   "metadata": {},
   "source": [
    "# 4. 시퀀스 자료형\n",
    "- 시퀀스는 데이터의 **순서대로** 나열된 자료구조 (순서대로 나열되었다는 것은 정렬된 것과 다르다)\n",
    "1. List\n",
    "2. Tuple\n",
    "3. Range\n",
    "4. String"
   ]
  },
  {
   "cell_type": "markdown",
   "id": "13f2a62e-be98-4c9c-8cba-731e1ba1b100",
   "metadata": {},
   "source": [
    "## 4.1 List (리스트, 배열)\n",
    "- 선언: `var_name = [value1, value2, vlaue2, ...]`\n",
    "- 접근: `var_name[index]`\n",
    "- 인덱스는 0부터 시작한다"
   ]
  },
  {
   "cell_type": "code",
   "execution_count": 2,
   "id": "185c3390-4aa2-4d2b-adde-28abd402fa96",
   "metadata": {},
   "outputs": [
    {
     "name": "stdout",
     "output_type": "stream",
     "text": [
      "[]\n",
      "<class 'list'>\n"
     ]
    }
   ],
   "source": [
    "l = []\n",
    "print(l)\n",
    "print(type(l))"
   ]
  },
  {
   "cell_type": "code",
   "execution_count": 12,
   "id": "7dcc3818-463a-43cf-9244-479199c69d46",
   "metadata": {},
   "outputs": [
    {
     "name": "stdout",
     "output_type": "stream",
     "text": [
      "['서울', '대전', '부산']\n",
      "부산\n"
     ]
    }
   ],
   "source": [
    "#리스트 선언하기\n",
    "location = ['서울', '대전', '부산'] \n",
    "print(location)\n",
    "print(location[2])"
   ]
  },
  {
   "cell_type": "code",
   "execution_count": 13,
   "id": "5618d322-9cc2-430c-a584-42db8711c64c",
   "metadata": {},
   "outputs": [
    {
     "name": "stdout",
     "output_type": "stream",
     "text": [
      "['서울', '대구', '부산']\n"
     ]
    }
   ],
   "source": [
    "#리스트 정보 수정하기\n",
    "location[1] = '대구' \n",
    "print(location)"
   ]
  },
  {
   "cell_type": "markdown",
   "id": "d72219cc-bd5e-41ce-aed8-c881095e54d4",
   "metadata": {},
   "source": [
    "## 4.2 Tuple\n",
    "- 선언: `var_name = (value1, value2, value3, ...)`\n",
    "- 접근: `var_name[index]`\n",
    "- **수정불가능**하다(immutable) : 재할당 안됨"
   ]
  },
  {
   "cell_type": "code",
   "execution_count": 14,
   "id": "c37ade71-81df-45db-9bd8-a0462c77d973",
   "metadata": {},
   "outputs": [
    {
     "name": "stdout",
     "output_type": "stream",
     "text": [
      "('서울', '대전', '대구')\n",
      "서울\n"
     ]
    }
   ],
   "source": [
    "#튜플 선언하기\n",
    "location = ('서울','대전','대구')\n",
    "print(location)\n",
    "print(location[0])"
   ]
  },
  {
   "cell_type": "code",
   "execution_count": 10,
   "id": "cfbedefb-5be3-44ab-a259-e63c1d6d3fb0",
   "metadata": {},
   "outputs": [
    {
     "ename": "TypeError",
     "evalue": "'tuple' object does not support item assignment",
     "output_type": "error",
     "traceback": [
      "\u001b[1;31m---------------------------------------------------------------------------\u001b[0m",
      "\u001b[1;31mTypeError\u001b[0m                                 Traceback (most recent call last)",
      "Cell \u001b[1;32mIn[10], line 2\u001b[0m\n\u001b[0;32m      1\u001b[0m \u001b[38;5;66;03m#immutable\u001b[39;00m\n\u001b[1;32m----> 2\u001b[0m \u001b[43mlocation\u001b[49m\u001b[43m[\u001b[49m\u001b[38;5;241;43m2\u001b[39;49m\u001b[43m]\u001b[49m \u001b[38;5;241m=\u001b[39m \u001b[38;5;124m'\u001b[39m\u001b[38;5;124m부산\u001b[39m\u001b[38;5;124m'\u001b[39m\n",
      "\u001b[1;31mTypeError\u001b[0m: 'tuple' object does not support item assignment"
     ]
    }
   ],
   "source": [
    "#immutable\n",
    "location[2] = '부산' #ERROR: 'tuple' object does not support item assignment"
   ]
  },
  {
   "cell_type": "markdown",
   "id": "aa8f9d9f-42a6-48b6-a510-4d32c24bca17",
   "metadata": {},
   "source": [
    "## 4.3 Range\n",
    "- range(n): 0부터 n-1까지 범위____0이상 n미만\n",
    "- range(n, m): n부터 m-1까지 범위\n",
    "- range(n, m, s): n부터 m-1까지 s만큼 증가하는 범위"
   ]
  },
  {
   "cell_type": "code",
   "execution_count": 17,
   "id": "951f8f2e-c1de-4598-8338-bfaa845b096b",
   "metadata": {},
   "outputs": [
    {
     "name": "stdout",
     "output_type": "stream",
     "text": [
      "range(0, 45)\n",
      "[0, 1, 2, 3, 4, 5, 6, 7, 8, 9, 10, 11, 12, 13, 14, 15, 16, 17, 18, 19, 20, 21, 22, 23, 24, 25, 26, 27, 28, 29, 30, 31, 32, 33, 34, 35, 36, 37, 38, 39, 40, 41, 42, 43, 44]\n"
     ]
    }
   ],
   "source": [
    "#Range 선언\n",
    "lotto = range(45)\n",
    "print(lotto)\n",
    "\n",
    "#형변환(Range를 List로 바꾸기)\n",
    "print(list(lotto))"
   ]
  },
  {
   "cell_type": "code",
   "execution_count": 18,
   "id": "f31061bc-563d-43b0-afb6-0656e005fc10",
   "metadata": {},
   "outputs": [
    {
     "name": "stdout",
     "output_type": "stream",
     "text": [
      "range(1, 46)\n",
      "[1, 2, 3, 4, 5, 6, 7, 8, 9, 10, 11, 12, 13, 14, 15, 16, 17, 18, 19, 20, 21, 22, 23, 24, 25, 26, 27, 28, 29, 30, 31, 32, 33, 34, 35, 36, 37, 38, 39, 40, 41, 42, 43, 44, 45]\n"
     ]
    }
   ],
   "source": [
    "lotto = range(1, 46)\n",
    "print(lotto)\n",
    "print(list(lotto))"
   ]
  },
  {
   "cell_type": "code",
   "execution_count": 19,
   "id": "4fe364b4-5893-47b0-8a06-5f755ea7a956",
   "metadata": {},
   "outputs": [
    {
     "name": "stdout",
     "output_type": "stream",
     "text": [
      "[2, 4, 6, 8, 10, 12, 14, 16, 18]\n"
     ]
    }
   ],
   "source": [
    "even = range(2, 20, 2)\n",
    "print(list(even))"
   ]
  },
  {
   "cell_type": "code",
   "execution_count": 20,
   "id": "8405a76b-1a85-4e8e-b7bc-2634fe2e94a4",
   "metadata": {},
   "outputs": [
    {
     "name": "stdout",
     "output_type": "stream",
     "text": [
      "[0, -2, -4, -6, -8, -10, -12, -14, -16, -18]\n"
     ]
    }
   ],
   "source": [
    "numbers = range(0, -20, -2)\n",
    "print(list(numbers))"
   ]
  },
  {
   "cell_type": "markdown",
   "id": "74e3a297-6009-4999-b18a-4714d57850a4",
   "metadata": {},
   "source": [
    "## 4.4 String\n",
    "- 기본 데이터 구조 참고"
   ]
  },
  {
   "cell_type": "code",
   "execution_count": 23,
   "id": "c38c4341-d5c5-4b2f-b123-6d8dcf6dcb89",
   "metadata": {},
   "outputs": [
    {
     "name": "stdout",
     "output_type": "stream",
     "text": [
      "i\n"
     ]
    }
   ],
   "source": [
    "s = 'hi my name is chang'\n",
    "print(s[11])"
   ]
  },
  {
   "cell_type": "markdown",
   "id": "e28e5428-38b4-4c42-a4b4-b35130dfadb7",
   "metadata": {},
   "source": [
    "## 4.5 시퀀스에서 활용가능한 연산/함수"
   ]
  },
  {
   "cell_type": "code",
   "execution_count": 64,
   "id": "96679abc-a0af-4337-bc26-4a4f4a681c5e",
   "metadata": {},
   "outputs": [],
   "source": [
    "my_list = ['a','b','c','d','e']\n",
    "my_tuple = (6,7,8,9,10)\n",
    "my_range = range(5)\n",
    "my_string ='가나다라마'"
   ]
  },
  {
   "cell_type": "code",
   "execution_count": 26,
   "id": "74c7b3b5-a939-4742-9a6e-daf02c1d16b0",
   "metadata": {},
   "outputs": [
    {
     "name": "stdout",
     "output_type": "stream",
     "text": [
      "a\n",
      "6\n",
      "0\n",
      "가\n"
     ]
    }
   ],
   "source": [
    "#indexing\n",
    "print(my_list[0])\n",
    "print(my_tuple[0])\n",
    "print(my_range[0])\n",
    "print(my_string[0])"
   ]
  },
  {
   "cell_type": "code",
   "execution_count": 30,
   "id": "9393555b-bc09-4514-ab7f-97b123040480",
   "metadata": {},
   "outputs": [
    {
     "name": "stdout",
     "output_type": "stream",
     "text": [
      "['c', 'd', 'e']\n",
      "(8, 9, 10)\n",
      "range(2, 5)\n",
      "다라마\n"
     ]
    }
   ],
   "source": [
    "# slicing\n",
    "# var_name[index1 : index2] \n",
    "print(my_list[2:5]) \n",
    "print(my_tuple[2:5])\n",
    "print(my_range[2:5])\n",
    "print(my_string[2:5])"
   ]
  },
  {
   "cell_type": "code",
   "execution_count": 48,
   "id": "0216fdb4-5dec-486a-b8c6-0265d30e0d32",
   "metadata": {},
   "outputs": [
    {
     "name": "stdout",
     "output_type": "stream",
     "text": [
      "['a', 'b', 'c', 'd', 'e']\n",
      "['d', 'e']\n",
      "['a', 'b', 'c']\n"
     ]
    }
   ],
   "source": [
    "# 인덱스 생략\n",
    "print(my_list[0:]) #0부터 끝까지\n",
    "print(my_list[3:]) #3부터 끝까지\n",
    "print(my_list[:3]) #처음부터 2까지"
   ]
  },
  {
   "cell_type": "code",
   "execution_count": 46,
   "id": "82a61bf4-cd8d-4dc1-915a-ba1e32322a5d",
   "metadata": {},
   "outputs": [
    {
     "name": "stdout",
     "output_type": "stream",
     "text": [
      "e\n",
      "['b', 'c', 'd']\n"
     ]
    }
   ],
   "source": [
    "# 음수 인덱스\n",
    "#  p  y  t  h  o  n \n",
    "#  0  1  2  3  4  5\n",
    "# -5 -4 -3 -2 -1 \n",
    "\n",
    "print(my_list[-1])\n",
    "print(my_list[1:-1])"
   ]
  },
  {
   "cell_type": "code",
   "execution_count": 42,
   "id": "0c6b0150-67a3-4880-a472-7c8a76b99403",
   "metadata": {},
   "outputs": [
    {
     "name": "stdout",
     "output_type": "stream",
     "text": [
      "['a', 'b', 'c', 'd', 'e']\n",
      "['a', 'c', 'e']\n"
     ]
    }
   ],
   "source": [
    "# step\n",
    "print(my_list[:]) #처음부터 끝까지\n",
    "print(my_list[::2])"
   ]
  },
  {
   "cell_type": "code",
   "execution_count": 47,
   "id": "d9199c05-3231-493d-92bf-6489e2780f2c",
   "metadata": {},
   "outputs": [
    {
     "name": "stdout",
     "output_type": "stream",
     "text": [
      "False\n",
      "True\n",
      "False\n"
     ]
    }
   ],
   "source": [
    "# in \n",
    "print(1 in my_list)\n",
    "print('a' in my_list)\n",
    "print('a' not in my_list)"
   ]
  },
  {
   "cell_type": "code",
   "execution_count": 51,
   "id": "c9432ed6-691f-4c64-8821-c7079658bfa1",
   "metadata": {},
   "outputs": [
    {
     "name": "stdout",
     "output_type": "stream",
     "text": [
      "['a', 'b', 'c', 'd', 'e', 1, 2, 3, 4, 5]\n",
      "(6, 7, 8, 9, 10, 1, 2, 3)\n"
     ]
    }
   ],
   "source": [
    "# concatennation(연겷하다)\n",
    "# 튜플은 튜플끼리, 리스트는 리스트끼리\n",
    "print(my_list + [1,2,3,4,5])\n",
    "print(my_tuple + (1,2,3))"
   ]
  },
  {
   "cell_type": "code",
   "execution_count": 77,
   "id": "8b3959d3-5f8e-4a31-92e2-f8c94595719f",
   "metadata": {},
   "outputs": [
    {
     "name": "stdout",
     "output_type": "stream",
     "text": [
      "['a', 'b', 'c', 'd', 'e', 'a', 'b', 'c', 'd', 'e']\n",
      "aaaaa\n",
      "[0, 0, 0, 0, 0, 0, 0, 0, 0, 0, 0, 0, 0, 0, 0, 0, 0, 0, 0, 0, 0, 0, 0, 0, 0, 0, 0, 0, 0, 0, 0, 0, 0, 0, 0, 0, 0, 0, 0, 0, 0, 0, 0, 0, 0, 0, 0, 0, 0, 0, 0, 0, 0, 0, 0, 0, 0, 0, 0, 0, 0, 0, 0, 0, 0, 0, 0, 0, 0, 0, 0, 0, 0, 0, 0, 0, 0, 0, 0, 0, 0, 0, 0, 0, 0, 0, 0, 0, 0, 0, 0, 0, 0, 0, 0, 0, 0, 0, 0, 0]\n"
     ]
    }
   ],
   "source": [
    "# * (곱하기)\n",
    "print(my_list*2) #my_list를 두번 출력함\n",
    "print('a'*5)\n",
    "\n",
    "# [0,0,0,0,0,0,0,0,0,0,0,0,0,0,0,0,0,0,0,0]\n",
    "print([0]*100)"
   ]
  },
  {
   "cell_type": "code",
   "execution_count": 84,
   "id": "1d6e60b0-8233-46d2-b850-0ceb0b83617d",
   "metadata": {},
   "outputs": [
    {
     "name": "stdout",
     "output_type": "stream",
     "text": [
      "5\n",
      "e\n",
      "a\n"
     ]
    }
   ],
   "source": [
    "# len, max, min\n",
    "print(len(my_list))\n",
    "print(max(my_list))\n",
    "print(min(my_list))"
   ]
  },
  {
   "cell_type": "markdown",
   "id": "c73d5229-2e0a-4fcd-b1e3-ec646c8f43ea",
   "metadata": {},
   "source": [
    "# 5. 시퀀스형이 아닌 구조"
   ]
  },
  {
   "cell_type": "markdown",
   "id": "33fba4ab-e53e-44c3-9710-e4fa312b7408",
   "metadata": {},
   "source": [
    "## 5.1 Set\n",
    "- 수학에서의 집합과 비슷한 개념 (합집합, 차집합, 교집합 사용)\n",
    "- 선언 : `var_name = {value1, vlaue2, vlaue3, ...}`\n",
    "- 중복을 허용하지 않는다"
   ]
  },
  {
   "cell_type": "code",
   "execution_count": 72,
   "id": "de1c5cc5-9789-471f-9472-d9d67505b2ea",
   "metadata": {},
   "outputs": [
    {
     "name": "stdout",
     "output_type": "stream",
     "text": [
      "{1, 2, 3, 4, 5}\n",
      "{1, 3, 5, 7, 9}\n"
     ]
    }
   ],
   "source": [
    "my_set_a = {1,2,3,4,5,5,5,5,5,5,} #{1,2,3,4,5} 중복을 허용하지 않는다\n",
    "my_set_b = {1,3,5,7,9}\n",
    "print(my_set_a)\n",
    "print(my_set_b)"
   ]
  },
  {
   "cell_type": "code",
   "execution_count": 76,
   "id": "7ac8bdb8-988a-468a-9738-1465a56964fc",
   "metadata": {},
   "outputs": [
    {
     "name": "stdout",
     "output_type": "stream",
     "text": [
      "{2, 4}\n",
      "{1, 2, 3, 4, 5, 7, 9}\n",
      "{1, 3, 5}\n"
     ]
    }
   ],
   "source": [
    "print(my_set_a - my_set_b) #교집합\n",
    "print(my_set_a | my_set_b) #합집합\n",
    "print(my_set_a & my_set_b) #교집합"
   ]
  },
  {
   "cell_type": "code",
   "execution_count": 80,
   "id": "c18365da-4f3f-4c9d-9462-b3cef5eda7b5",
   "metadata": {},
   "outputs": [
    {
     "name": "stdout",
     "output_type": "stream",
     "text": [
      "{'광주', '부산', '대구', '서울'}\n"
     ]
    }
   ],
   "source": [
    "location = ['서울','대구','부산','광주','부산','광주','부산']\n",
    "print(set(location))"
   ]
  },
  {
   "cell_type": "markdown",
   "id": "4782b926-7647-4e47-9ddb-3f50c9158b92",
   "metadata": {},
   "source": [
    "## 5.2 Dictionary\n",
    "- 선언: `var_name = {key1: value1, key2: value2, key3: value3}`\n",
    "- 접근: `var_name[key]`"
   ]
  },
  {
   "cell_type": "code",
   "execution_count": 83,
   "id": "f25c7080-130d-43b8-bce8-03bb2adb1fe4",
   "metadata": {},
   "outputs": [
    {
     "name": "stdout",
     "output_type": "stream",
     "text": [
      "02\n"
     ]
    }
   ],
   "source": [
    "my_dict = {'서울': '02', '경기': '031'}\n",
    "print(my_dict['서울'])"
   ]
  },
  {
   "cell_type": "code",
   "execution_count": 85,
   "id": "f3303acb-5713-40a2-87cf-76e9b48d61a4",
   "metadata": {},
   "outputs": [],
   "source": [
    "my_info = {\n",
    "    'name': 'changhee', \n",
    "    'location' : 'seoul',\n",
    "    'age' : 10,\n",
    "    'skill' : ['python', 'git']\n",
    "}"
   ]
  },
  {
   "cell_type": "code",
   "execution_count": 91,
   "id": "c5db1dca-b45a-41dc-ab8f-b5b3f1b800b2",
   "metadata": {},
   "outputs": [
    {
     "name": "stdout",
     "output_type": "stream",
     "text": [
      "changhee\n",
      "10\n",
      "git\n"
     ]
    }
   ],
   "source": [
    "print(my_info['name'])\n",
    "print(my_info['age'])\n",
    "print(my_info['skill'][1])"
   ]
  },
  {
   "cell_type": "markdown",
   "id": "85cc0a07-07b6-4f92-a747-40b71d0e20c0",
   "metadata": {},
   "source": [
    "**데이터타입**\n",
    "1. Number\n",
    "2. Boolean\n",
    "3. String\n",
    "\n",
    "**자료구조**\n",
    "- 시퀀스\n",
    "1. [List] : mutable\n",
    "2. (Tuple) : immutable\n",
    "3. range() : immutable\n",
    "4. 'String' : immutable\n",
    "\n",
    "- 시퀀스가 아닌것\n",
    "1. {Set} : mutable\n",
    "2. {Dic: tionary} : mutable"
   ]
  },
  {
   "cell_type": "markdown",
   "id": "b399f400-2bc3-4c6e-a7c3-bf3a0a8a721e",
   "metadata": {},
   "source": []
  }
 ],
 "metadata": {
  "kernelspec": {
   "display_name": "Python 3 (ipykernel)",
   "language": "python",
   "name": "python3"
  },
  "language_info": {
   "codemirror_mode": {
    "name": "ipython",
    "version": 3
   },
   "file_extension": ".py",
   "mimetype": "text/x-python",
   "name": "python",
   "nbconvert_exporter": "python",
   "pygments_lexer": "ipython3",
   "version": "3.13.2"
  }
 },
 "nbformat": 4,
 "nbformat_minor": 5
}
