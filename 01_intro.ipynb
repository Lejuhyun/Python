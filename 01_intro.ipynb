{
 "cells": [
  {
   "cell_type": "markdown",
   "id": "ec01c601-6033-4df3-bfca-8e198121611c",
   "metadata": {},
   "source": [
    "# 01.intro\n",
    "\n",
    "## shortcut\n",
    "\n",
    "- ctrl + enter : 현재 셀 실행\n",
    "- shift + enter : 현재 셀 실행 & 아래로 이동\n",
    "- alt + enter : 현재 셀 실행 & 아래에 새로운 셀 추가"
   ]
  },
  {
   "cell_type": "markdown",
   "id": "157ceccb-1767-45c6-b41e-f955004f5946",
   "metadata": {},
   "source": [
    "## 주의사항\n",
    "\n",
    "1. Apple / apple (대소문자 주의)\n",
    "2. git add. / git add .\n",
    "3. messge / massage"
   ]
  },
  {
   "cell_type": "markdown",
   "id": "c658c9a3-527a-4856-b617-266e1698888b",
   "metadata": {},
   "source": [
    "# 01. 변수\n",
    "```\n",
    "var_name = value\n",
    "```\n",
    "\n",
    "- 변수 이름은 어떤 이름이든 사용가능\n",
    "- 다만 영어, 숫자, _fmf dldydgotj tjsdjs\n",
    "- 키워드는 불가능"
   ]
  },
  {
   "cell_type": "code",
   "execution_count": 10,
   "id": "df48308a-ea0c-433b-9883-7d93ff4565d6",
   "metadata": {},
   "outputs": [],
   "source": [
    "a = 100"
   ]
  },
  {
   "cell_type": "code",
   "execution_count": 4,
   "id": "e63a0812-0c7a-4dc0-85fe-7a4c1776741e",
   "metadata": {},
   "outputs": [
    {
     "data": {
      "text/plain": [
       "100"
      ]
     },
     "execution_count": 4,
     "metadata": {},
     "output_type": "execute_result"
    }
   ],
   "source": [
    "a"
   ]
  },
  {
   "cell_type": "code",
   "execution_count": 6,
   "id": "90c4d9a0-d38e-43f4-bd61-ddbbded89c5b",
   "metadata": {},
   "outputs": [
    {
     "data": {
      "text/plain": [
       "['False',\n",
       " 'None',\n",
       " 'True',\n",
       " 'and',\n",
       " 'as',\n",
       " 'assert',\n",
       " 'async',\n",
       " 'await',\n",
       " 'break',\n",
       " 'class',\n",
       " 'continue',\n",
       " 'def',\n",
       " 'del',\n",
       " 'elif',\n",
       " 'else',\n",
       " 'except',\n",
       " 'finally',\n",
       " 'for',\n",
       " 'from',\n",
       " 'global',\n",
       " 'if',\n",
       " 'import',\n",
       " 'in',\n",
       " 'is',\n",
       " 'lambda',\n",
       " 'nonlocal',\n",
       " 'not',\n",
       " 'or',\n",
       " 'pass',\n",
       " 'raise',\n",
       " 'return',\n",
       " 'try',\n",
       " 'while',\n",
       " 'with',\n",
       " 'yield']"
      ]
     },
     "execution_count": 6,
     "metadata": {},
     "output_type": "execute_result"
    }
   ],
   "source": [
    "import keyword\n",
    "keyword.kwlist"
   ]
  },
  {
   "cell_type": "markdown",
   "id": "cfa7a491-fe83-4e57-84f7-48cfcd0a8783",
   "metadata": {},
   "source": [
    "# 1.1 number\n",
    "- int : 정수형\n",
    "- float : 실수형\n",
    "- complex: 복소수"
   ]
  },
  {
   "cell_type": "code",
   "execution_count": 8,
   "id": "e2d7f06b-eda9-40e4-ae2e-52e87f8bb74d",
   "metadata": {},
   "outputs": [],
   "source": [
    "a = 10000"
   ]
  },
  {
   "cell_type": "code",
   "execution_count": 9,
   "id": "43c39dbf-127f-4878-b97a-322dfc0fcf52",
   "metadata": {},
   "outputs": [
    {
     "data": {
      "text/plain": [
       "10000"
      ]
     },
     "execution_count": 9,
     "metadata": {},
     "output_type": "execute_result"
    }
   ],
   "source": [
    "a"
   ]
  },
  {
   "cell_type": "code",
   "execution_count": 11,
   "id": "ab1e0efa-8837-409a-9815-da79cf48b9e9",
   "metadata": {},
   "outputs": [
    {
     "data": {
      "text/plain": [
       "int"
      ]
     },
     "execution_count": 11,
     "metadata": {},
     "output_type": "execute_result"
    }
   ],
   "source": [
    "type(a)"
   ]
  },
  {
   "cell_type": "code",
   "execution_count": 14,
   "id": "dff58a65-ee75-49f3-a6b9-cfc734925c0c",
   "metadata": {},
   "outputs": [],
   "source": [
    "b = 1.1"
   ]
  },
  {
   "cell_type": "code",
   "execution_count": 15,
   "id": "38fb0bbb-85e3-401b-9c0b-2c1d526a3417",
   "metadata": {},
   "outputs": [
    {
     "data": {
      "text/plain": [
       "1.1"
      ]
     },
     "execution_count": 15,
     "metadata": {},
     "output_type": "execute_result"
    }
   ],
   "source": [
    "b"
   ]
  },
  {
   "cell_type": "code",
   "execution_count": 13,
   "id": "dc9e3c50-4d0a-43f4-920a-797e679ffcd5",
   "metadata": {},
   "outputs": [
    {
     "data": {
      "text/plain": [
       "float"
      ]
     },
     "execution_count": 13,
     "metadata": {},
     "output_type": "execute_result"
    }
   ],
   "source": [
    "type(b)"
   ]
  },
  {
   "cell_type": "code",
   "execution_count": 16,
   "id": "e82dbed2-9510-4e2f-a631-f49b831bd257",
   "metadata": {},
   "outputs": [],
   "source": [
    "c = 1 + 1j"
   ]
  },
  {
   "cell_type": "code",
   "execution_count": 17,
   "id": "53fe2e9c-c329-4e7b-962e-8052f7d599c9",
   "metadata": {},
   "outputs": [
    {
     "data": {
      "text/plain": [
       "(1+1j)"
      ]
     },
     "execution_count": 17,
     "metadata": {},
     "output_type": "execute_result"
    }
   ],
   "source": [
    "c"
   ]
  },
  {
   "cell_type": "code",
   "execution_count": 18,
   "id": "e542f81f-277f-44a9-8a3e-e6ed5abe4ac3",
   "metadata": {},
   "outputs": [
    {
     "data": {
      "text/plain": [
       "complex"
      ]
     },
     "execution_count": 18,
     "metadata": {},
     "output_type": "execute_result"
    }
   ],
   "source": [
    "type(c)"
   ]
  },
  {
   "cell_type": "markdown",
   "id": "cef78b52-ec45-467f-9abd-d78b989237bc",
   "metadata": {},
   "source": [
    "## 1.2 boolean"
   ]
  },
  {
   "cell_type": "code",
   "execution_count": 19,
   "id": "26c88db1-a5a6-4dc1-88ca-58a0d1435cdb",
   "metadata": {},
   "outputs": [],
   "source": [
    "a = True"
   ]
  },
  {
   "cell_type": "code",
   "execution_count": 20,
   "id": "e3eb70b2-1235-4abe-ade0-5231ac221600",
   "metadata": {},
   "outputs": [
    {
     "data": {
      "text/plain": [
       "True"
      ]
     },
     "execution_count": 20,
     "metadata": {},
     "output_type": "execute_result"
    }
   ],
   "source": [
    "a"
   ]
  },
  {
   "cell_type": "code",
   "execution_count": 21,
   "id": "4cbfedc3-78d0-47c3-bbf6-26607af05d9d",
   "metadata": {},
   "outputs": [
    {
     "data": {
      "text/plain": [
       "bool"
      ]
     },
     "execution_count": 21,
     "metadata": {},
     "output_type": "execute_result"
    }
   ],
   "source": [
    "type(a)"
   ]
  },
  {
   "cell_type": "code",
   "execution_count": 22,
   "id": "949af5ff-494a-48d1-b768-45ab44913161",
   "metadata": {},
   "outputs": [],
   "source": [
    "b = False"
   ]
  },
  {
   "cell_type": "code",
   "execution_count": 23,
   "id": "b509a9b4-8f9c-42cf-87de-7aef89c770cb",
   "metadata": {},
   "outputs": [
    {
     "data": {
      "text/plain": [
       "False"
      ]
     },
     "execution_count": 23,
     "metadata": {},
     "output_type": "execute_result"
    }
   ],
   "source": [
    "b"
   ]
  },
  {
   "cell_type": "code",
   "execution_count": 24,
   "id": "5207a195-d0a4-4897-b96d-4e77cba365fd",
   "metadata": {},
   "outputs": [
    {
     "data": {
      "text/plain": [
       "bool"
      ]
     },
     "execution_count": 24,
     "metadata": {},
     "output_type": "execute_result"
    }
   ],
   "source": [
    "type(b)"
   ]
  },
  {
   "cell_type": "code",
   "execution_count": null,
   "id": "76a51ba9-c7a8-4f09-b127-0df48dfd6718",
   "metadata": {},
   "outputs": [],
   "source": []
  },
  {
   "cell_type": "markdown",
   "id": "b2184aba-ad37-4b36-8b0b-284aa0d77da2",
   "metadata": {},
   "source": [
    "## 1.3 String\n",
    "- 문자열 `'`, `\"` 를 이용하여 표현\n",
    "- `\\n` : 줄바꾸기\n",
    "- `\\'` : 작은 따옴표를 그대로 표현"
   ]
  },
  {
   "cell_type": "code",
   "execution_count": 25,
   "id": "f4ba9e41-4eab-4c77-aa9b-6827652c5c27",
   "metadata": {},
   "outputs": [],
   "source": [
    "a = 'hello'"
   ]
  },
  {
   "cell_type": "code",
   "execution_count": 26,
   "id": "61847855-44f5-464d-9386-a1f07e4acfc8",
   "metadata": {},
   "outputs": [],
   "source": [
    "b = \"hi\""
   ]
  },
  {
   "cell_type": "code",
   "execution_count": 27,
   "id": "90608e25-54eb-48cc-919f-2a141cc6ace6",
   "metadata": {},
   "outputs": [
    {
     "data": {
      "text/plain": [
       "'hello'"
      ]
     },
     "execution_count": 27,
     "metadata": {},
     "output_type": "execute_result"
    }
   ],
   "source": [
    "a"
   ]
  },
  {
   "cell_type": "code",
   "execution_count": 28,
   "id": "2f22bc2d-b07a-45c0-81f2-10aab2a02d31",
   "metadata": {},
   "outputs": [
    {
     "data": {
      "text/plain": [
       "'hi'"
      ]
     },
     "execution_count": 28,
     "metadata": {},
     "output_type": "execute_result"
    }
   ],
   "source": [
    "b"
   ]
  },
  {
   "cell_type": "code",
   "execution_count": 29,
   "id": "0f82cd22-8945-417c-8cc1-d900bf13900c",
   "metadata": {},
   "outputs": [
    {
     "name": "stdout",
     "output_type": "stream",
     "text": [
      "hello\n"
     ]
    }
   ],
   "source": [
    "print('hello')"
   ]
  },
  {
   "cell_type": "code",
   "execution_count": 82,
   "id": "3b1caf91-07fd-4224-ae8e-2147f480b61a",
   "metadata": {},
   "outputs": [
    {
     "name": "stdout",
     "output_type": "stream",
     "text": [
      "hello my name is 'changhee'\n"
     ]
    }
   ],
   "source": [
    "print('hello my name is \\'changhee\\'') #작은 따옴표를 그대로 표현하려면 \\' 를 사용한다"
   ]
  },
  {
   "cell_type": "code",
   "execution_count": 83,
   "id": "58f18139-9102-4600-9bc2-80dc7da92411",
   "metadata": {},
   "outputs": [
    {
     "name": "stdout",
     "output_type": "stream",
     "text": [
      "hello\n",
      " my name is 'changhee'\n"
     ]
    }
   ],
   "source": [
    "print('hello\\n my name is \\'changhee\\'') #문자열 안에서 줄을 바꿀 때 \\n을 사용한다"
   ]
  },
  {
   "cell_type": "code",
   "execution_count": 35,
   "id": "ba390982-15d3-4293-8e61-9bbf5e2ae966",
   "metadata": {},
   "outputs": [],
   "source": [
    "a = '''\n",
    "hello\n",
    "world \n",
    "hi\n",
    "'''"
   ]
  },
  {
   "cell_type": "code",
   "execution_count": 36,
   "id": "a952e880-10e8-4fb4-ae09-22e87d4fe70e",
   "metadata": {},
   "outputs": [
    {
     "data": {
      "text/plain": [
       "'\\nhello\\nworld \\nhi\\n'"
      ]
     },
     "execution_count": 36,
     "metadata": {},
     "output_type": "execute_result"
    }
   ],
   "source": [
    "a"
   ]
  },
  {
   "cell_type": "code",
   "execution_count": 38,
   "id": "3eb7e5ac-6011-49f5-9e49-a355fb019643",
   "metadata": {},
   "outputs": [],
   "source": [
    "a = 10\n",
    "b = '홍길동은 a살입니다.'"
   ]
  },
  {
   "cell_type": "markdown",
   "id": "08b93b6d-337d-4c5c-a14c-488c5995e271",
   "metadata": {},
   "source": [
    "### string interpolation\n",
    "- %-formating\n",
    "- str.format()\n",
    "- f-string ->얘를 이용할 예정\n"
   ]
  },
  {
   "cell_type": "code",
   "execution_count": 48,
   "id": "914f1ecd-7762-4cb6-ad7f-fe3ba97aa2d6",
   "metadata": {},
   "outputs": [],
   "source": [
    "age = 10"
   ]
  },
  {
   "cell_type": "code",
   "execution_count": 46,
   "id": "bf6b5c1e-1721-4177-8c10-6cdc229eda35",
   "metadata": {},
   "outputs": [
    {
     "name": "stdout",
     "output_type": "stream",
     "text": [
      "홍길동은 10살입니다.\n"
     ]
    }
   ],
   "source": [
    "print('홍길동은 %s살입니다.' % age) "
   ]
  },
  {
   "cell_type": "code",
   "execution_count": 50,
   "id": "36ebd1b9-2aea-42f4-8859-4185edbf20d9",
   "metadata": {},
   "outputs": [
    {
     "name": "stdout",
     "output_type": "stream",
     "text": [
      "홍길동은 10살입니다.\n"
     ]
    }
   ],
   "source": [
    "print('홍길동은 {}살입니다.'.format(age))"
   ]
  },
  {
   "cell_type": "code",
   "execution_count": 51,
   "id": "dfb9b06f-1154-43dd-8d8c-e5776c92a6fd",
   "metadata": {},
   "outputs": [
    {
     "name": "stdout",
     "output_type": "stream",
     "text": [
      "홍길동은 10살입니다.\n"
     ]
    }
   ],
   "source": [
    "print(f'홍길동은 {age}살입니다.')"
   ]
  },
  {
   "cell_type": "markdown",
   "id": "ce808106-795d-47e7-8fae-41c21d2a337a",
   "metadata": {},
   "source": [
    "## 02. 연산자"
   ]
  },
  {
   "cell_type": "markdown",
   "id": "db119ef0-b50f-4641-9bf3-fa13915d2ee1",
   "metadata": {},
   "source": [
    "## 2.1 산술연산자\n",
    "- `x ** y`: x의 y제곱\n",
    "- `x // y`: x를 y로 나눈 몫\n",
    "- `x % y` : x를 y로 나눈 나머지"
   ]
  },
  {
   "cell_type": "code",
   "execution_count": 62,
   "id": "40c9ac0a-98d1-49a4-ac2c-d4bb24a8bcbd",
   "metadata": {},
   "outputs": [],
   "source": [
    "a = 5\n",
    "b = 2"
   ]
  },
  {
   "cell_type": "code",
   "execution_count": 65,
   "id": "306cb6b4-581c-41a0-b4a2-cb52cda910b8",
   "metadata": {},
   "outputs": [
    {
     "name": "stdout",
     "output_type": "stream",
     "text": [
      "7\n",
      "3\n",
      "10\n",
      "2.5\n"
     ]
    }
   ],
   "source": [
    "print(a+b)\n",
    "print(a-b)\n",
    "print(a*b)\n",
    "print(a/b)"
   ]
  },
  {
   "cell_type": "code",
   "execution_count": 69,
   "id": "bce3ff05-9601-4a98-bbee-d4c037216864",
   "metadata": {},
   "outputs": [
    {
     "name": "stdout",
     "output_type": "stream",
     "text": [
      "25\n",
      "2\n",
      "1\n"
     ]
    }
   ],
   "source": [
    "print(a**b) # a의 b제곱\n",
    "print(a//b) # 몫\n",
    "print(a%b) # 나머지"
   ]
  },
  {
   "cell_type": "code",
   "execution_count": 68,
   "id": "854c720a-7777-4ee3-880f-9f42012fecb2",
   "metadata": {},
   "outputs": [
    {
     "name": "stdout",
     "output_type": "stream",
     "text": [
      "(2, 1)\n"
     ]
    }
   ],
   "source": [
    "result = divmod(a,b) #divmod(a,b) => (a를 b로 나눈 몫, 나머지)\n",
    "print(result)"
   ]
  },
  {
   "cell_type": "markdown",
   "id": "bb485655-9bc5-4143-927e-f3230c049820",
   "metadata": {},
   "source": [
    "## 2.2 비교연산자"
   ]
  },
  {
   "cell_type": "code",
   "execution_count": 70,
   "id": "293916c0-fa0d-45dd-bf77-1f21c0a950cc",
   "metadata": {},
   "outputs": [],
   "source": [
    "a = 5\n",
    "b = 10"
   ]
  },
  {
   "cell_type": "code",
   "execution_count": 75,
   "id": "a55d68cc-7cb5-4d19-9776-864c83e3f405",
   "metadata": {},
   "outputs": [
    {
     "name": "stdout",
     "output_type": "stream",
     "text": [
      "False\n",
      "True\n",
      "False\n",
      "True\n"
     ]
    }
   ],
   "source": [
    "print(a > b) # a가 b보다 큰가요?\n",
    "print(a < b) # a가 b보다 작나요?\n",
    "print(a >= b)\n",
    "print(a <= b)"
   ]
  },
  {
   "cell_type": "code",
   "execution_count": 78,
   "id": "24578380-2149-4db8-a7af-382b5f745de1",
   "metadata": {},
   "outputs": [
    {
     "name": "stdout",
     "output_type": "stream",
     "text": [
      "False\n",
      "True\n"
     ]
    }
   ],
   "source": [
    "print(a == b) # a와 b가 같다\n",
    "print(a != b) # a와 b가 다르다"
   ]
  },
  {
   "cell_type": "code",
   "execution_count": 79,
   "id": "26507c52-754b-40cd-8c65-8efc8dbf3570",
   "metadata": {},
   "outputs": [
    {
     "name": "stdout",
     "output_type": "stream",
     "text": [
      "True\n",
      "False\n"
     ]
    }
   ],
   "source": [
    "print('hi' == 'hi')\n",
    "print('hi' == 'Hi')"
   ]
  },
  {
   "cell_type": "markdown",
   "id": "9cafc131-c9e6-423b-9fc6-ccc53b409f63",
   "metadata": {},
   "source": [
    "## 2.3 논리연산자\n",
    "- and : 양쪽 모두 True일때, True를 반환\n",
    "- or : 양쪽 모두 False일때, False를 반환\n",
    "- not: 상태를 부정"
   ]
  },
  {
   "cell_type": "code",
   "execution_count": 80,
   "id": "cf00c649-eed4-4cbb-81be-15b55aba84e1",
   "metadata": {},
   "outputs": [
    {
     "name": "stdout",
     "output_type": "stream",
     "text": [
      "True\n",
      "False\n",
      "False\n",
      "False\n"
     ]
    }
   ],
   "source": [
    "print(True and True)\n",
    "print(True and False)\n",
    "print(False and True)\n",
    "print(False and False)"
   ]
  },
  {
   "cell_type": "code",
   "execution_count": 81,
   "id": "839abc47-d646-4f36-b7dd-c9e1f2952f96",
   "metadata": {},
   "outputs": [
    {
     "name": "stdout",
     "output_type": "stream",
     "text": [
      "True\n",
      "True\n",
      "True\n",
      "False\n"
     ]
    }
   ],
   "source": [
    "print(True or True)\n",
    "print(True or False)\n",
    "print(False or True)\n",
    "print(False or False)"
   ]
  },
  {
   "cell_type": "code",
   "execution_count": 84,
   "id": "e92f636b-8384-413a-b29e-b80458be8276",
   "metadata": {},
   "outputs": [
    {
     "name": "stdout",
     "output_type": "stream",
     "text": [
      "False\n"
     ]
    }
   ],
   "source": [
    "a = True\n",
    "print(not a)"
   ]
  },
  {
   "cell_type": "code",
   "execution_count": 90,
   "id": "f7f61d98-4c7b-46a2-a1f3-afa930b144f4",
   "metadata": {},
   "outputs": [
    {
     "name": "stdout",
     "output_type": "stream",
     "text": [
      "5\n",
      "0\n",
      "0\n",
      "0\n"
     ]
    }
   ],
   "source": [
    "# 단축평가 : 앞에가 T면 뒤에가 T든 F든 그냥 뒤에걸 선택, 앞에가 F면 뒤에가 T든 F든 그냥 F를 선택\n",
    "print(3 and 5)\n",
    "print(3 and 0)\n",
    "print(0 and 5)\n",
    "print(0 and 0)"
   ]
  },
  {
   "cell_type": "code",
   "execution_count": 92,
   "id": "13c2c3a7-1069-4534-86cc-64193dd7edca",
   "metadata": {},
   "outputs": [
    {
     "name": "stdout",
     "output_type": "stream",
     "text": [
      "3\n",
      "3\n",
      "5\n",
      "0\n"
     ]
    }
   ],
   "source": [
    "print(3 or 5)\n",
    "print(3 or 0)\n",
    "print(0 or 5)\n",
    "print(0 or 0)\n",
    "# 앞에가 T면 뒤에가 T든 F든 그냥 앞에걸 선택, 앞에가 F면 그냥 뒤에걸 선택"
   ]
  },
  {
   "cell_type": "markdown",
   "id": "27e78bce-fa6a-419f-96f4-871703e62e53",
   "metadata": {},
   "source": [
    "# 2.4 복합연산자\n",
    "- `a += b`   : a = a + b 과 같음\n",
    "- `a -= b`   : a = a - b\n",
    "- `a *= b`   : a = a * b\n",
    "- `a /= b`   : a = a / b\n",
    "- `a //= b`   : a = a // b\n",
    "- `a %= b`   : a = a % b\n",
    "- `a **= b`   :a = a ** b\n"
   ]
  },
  {
   "cell_type": "code",
   "execution_count": 102,
   "id": "1631f7d1-5f06-49de-82ca-2a266d42ffd7",
   "metadata": {},
   "outputs": [],
   "source": [
    "a = 2\n",
    "b = 3"
   ]
  },
  {
   "cell_type": "code",
   "execution_count": 99,
   "id": "f9416ebb-4078-47a0-8499-dc6663dae31c",
   "metadata": {},
   "outputs": [],
   "source": [
    "a = a + b\n",
    "a = a - b\n",
    "a = a * b\n",
    "a = a / b"
   ]
  },
  {
   "cell_type": "code",
   "execution_count": 104,
   "id": "6ecf962d-99d1-4af9-b3e6-248604933b17",
   "metadata": {},
   "outputs": [],
   "source": [
    "a += b\n",
    "a -= b\n",
    "a *= b\n",
    "a /= b\n",
    "a //= b\n",
    "a %= b\n",
    "a **= b"
   ]
  },
  {
   "cell_type": "markdown",
   "id": "b0e723e3-785b-4096-9d29-c76edcb262a0",
   "metadata": {},
   "source": [
    "## 2.5 기타연산자"
   ]
  },
  {
   "cell_type": "code",
   "execution_count": 106,
   "id": "5ead42f0-2b25-4788-91ba-5cace2453cb1",
   "metadata": {},
   "outputs": [],
   "source": [
    "a = 'hi'\n",
    "b = 'hello'"
   ]
  },
  {
   "cell_type": "code",
   "execution_count": 109,
   "id": "31dc74e3-ee58-4152-bcc0-7164be39c6df",
   "metadata": {},
   "outputs": [
    {
     "name": "stdout",
     "output_type": "stream",
     "text": [
      "hihello\n"
     ]
    },
    {
     "ename": "TypeError",
     "evalue": "can only concatenate str (not \"int\") to str",
     "output_type": "error",
     "traceback": [
      "\u001b[1;31m---------------------------------------------------------------------------\u001b[0m",
      "\u001b[1;31mTypeError\u001b[0m                                 Traceback (most recent call last)",
      "Cell \u001b[1;32mIn[109], line 3\u001b[0m\n\u001b[0;32m      1\u001b[0m \u001b[38;5;66;03m# concatenation\u001b[39;00m\n\u001b[0;32m      2\u001b[0m \u001b[38;5;28mprint\u001b[39m(a\u001b[38;5;241m+\u001b[39mb) \n\u001b[1;32m----> 3\u001b[0m \u001b[38;5;28mprint\u001b[39m(\u001b[43ma\u001b[49m\u001b[38;5;241;43m+\u001b[39;49m\u001b[38;5;241;43m1\u001b[39;49m) \u001b[38;5;66;03m#글자와 숫자는 에러\u001b[39;00m\n\u001b[0;32m      4\u001b[0m \u001b[38;5;28mprint\u001b[39m(\u001b[38;5;241m1\u001b[39m\u001b[38;5;241m+\u001b[39mb) \u001b[38;5;66;03m#숫자와 글자도 에러\u001b[39;00m\n",
      "\u001b[1;31mTypeError\u001b[0m: can only concatenate str (not \"int\") to str"
     ]
    }
   ],
   "source": [
    "# concatenation\n",
    "print(a+b) \n",
    "print(a+1) #글자와 숫자는 에러\n",
    "print(1+b) #숫자와 글자도 에러"
   ]
  },
  {
   "cell_type": "code",
   "execution_count": 111,
   "id": "8e4b6e1d-a23d-4f2d-9166-55b2adf0e196",
   "metadata": {},
   "outputs": [],
   "source": [
    "a = [1, 2, 3]\n",
    "b = [2, 3, 4]"
   ]
  },
  {
   "cell_type": "code",
   "execution_count": 113,
   "id": "c685e02f-dc40-4275-9bde-29947daeffc5",
   "metadata": {},
   "outputs": [
    {
     "name": "stdout",
     "output_type": "stream",
     "text": [
      "[1, 2, 3, 2, 3, 4]\n"
     ]
    }
   ],
   "source": [
    "print(a + b) #리스트도 concatenation으로 동작한다(연결)"
   ]
  },
  {
   "cell_type": "code",
   "execution_count": 115,
   "id": "08702566-82a6-42d7-969e-b36c9f240f7f",
   "metadata": {},
   "outputs": [
    {
     "name": "stdout",
     "output_type": "stream",
     "text": [
      "True\n"
     ]
    }
   ],
   "source": [
    "print(1 in a) #1이 a에 포함되어 있나요?"
   ]
  },
  {
   "cell_type": "code",
   "execution_count": 117,
   "id": "cdbd67a1-24b6-44cb-9bb3-9dfbdaec4b70",
   "metadata": {},
   "outputs": [
    {
     "name": "stdout",
     "output_type": "stream",
     "text": [
      "False\n"
     ]
    }
   ],
   "source": [
    "print(10 in a) #10이 a에 포함되어 있나요?"
   ]
  },
  {
   "cell_type": "code",
   "execution_count": 121,
   "id": "c5789e91-f2d8-4ac0-be1e-ba6086a7a295",
   "metadata": {},
   "outputs": [],
   "source": [
    "a = 100\n",
    "b = 100"
   ]
  },
  {
   "cell_type": "code",
   "execution_count": 123,
   "id": "879c3e0c-05b3-482b-aaf7-9773cd58d388",
   "metadata": {},
   "outputs": [
    {
     "name": "stdout",
     "output_type": "stream",
     "text": [
      "True\n",
      "True\n"
     ]
    }
   ],
   "source": [
    "print(a == b) #a와 b의 값이 같은가?\n",
    "print(a is b) #a와 b의 본질이 같은가?\n",
    "#값이 256이하이면 True, 257이상이면 False"
   ]
  },
  {
   "cell_type": "markdown",
   "id": "eeba469d-7448-4376-b493-2ea6f00875f8",
   "metadata": {},
   "source": [
    "### 연산자 우선순위\n",
    "0. ()를 통해서 그룹\n",
    "1. **\n",
    "2. 산술연산자 (*, /)\n",
    "3. 산술연산자 (+,-)\n",
    "4. 비교연산자, in, is\n",
    "5. not\n",
    "6. and\n",
    "7. or"
   ]
  },
  {
   "cell_type": "code",
   "execution_count": 124,
   "id": "2c77d610-69f8-4abe-b9b2-3775561ee3cb",
   "metadata": {},
   "outputs": [
    {
     "name": "stdout",
     "output_type": "stream",
     "text": [
      "-81\n",
      "81\n"
     ]
    }
   ],
   "source": [
    "print(-3 ** 4)\n",
    "print((-3)**4)"
   ]
  },
  {
   "cell_type": "markdown",
   "id": "836d603f-cd30-4ace-a66d-66cd65a47166",
   "metadata": {},
   "source": [
    "# 3. 형변환"
   ]
  },
  {
   "cell_type": "markdown",
   "id": "9c777059-bcc1-4425-b778-c03f57d4478a",
   "metadata": {},
   "source": [
    "## 3.1 암시적 형변환"
   ]
  },
  {
   "cell_type": "code",
   "execution_count": 126,
   "id": "f9fe1f3a-f5b4-4524-9240-3fba26c6b55f",
   "metadata": {},
   "outputs": [],
   "source": [
    "a = True\n",
    "b = False\n",
    "c = 1"
   ]
  },
  {
   "cell_type": "code",
   "execution_count": 128,
   "id": "73fb20de-6e38-4006-b43a-46a2650c1f8e",
   "metadata": {},
   "outputs": [
    {
     "name": "stdout",
     "output_type": "stream",
     "text": [
      "1\n",
      "2\n"
     ]
    }
   ],
   "source": [
    "print(a + b) # 1 -> True=1 False=0\n",
    "print(a + c) # 2 -> True=1 "
   ]
  },
  {
   "cell_type": "code",
   "execution_count": 132,
   "id": "78b257f6-ca36-40a7-ba0a-a9d44d1116f8",
   "metadata": {},
   "outputs": [
    {
     "name": "stdout",
     "output_type": "stream",
     "text": [
      "hello\n"
     ]
    }
   ],
   "source": [
    "if 1:\n",
    "    print('hello') # 1=True"
   ]
  },
  {
   "cell_type": "markdown",
   "id": "b01ad4c0-2db6-4b23-859c-a10cc3495e6f",
   "metadata": {},
   "source": [
    "## 3.2 명시적 형변환\n",
    "- int()\n",
    "- float()\n",
    "- str()\n",
    "- bool()"
   ]
  },
  {
   "cell_type": "code",
   "execution_count": 133,
   "id": "95265cd4-981f-4b6b-afd7-2ff1ae99c8a6",
   "metadata": {},
   "outputs": [],
   "source": [
    "a = 1\n",
    "b = '반'"
   ]
  },
  {
   "cell_type": "code",
   "execution_count": 134,
   "id": "5d7da18a-b6a3-4420-a72e-286eba690bd2",
   "metadata": {},
   "outputs": [
    {
     "ename": "TypeError",
     "evalue": "unsupported operand type(s) for +: 'int' and 'str'",
     "output_type": "error",
     "traceback": [
      "\u001b[1;31m---------------------------------------------------------------------------\u001b[0m",
      "\u001b[1;31mTypeError\u001b[0m                                 Traceback (most recent call last)",
      "Cell \u001b[1;32mIn[134], line 1\u001b[0m\n\u001b[1;32m----> 1\u001b[0m \u001b[38;5;28mprint\u001b[39m(\u001b[43ma\u001b[49m\u001b[43m \u001b[49m\u001b[38;5;241;43m+\u001b[39;49m\u001b[43m \u001b[49m\u001b[43mb\u001b[49m)\n",
      "\u001b[1;31mTypeError\u001b[0m: unsupported operand type(s) for +: 'int' and 'str'"
     ]
    }
   ],
   "source": [
    "print(a + b) #Error: 숫자와 문자를 더할 수 없다-> 형변환"
   ]
  },
  {
   "cell_type": "code",
   "execution_count": 136,
   "id": "2b20cadf-31e9-4cef-aeb0-e3b981513878",
   "metadata": {},
   "outputs": [
    {
     "name": "stdout",
     "output_type": "stream",
     "text": [
      "1반\n"
     ]
    }
   ],
   "source": [
    "print(str(a) + b) # a가 문자열이 되었기 때문에 더할 수 있다."
   ]
  },
  {
   "cell_type": "code",
   "execution_count": 141,
   "id": "9b5fb217-d0ff-419a-8671-574aa570c52f",
   "metadata": {},
   "outputs": [
    {
     "name": "stdout",
     "output_type": "stream",
     "text": [
      "<class 'str'>\n",
      "<class 'int'>\n"
     ]
    }
   ],
   "source": [
    "a = '3'\n",
    "print(type(a)) # str\n",
    "b = int(a)\n",
    "print(type(b)) # int"
   ]
  },
  {
   "cell_type": "code",
   "execution_count": 144,
   "id": "e69a9c27-e700-414f-9e67-8def0e5a1760",
   "metadata": {},
   "outputs": [
    {
     "ename": "ValueError",
     "evalue": "invalid literal for int() with base 10: 'apple'",
     "output_type": "error",
     "traceback": [
      "\u001b[1;31m---------------------------------------------------------------------------\u001b[0m",
      "\u001b[1;31mValueError\u001b[0m                                Traceback (most recent call last)",
      "Cell \u001b[1;32mIn[144], line 2\u001b[0m\n\u001b[0;32m      1\u001b[0m c \u001b[38;5;241m=\u001b[39m \u001b[38;5;124m'\u001b[39m\u001b[38;5;124mapple\u001b[39m\u001b[38;5;124m'\u001b[39m\n\u001b[1;32m----> 2\u001b[0m d \u001b[38;5;241m=\u001b[39m \u001b[38;5;28;43mint\u001b[39;49m\u001b[43m(\u001b[49m\u001b[43mc\u001b[49m\u001b[43m)\u001b[49m \u001b[38;5;66;03m#ERROR: 숫자로 바꿀 수 없는 형태이기 때문에\u001b[39;00m\n",
      "\u001b[1;31mValueError\u001b[0m: invalid literal for int() with base 10: 'apple'"
     ]
    }
   ],
   "source": [
    "c = 'apple'\n",
    "d = int(c) #ERROR: 숫자로 바꿀 수 없는 형태이기 때문에"
   ]
  },
  {
   "cell_type": "code",
   "execution_count": 147,
   "id": "2edba762-0f07-4bb2-ae3c-675d0680803e",
   "metadata": {},
   "outputs": [
    {
     "name": "stdout",
     "output_type": "stream",
     "text": [
      "True\n",
      "False\n",
      "True\n"
     ]
    }
   ],
   "source": [
    "a = 1\n",
    "b = 0\n",
    "c = -123 \n",
    "print(bool(a)) #True :0이 아닌 모든 숫자는 True\n",
    "print(bool(b)) #False : 0만 False\n",
    "print(bool(c)) #True :음수도 True"
   ]
  },
  {
   "cell_type": "code",
   "execution_count": 149,
   "id": "747545a4-f229-4739-9d82-0422554cf594",
   "metadata": {},
   "outputs": [
    {
     "name": "stdout",
     "output_type": "stream",
     "text": [
      "False\n",
      "True\n"
     ]
    }
   ],
   "source": [
    "print(bool([])) #리스트 안에 데이터가 하나도 없으면 False\n",
    "print(bool([1,2,3])) #리스트 안에 데이터가 하나라도 존재하면 True"
   ]
  },
  {
   "cell_type": "code",
   "execution_count": null,
   "id": "389cf0e2-1829-453b-9dce-a806e3b620da",
   "metadata": {},
   "outputs": [],
   "source": []
  }
 ],
 "metadata": {
  "kernelspec": {
   "display_name": "Python 3 (ipykernel)",
   "language": "python",
   "name": "python3"
  },
  "language_info": {
   "codemirror_mode": {
    "name": "ipython",
    "version": 3
   },
   "file_extension": ".py",
   "mimetype": "text/x-python",
   "name": "python",
   "nbconvert_exporter": "python",
   "pygments_lexer": "ipython3",
   "version": "3.13.2"
  }
 },
 "nbformat": 4,
 "nbformat_minor": 5
}
