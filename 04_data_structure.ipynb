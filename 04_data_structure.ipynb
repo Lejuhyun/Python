{
 "cells": [
  {
   "cell_type": "markdown",
   "id": "e2969658-50b8-4bea-bced-36372027394c",
   "metadata": {},
   "source": [
    "# 자료구조\n",
    "> 여러가지 자료구조가 가지고 있는 메소드(함수) 알아보기"
   ]
  },
  {
   "cell_type": "code",
   "execution_count": 2,
   "id": "6a5f76c9-d674-42f9-a606-9085e1d1a5b5",
   "metadata": {
    "scrolled": true
   },
   "outputs": [
    {
     "name": "stdout",
     "output_type": "stream",
     "text": [
      "['__add__', '__class__', '__contains__', '__delattr__', '__dir__', '__doc__', '__eq__', '__format__', '__ge__', '__getattribute__', '__getitem__', '__getnewargs__', '__getstate__', '__gt__', '__hash__', '__init__', '__init_subclass__', '__iter__', '__le__', '__len__', '__lt__', '__mod__', '__mul__', '__ne__', '__new__', '__reduce__', '__reduce_ex__', '__repr__', '__rmod__', '__rmul__', '__setattr__', '__sizeof__', '__str__', '__subclasshook__', 'capitalize', 'casefold', 'center', 'count', 'encode', 'endswith', 'expandtabs', 'find', 'format', 'format_map', 'index', 'isalnum', 'isalpha', 'isascii', 'isdecimal', 'isdigit', 'isidentifier', 'islower', 'isnumeric', 'isprintable', 'isspace', 'istitle', 'isupper', 'join', 'ljust', 'lower', 'lstrip', 'maketrans', 'partition', 'removeprefix', 'removesuffix', 'replace', 'rfind', 'rindex', 'rjust', 'rpartition', 'rsplit', 'rstrip', 'split', 'splitlines', 'startswith', 'strip', 'swapcase', 'title', 'translate', 'upper', 'zfill']\n"
     ]
    }
   ],
   "source": [
    "print(dir('hello'))"
   ]
  },
  {
   "cell_type": "markdown",
   "id": "fb1ab4cc-37ed-498f-9d7d-3be421c3e5ff",
   "metadata": {},
   "source": [
    "## 문자열 메소드"
   ]
  },
  {
   "cell_type": "code",
   "execution_count": 3,
   "id": "4b4e77b2-d779-43bd-b8f8-062319bbbd18",
   "metadata": {},
   "outputs": [],
   "source": [
    "a = 'hello my name is hong'"
   ]
  },
  {
   "cell_type": "code",
   "execution_count": 4,
   "id": "8cbd5a35-0a3d-4c9d-9204-98690573112f",
   "metadata": {},
   "outputs": [
    {
     "name": "stdout",
     "output_type": "stream",
     "text": [
      "hello my name is hong\n"
     ]
    }
   ],
   "source": [
    "print(a)"
   ]
  },
  {
   "cell_type": "code",
   "execution_count": 19,
   "id": "eef218f5-c84a-4d2a-bfc0-53a855cd7a8e",
   "metadata": {},
   "outputs": [
    {
     "ename": "TypeError",
     "evalue": "'str' object does not support item assignment",
     "output_type": "error",
     "traceback": [
      "\u001b[1;31m---------------------------------------------------------------------------\u001b[0m",
      "\u001b[1;31mTypeError\u001b[0m                                 Traceback (most recent call last)",
      "Cell \u001b[1;32mIn[19], line 1\u001b[0m\n\u001b[1;32m----> 1\u001b[0m \u001b[43ma\u001b[49m\u001b[43m[\u001b[49m\u001b[38;5;241;43m0\u001b[39;49m\u001b[43m]\u001b[49m \u001b[38;5;241m=\u001b[39m \u001b[38;5;124m'\u001b[39m\u001b[38;5;124mH\u001b[39m\u001b[38;5;124m'\u001b[39m  \u001b[38;5;66;03m#string은 immutable하다\u001b[39;00m\n",
      "\u001b[1;31mTypeError\u001b[0m: 'str' object does not support item assignment"
     ]
    }
   ],
   "source": [
    "a[0] = 'H'  #string은 immutable하다"
   ]
  },
  {
   "cell_type": "code",
   "execution_count": 14,
   "id": "1e28fb87-e5bb-47c1-a930-081c1a545398",
   "metadata": {},
   "outputs": [
    {
     "data": {
      "text/plain": [
       "'Hello my name is hong'"
      ]
     },
     "execution_count": 14,
     "metadata": {},
     "output_type": "execute_result"
    }
   ],
   "source": [
    "a.capitalize() #첫번째 글자를 대문자로 만든다"
   ]
  },
  {
   "cell_type": "code",
   "execution_count": 15,
   "id": "d270096c-e5d4-440a-a015-28a97ae71067",
   "metadata": {},
   "outputs": [
    {
     "name": "stdout",
     "output_type": "stream",
     "text": [
      "Hello my name is hong\n"
     ]
    }
   ],
   "source": [
    "print(a) #원본 데이터를 바꾸지 않는다"
   ]
  },
  {
   "cell_type": "code",
   "execution_count": 16,
   "id": "59a4b895-c7ac-4696-95e6-3ef696e8cdd8",
   "metadata": {},
   "outputs": [],
   "source": [
    "a = a.capitalize() #원본 데이터를 바꾼다"
   ]
  },
  {
   "cell_type": "code",
   "execution_count": 17,
   "id": "d554cf7b-a144-4217-b14c-fce3e706e68e",
   "metadata": {},
   "outputs": [
    {
     "data": {
      "text/plain": [
       "'Hello My Name Is Hong'"
      ]
     },
     "execution_count": 17,
     "metadata": {},
     "output_type": "execute_result"
    }
   ],
   "source": [
    "a.title() #각각의 단어의 첫번째 글자를 대문자로 바꾼다"
   ]
  },
  {
   "cell_type": "code",
   "execution_count": 18,
   "id": "433c8c16-4862-4658-9bf5-8e3c226d4b70",
   "metadata": {},
   "outputs": [
    {
     "data": {
      "text/plain": [
       "'hello my name is hong'"
      ]
     },
     "execution_count": 18,
     "metadata": {},
     "output_type": "execute_result"
    }
   ],
   "source": [
    "a.lower() #전부 다 소문자로 바꾼다"
   ]
  },
  {
   "cell_type": "code",
   "execution_count": 12,
   "id": "fb957c04-3bcd-43ed-af79-f0dfc92a87f6",
   "metadata": {},
   "outputs": [
    {
     "data": {
      "text/plain": [
       "'HELLO MY NAME IS HONG'"
      ]
     },
     "execution_count": 12,
     "metadata": {},
     "output_type": "execute_result"
    }
   ],
   "source": [
    "a.upper() #전부 다 대문자로 바꾼다"
   ]
  },
  {
   "cell_type": "code",
   "execution_count": 21,
   "id": "5b8d36ce-8207-4412-bde3-1e9153ed37a5",
   "metadata": {},
   "outputs": [
    {
     "data": {
      "text/plain": [
       "'my!name!is'"
      ]
     },
     "execution_count": 21,
     "metadata": {},
     "output_type": "execute_result"
    }
   ],
   "source": [
    "my_list = ['my', 'name','is']\n",
    "'!'.join(my_list)  #리스트 하나로 합치기"
   ]
  },
  {
   "cell_type": "code",
   "execution_count": 22,
   "id": "af377487-3029-45c6-954c-8be67dcf4d27",
   "metadata": {},
   "outputs": [
    {
     "data": {
      "text/plain": [
       "'배?고?프?다'"
      ]
     },
     "execution_count": 22,
     "metadata": {},
     "output_type": "execute_result"
    }
   ],
   "source": [
    "'?'.join('배고프다') "
   ]
  },
  {
   "cell_type": "code",
   "execution_count": 28,
   "id": "25ac86e3-8be4-491f-bbec-d8b5a4f5ef3b",
   "metadata": {},
   "outputs": [
    {
     "name": "stdout",
     "output_type": "stream",
     "text": [
      "             \t               hello                       \n",
      "\n"
     ]
    },
    {
     "data": {
      "text/plain": [
       "'hello'"
      ]
     },
     "execution_count": 28,
     "metadata": {},
     "output_type": "execute_result"
    }
   ],
   "source": [
    "a = '             \\t               hello                       \\n'\n",
    "print(a)\n",
    "a.strip()  #좌우 공백 없애주기(여백, \\t, \\n)"
   ]
  },
  {
   "cell_type": "code",
   "execution_count": 29,
   "id": "8635520b-9035-4b0c-a004-d34860e73d74",
   "metadata": {},
   "outputs": [
    {
     "data": {
      "text/plain": [
       "'hello????????????????'"
      ]
     },
     "execution_count": 29,
     "metadata": {},
     "output_type": "execute_result"
    }
   ],
   "source": [
    "a = '!!!!!!!!!!!!!!!!!!!!hello????????????????'\n",
    "a.strip('!')  #괄호 안에 있는 문자를 지워줌\n",
    "\n",
    "# def strip(char='') => 빈 공간을 지워주는 함수\n"
   ]
  },
  {
   "cell_type": "code",
   "execution_count": 32,
   "id": "b2e7165f-3d68-492a-a380-4465297937ac",
   "metadata": {},
   "outputs": [
    {
     "data": {
      "text/plain": [
       "'--------hello'"
      ]
     },
     "execution_count": 32,
     "metadata": {},
     "output_type": "execute_result"
    }
   ],
   "source": [
    "a = '--------hello--------'\n",
    "a.lstrip('-') #왼쪽에 있는 - 만 지워줌\n",
    "a.rstrip('-') #오른쪽에 있는 -만 지워줌"
   ]
  },
  {
   "cell_type": "code",
   "execution_count": 40,
   "id": "7cb1ecee-3a38-457c-9fb4-18c0f5061675",
   "metadata": {},
   "outputs": [
    {
     "data": {
      "text/plain": [
       "'w!!!oooooooow'"
      ]
     },
     "execution_count": 40,
     "metadata": {},
     "output_type": "execute_result"
    }
   ],
   "source": [
    "a = 'wooooooooooow'\n",
    "a.replace('o','!',3)  #내가 원하는 철자로 대체하는 함수 \n",
    "#replace(old,new, [count]) #앞에 있는 [count]개만 대체하기"
   ]
  },
  {
   "cell_type": "code",
   "execution_count": 46,
   "id": "09ebfc58-f560-416d-b680-034304e198c8",
   "metadata": {},
   "outputs": [
    {
     "data": {
      "text/plain": [
       "-1"
      ]
     },
     "execution_count": 46,
     "metadata": {},
     "output_type": "execute_result"
    }
   ],
   "source": [
    "a= 'apple'\n",
    "a.find('a') # => 0\n",
    "a.find('l') # = > 3\n",
    "a.find('p') # = > 1 가장 앞에 있는 인덱스 번호를 출력해준다\n",
    "a.find('z') # = > -1 문자열이 없을때에는 -1을 출력해준다\n",
    "#해당 글자의 인덱스 번호를 출력해준다"
   ]
  },
  {
   "cell_type": "code",
   "execution_count": 50,
   "id": "9b4814f4-18db-4003-83d7-998f8f2b7e29",
   "metadata": {},
   "outputs": [
    {
     "ename": "ValueError",
     "evalue": "substring not found",
     "output_type": "error",
     "traceback": [
      "\u001b[1;31m---------------------------------------------------------------------------\u001b[0m",
      "\u001b[1;31mValueError\u001b[0m                                Traceback (most recent call last)",
      "Cell \u001b[1;32mIn[50], line 5\u001b[0m\n\u001b[0;32m      3\u001b[0m a\u001b[38;5;241m.\u001b[39mindex(\u001b[38;5;124m'\u001b[39m\u001b[38;5;124ml\u001b[39m\u001b[38;5;124m'\u001b[39m) \u001b[38;5;66;03m# = > 3\u001b[39;00m\n\u001b[0;32m      4\u001b[0m a\u001b[38;5;241m.\u001b[39mindex(\u001b[38;5;124m'\u001b[39m\u001b[38;5;124mp\u001b[39m\u001b[38;5;124m'\u001b[39m) \u001b[38;5;66;03m# = > 1\u001b[39;00m\n\u001b[1;32m----> 5\u001b[0m \u001b[43ma\u001b[49m\u001b[38;5;241;43m.\u001b[39;49m\u001b[43mindex\u001b[49m\u001b[43m(\u001b[49m\u001b[38;5;124;43m'\u001b[39;49m\u001b[38;5;124;43mz\u001b[39;49m\u001b[38;5;124;43m'\u001b[39;49m\u001b[43m)\u001b[49m \u001b[38;5;66;03m# ERROR 문자열이 없을때에는 에러.\u001b[39;00m\n",
      "\u001b[1;31mValueError\u001b[0m: substring not found"
     ]
    }
   ],
   "source": [
    "a='apple'\n",
    "a.index('a') # = > 0\n",
    "a.index('l') # = > 3\n",
    "a.index('p') # = > 1\n",
    "a.index('z') # ERROR 문자열이 없을때에는 에러."
   ]
  },
  {
   "cell_type": "code",
   "execution_count": 52,
   "id": "b63a6ca3-3e0e-4e1e-804e-dc650f659505",
   "metadata": {},
   "outputs": [
    {
     "data": {
      "text/plain": [
       "['my', 'name', 'is', 'hong']"
      ]
     },
     "execution_count": 52,
     "metadata": {},
     "output_type": "execute_result"
    }
   ],
   "source": [
    "a = 'my name is hong'\n",
    "a.split() #띄어쓰기를 기준으로 데이터를 잘라서 리스트로 만들어줌"
   ]
  },
  {
   "cell_type": "code",
   "execution_count": 54,
   "id": "9b9a1ba9-eb1e-4803-b3b7-50464d89ac9a",
   "metadata": {},
   "outputs": [
    {
     "data": {
      "text/plain": [
       "['my', 'name', 'is?hong']"
      ]
     },
     "execution_count": 54,
     "metadata": {},
     "output_type": "execute_result"
    }
   ],
   "source": [
    "a = 'my!name!is?hong'\n",
    "a.split('!') #느낌표를 기준으로 데이터를 자름"
   ]
  },
  {
   "cell_type": "code",
   "execution_count": 56,
   "id": "2dcba618-28db-4d78-ac4c-c4c7ee2e684f",
   "metadata": {},
   "outputs": [
    {
     "data": {
      "text/plain": [
       "5"
      ]
     },
     "execution_count": 56,
     "metadata": {},
     "output_type": "execute_result"
    }
   ],
   "source": [
    "a = 'wooooow'\n",
    "a.count('o')"
   ]
  },
  {
   "cell_type": "markdown",
   "id": "4afe9888-f8f9-4af2-a1bc-d838ae4ac6d4",
   "metadata": {},
   "source": [
    "## 리스트 메소드\n",
    "- `append`랑 `pop`중요"
   ]
  },
  {
   "cell_type": "code",
   "execution_count": 25,
   "id": "df8ff7df-df0c-4181-ac0b-316168f05d90",
   "metadata": {},
   "outputs": [],
   "source": [
    "numbers = [2, 6, 1, 4, 8, 3, 2, 8]"
   ]
  },
  {
   "cell_type": "code",
   "execution_count": 26,
   "id": "3f8aec45-ef03-4aec-82b4-51c584a804e4",
   "metadata": {},
   "outputs": [
    {
     "name": "stdout",
     "output_type": "stream",
     "text": [
      "[2, 6, 1, 4, 8, 3, 2, 8, 10]\n"
     ]
    }
   ],
   "source": [
    "numbers.append(10) #apppend: 마지막에 하나의 데이터를 추가\n",
    "print(numbers) #원본 데이터가 아예 바뀜"
   ]
  },
  {
   "cell_type": "code",
   "execution_count": 27,
   "id": "6b87b46f-f3e0-4fb4-8980-114e661c4587",
   "metadata": {},
   "outputs": [
    {
     "name": "stdout",
     "output_type": "stream",
     "text": [
      "[2, 6, 1, 4, 8, 3, 2, 8, 10, 99, 100]\n"
     ]
    }
   ],
   "source": [
    "a = [99,100]\n",
    "numbers.extend(a) #extend: 여러개의 데이터를 추가 \n",
    "print(numbers)"
   ]
  },
  {
   "cell_type": "code",
   "execution_count": 28,
   "id": "11cb1d57-59aa-4c12-bfe7-253784d61f64",
   "metadata": {},
   "outputs": [
    {
     "name": "stdout",
     "output_type": "stream",
     "text": [
      "[2, 6, 1, 5, 4, 8, 3, 2, 8, 10, 99, 100]\n"
     ]
    }
   ],
   "source": [
    "numbers.insert(3, 5) #insert(index_number,숫자): 내가 원하는 위치에 데이터 추가\n",
    "print(numbers)"
   ]
  },
  {
   "cell_type": "code",
   "execution_count": 29,
   "id": "78286ce9-6f50-4477-b497-fe2289c29a6d",
   "metadata": {},
   "outputs": [
    {
     "name": "stdout",
     "output_type": "stream",
     "text": [
      "[2, 6, 1, 5, 4, 3, 2, 8, 10, 99, 100]\n"
     ]
    }
   ],
   "source": [
    "# x를 찾아서 순서대로 제거, 없으면 오류\n",
    "numbers.remove(8) #8이 두개면 앞에서부터 지움\n",
    "print(numbers) "
   ]
  },
  {
   "cell_type": "code",
   "execution_count": 30,
   "id": "fd3d8ebf-5bcd-49ac-83cf-625b5a7fc814",
   "metadata": {},
   "outputs": [
    {
     "name": "stdout",
     "output_type": "stream",
     "text": [
      "[2, 6, 1, 5, 4, 3, 2, 8, 10, 99]\n"
     ]
    }
   ],
   "source": [
    "numbers.pop() # 맨 마지막 데이터를 제거\n",
    "print(numbers)"
   ]
  },
  {
   "cell_type": "code",
   "execution_count": 31,
   "id": "b70e9106-8468-4054-abd8-e298388d6d8f",
   "metadata": {},
   "outputs": [
    {
     "name": "stdout",
     "output_type": "stream",
     "text": [
      "[6, 1, 5, 4, 3, 2, 8, 10, 99]\n"
     ]
    }
   ],
   "source": [
    "numbers.pop(0) # 원하는 데이터를 인덱스넘버로 제거\n",
    "print(numbers)\n"
   ]
  },
  {
   "cell_type": "code",
   "execution_count": 32,
   "id": "4d2203c5-d307-427e-99d7-d81d0b154142",
   "metadata": {},
   "outputs": [
    {
     "name": "stdout",
     "output_type": "stream",
     "text": [
      "[1, 2, 3, 4, 5, 6, 8, 10, 99]\n"
     ]
    }
   ],
   "source": [
    "numbers.sort() #오름차순으로 정렬\n",
    "print(numbers)"
   ]
  },
  {
   "cell_type": "code",
   "execution_count": 33,
   "id": "3d1822f0-b3a6-440d-837b-485d93f23877",
   "metadata": {},
   "outputs": [
    {
     "name": "stdout",
     "output_type": "stream",
     "text": [
      "[99, 10, 8, 6, 5, 4, 3, 2, 1]\n"
     ]
    }
   ],
   "source": [
    "numbers.sort(reverse=True) #내림차순으로 정렬\n",
    "print(numbers)"
   ]
  },
  {
   "cell_type": "code",
   "execution_count": 36,
   "id": "5ef18d6b-2e44-4058-82dc-bf522950260b",
   "metadata": {},
   "outputs": [
    {
     "name": "stdout",
     "output_type": "stream",
     "text": [
      "[1, 2, 3, 5, 7, 8]\n",
      "[5, 3, 2, 7, 8, 1]\n"
     ]
    }
   ],
   "source": [
    "a = [5,3,2,7,8,1]\n",
    "print(sorted(a)) #sorted는 원본데이터를 바꾸지 않는다, sort는 원본데이터를 바꾼다(외울필요는 없음)\n",
    "print(a)"
   ]
  },
  {
   "cell_type": "code",
   "execution_count": 38,
   "id": "25273126-0ba3-4f10-836d-68abd1330e84",
   "metadata": {},
   "outputs": [
    {
     "name": "stdout",
     "output_type": "stream",
     "text": [
      "['a', 'e', 'z', '나', '하']\n"
     ]
    }
   ],
   "source": [
    "my_list=['a','e','하','나','z']\n",
    "my_list.sort()\n",
    "print(my_list)"
   ]
  },
  {
   "cell_type": "code",
   "execution_count": 40,
   "id": "01673d74-059a-415f-873f-68d285940f3b",
   "metadata": {},
   "outputs": [
    {
     "name": "stdout",
     "output_type": "stream",
     "text": [
      "[1, 2, 3, 4, 5, 6, 8, 10, 99]\n",
      "[99, 10, 8, 6, 5, 4, 3, 2, 1]\n"
     ]
    }
   ],
   "source": [
    "print(numbers)\n",
    "numbers.reverse()\n",
    "print(numbers)"
   ]
  },
  {
   "cell_type": "code",
   "execution_count": 41,
   "id": "22796829-5e13-4594-9ca2-ed50901a612c",
   "metadata": {},
   "outputs": [
    {
     "data": {
      "text/plain": [
       "1"
      ]
     },
     "execution_count": 41,
     "metadata": {},
     "output_type": "execute_result"
    }
   ],
   "source": [
    "numbers.count(10) #개수세기"
   ]
  },
  {
   "cell_type": "markdown",
   "id": "6190d2a4-dd41-42c4-b3d3-ddeec917976c",
   "metadata": {},
   "source": [
    "### list copy"
   ]
  },
  {
   "cell_type": "code",
   "execution_count": 42,
   "id": "0a908bf3-4670-45e5-8016-490a1a4096ba",
   "metadata": {},
   "outputs": [],
   "source": [
    "origin_list = [1,2,3]\n",
    "copy_list = origin_list"
   ]
  },
  {
   "cell_type": "code",
   "execution_count": 43,
   "id": "921b5379-4e64-41ac-ade9-1a2806f38ad5",
   "metadata": {},
   "outputs": [
    {
     "name": "stdout",
     "output_type": "stream",
     "text": [
      "[1, 2, 3]\n",
      "[1, 2, 3]\n"
     ]
    }
   ],
   "source": [
    "print(origin_list)\n",
    "print(copy_list)"
   ]
  },
  {
   "cell_type": "code",
   "execution_count": 44,
   "id": "3279b25d-f8b3-47f7-a645-ca85a8068b3d",
   "metadata": {},
   "outputs": [
    {
     "name": "stdout",
     "output_type": "stream",
     "text": [
      "[100, 2, 3]\n",
      "[100, 2, 3]\n"
     ]
    }
   ],
   "source": [
    "copy_list[0] = 100\n",
    "print(origin_list)\n",
    "print(copy_list)"
   ]
  },
  {
   "cell_type": "code",
   "execution_count": 46,
   "id": "8e01f321-e389-489c-9f7d-b131af9c7103",
   "metadata": {},
   "outputs": [
    {
     "name": "stdout",
     "output_type": "stream",
     "text": [
      "[1, 2, 3]\n",
      "[100, 2, 3]\n"
     ]
    }
   ],
   "source": [
    "origin_list = [1,2,3]\n",
    "copy_list = origin_list[:] #origin list를 처음부터 끝까지 슬라이싱한 데이터를 가져옴\n",
    "copy_list[0] = 100\n",
    "print(origin_list)\n",
    "print(copy_list)"
   ]
  },
  {
   "cell_type": "code",
   "execution_count": 47,
   "id": "e87eecbc-da9b-4a75-b9bd-b927ef336d39",
   "metadata": {},
   "outputs": [
    {
     "name": "stdout",
     "output_type": "stream",
     "text": [
      "[1, 2, [-10, 11]]\n",
      "[100, 2, [-10, 11]]\n"
     ]
    }
   ],
   "source": [
    "o_l = [1,2,[10,11]]\n",
    "c_l = o_l[:]\n",
    "\n",
    "c_l[0] = 100\n",
    "c_l[2][0] = -10\n",
    "\n",
    "print(o_l)\n",
    "print(c_l)"
   ]
  },
  {
   "cell_type": "code",
   "execution_count": 52,
   "id": "6ad66328-170e-4104-a3e5-e9a13ce5f830",
   "metadata": {},
   "outputs": [
    {
     "name": "stdout",
     "output_type": "stream",
     "text": [
      "[1, 2, [10, 11]]\n",
      "[100, 2, [10, -11]]\n"
     ]
    }
   ],
   "source": [
    "import copy\n",
    "o_l = [1,2,[10,11]]\n",
    "c_l = copy.deepcopy(o_l)  ##리스트 안에 리스트가 중첩되어있을 때 : deep copy 사용\n",
    "\n",
    "c_l[0] = 100\n",
    "c_l[2][1] = -11\n",
    "\n",
    "print(o_l)\n",
    "print(c_l)\n",
    "\n"
   ]
  },
  {
   "cell_type": "markdown",
   "id": "38703d55-5bf7-4d48-831a-3667ed8c871f",
   "metadata": {},
   "source": [
    "### list comprehension"
   ]
  },
  {
   "cell_type": "code",
   "execution_count": 53,
   "id": "b3b373ed-55dc-4ccd-9aa3-28f5789b4ad0",
   "metadata": {},
   "outputs": [
    {
     "name": "stdout",
     "output_type": "stream",
     "text": [
      "[1, 2, 3, 4, 5, 6, 7, 8, 9, 10]\n"
     ]
    }
   ],
   "source": [
    "numbers = list(range(1,11))\n",
    "print(numbers)"
   ]
  },
  {
   "cell_type": "code",
   "execution_count": 54,
   "id": "becb4a70-6031-4f72-a070-7bd980c86590",
   "metadata": {},
   "outputs": [
    {
     "name": "stdout",
     "output_type": "stream",
     "text": [
      "[1, 8, 27, 64, 125, 216, 343, 512, 729, 1000]\n"
     ]
    }
   ],
   "source": [
    "result = []\n",
    "for number in numbers:\n",
    "    temp = number ** 3\n",
    "    result.append(temp) # 리스트 안에 추가할 때 append\n",
    "print(result)"
   ]
  },
  {
   "cell_type": "code",
   "execution_count": 58,
   "id": "9e367fee-6102-458b-8081-11ef1652adc2",
   "metadata": {},
   "outputs": [
    {
     "name": "stdout",
     "output_type": "stream",
     "text": [
      "[1, 8, 27, 64, 125, 216, 343, 512, 729, 1000]\n"
     ]
    }
   ],
   "source": [
    "result = [number ** 3 for number in numbers]\n",
    "# result = [number1 ** 3, number2 ** 3, number3 ** 3]\n",
    "print(result)"
   ]
  },
  {
   "cell_type": "code",
   "execution_count": 62,
   "id": "0d6fd78a-5d8d-429f-845e-36a9f52a35f5",
   "metadata": {},
   "outputs": [
    {
     "name": "stdout",
     "output_type": "stream",
     "text": [
      "[1, 2, 3, 4, 5, 6, 7, 8, 9, 10, 11, 12, 13, 14, 15, 16, 17, 18, 19, 20, 21, 22, 23, 24, 25, 26, 27, 28, 29, 30]\n",
      "[2, 4, 6, 8, 10, 12, 14, 16, 18, 20, 22, 24, 26, 28, 30]\n"
     ]
    }
   ],
   "source": [
    "# 짝수만 고르기\n",
    "numbers = list(range(1, 31))\n",
    "print(numbers)\n",
    "\n",
    "result= [] \n",
    "\n",
    "for number in numbers:\n",
    "    if number % 2 == 0:\n",
    "        result.append(number)\n",
    "\n",
    "print(result)\n",
    "    "
   ]
  },
  {
   "cell_type": "code",
   "execution_count": 67,
   "id": "caecfc2b-21b7-44cc-9680-8b121b9f2f11",
   "metadata": {},
   "outputs": [
    {
     "name": "stdout",
     "output_type": "stream",
     "text": [
      "[4, 8, 12, 16, 20, 24, 28, 32, 36, 40, 44, 48, 52, 56, 60]\n"
     ]
    }
   ],
   "source": [
    "numbers = list(range(1, 31))\n",
    "result = [number * 2 for number in numbers if number % 2 == 0] # 짝수들만 2배해서 보여주기\n",
    "#result = [number * 2 ////for number in numbers ////if number % 2 == 0]\n",
    "print(result)"
   ]
  },
  {
   "cell_type": "code",
   "execution_count": 70,
   "id": "8c27bafa-8069-4906-a7c4-249f7ffb8751",
   "metadata": {},
   "outputs": [],
   "source": [
    "# 연습! 모음제거\n",
    "words= 'my name is hong'\n",
    "# = > my nm s hng"
   ]
  },
  {
   "cell_type": "code",
   "execution_count": 84,
   "id": "58d98cda-a63d-4733-8aef-cc55c8e4c327",
   "metadata": {},
   "outputs": [
    {
     "name": "stdout",
     "output_type": "stream",
     "text": [
      "['m', 'y', ' ', 'n', 'm', ' ', 's', ' ', 'h', 'n', 'g']\n",
      "my nm s hng\n"
     ]
    }
   ],
   "source": [
    "# 1. for / if\n",
    "result = []\n",
    "vowels=['a','e','i','o','u']\n",
    "for word in words:\n",
    "    if word not in vowels:\n",
    "        result.append(word)     \n",
    "print(result)\n",
    "print(''.join(result))  #리스트 하나로 합치기 join함수"
   ]
  },
  {
   "cell_type": "code",
   "execution_count": 83,
   "id": "8f80e8e1-9fd0-431e-b2a3-5501b60c2cf5",
   "metadata": {},
   "outputs": [
    {
     "name": "stdout",
     "output_type": "stream",
     "text": [
      "['m', 'y', ' ', 'n', 'm', ' ', 's', ' ', 'h', 'n', 'g', 'm', 'y', ' ', 'n', 'm', ' ', 's', ' ', 'h', 'n', 'g', 'm', 'y', ' ', 'n', 'm', ' ', 's', ' ', 'h', 'n', 'g']\n",
      "my nm s hngmy nm s hngmy nm s hng\n"
     ]
    }
   ],
   "source": [
    "# 1. for / if\n",
    "for word in words:\n",
    "    if word not in 'aeiou':\n",
    "        result.append(word)     \n",
    "print(result)\n",
    "print(''.join(result))  #리스트 하나로 합치기 join함수"
   ]
  },
  {
   "cell_type": "code",
   "execution_count": 85,
   "id": "c67b54b8-4060-4dd6-9ea2-ac2ec7901d7c",
   "metadata": {},
   "outputs": [
    {
     "name": "stdout",
     "output_type": "stream",
     "text": [
      "['m', 'y', ' ', 'n', 'm', ' ', 's', ' ', 'h', 'n', 'g']\n",
      "my nm s hng\n"
     ]
    }
   ],
   "source": [
    "# 2. list comprehension\n",
    "vowels = 'aeiou'\n",
    "result = [word for word in words if word not in vowels]\n",
    "print(result)\n",
    "print(''.join(result))"
   ]
  },
  {
   "cell_type": "code",
   "execution_count": 86,
   "id": "375f1542-e330-4ba2-97ed-3be18dbfa08c",
   "metadata": {},
   "outputs": [
    {
     "name": "stdout",
     "output_type": "stream",
     "text": [
      "my nm s hng\n"
     ]
    }
   ],
   "source": [
    "# 3. replace 메소드\n",
    "vowels = 'aeiou'\n",
    "for char in vowels:\n",
    "   words = words.replace(char, '')\n",
    "print(words)"
   ]
  },
  {
   "cell_type": "markdown",
   "id": "b693a8bb-9033-4255-9a1a-98bc470d58f7",
   "metadata": {},
   "source": [
    "## dictionary 메소드\n",
    "- 딕셔너리에서 키랑 값을 추가할 때: `dic_name[key_name] = value`\n",
    "- ex) locations = {'서울' :1 , '부산' : 2}\n",
    "- locations['대구'] = 3"
   ]
  },
  {
   "cell_type": "code",
   "execution_count": 2,
   "id": "119f4bf3-b8b6-4e59-adcf-5e56657cb1cf",
   "metadata": {},
   "outputs": [],
   "source": [
    "info = {\n",
    "    'name': 'hong',\n",
    "    'location' : 'seoul',\n",
    "    'age' : 20,\n",
    "    'phone_book' : {\n",
    "        'kim': '010-1234-1234',\n",
    "        'park': '010-4321-4321'\n",
    "    },\n",
    "    'models' : ['iphone', 'ipad'],\n",
    "}"
   ]
  },
  {
   "cell_type": "code",
   "execution_count": 8,
   "id": "98c14ccf-64c3-403d-a7ab-57deae5e5ae7",
   "metadata": {},
   "outputs": [
    {
     "name": "stdout",
     "output_type": "stream",
     "text": [
      "hong\n",
      "20\n",
      "010-4321-4321\n",
      "ipad\n"
     ]
    }
   ],
   "source": [
    "print(info['name'])\n",
    "print(info['age'])\n",
    "print(info['phone_book']['park'])\n",
    "print(info['models'][1])"
   ]
  },
  {
   "cell_type": "code",
   "execution_count": 12,
   "id": "18b41c6a-f106-4cfe-8749-406312765721",
   "metadata": {},
   "outputs": [
    {
     "name": "stdout",
     "output_type": "stream",
     "text": [
      "{'name': 'lee', 'location': 'seoul', 'age': 20, 'phone_book': {'kim': '010-1234-1234', 'park': '010-4321-4321'}, 'models': ['iphone', 'ipad']}\n"
     ]
    }
   ],
   "source": [
    "info['name'] = 'lee'\n",
    "print(info)"
   ]
  },
  {
   "cell_type": "code",
   "execution_count": 13,
   "id": "357b4e9d-6de0-4a25-b915-4bc8a93bc837",
   "metadata": {},
   "outputs": [
    {
     "name": "stdout",
     "output_type": "stream",
     "text": [
      "{'name': 'choi', 'location': 'seoul', 'age': 20, 'phone_book': {'kim': '010-1234-1234', 'park': '010-4321-4321'}, 'models': ['iphone', 'ipad']}\n"
     ]
    }
   ],
   "source": [
    "info.update(name='choi')\n",
    "print(info)"
   ]
  },
  {
   "cell_type": "code",
   "execution_count": 15,
   "id": "5e708937-a9eb-4ebc-a632-0be400ec7001",
   "metadata": {},
   "outputs": [
    {
     "name": "stdout",
     "output_type": "stream",
     "text": [
      "{'name': 'choi', 'age': 20, 'phone_book': {'kim': '010-1234-1234', 'park': '010-4321-4321'}, 'models': ['iphone', 'ipad']}\n"
     ]
    }
   ],
   "source": [
    "info.pop('location') #원하는 key :value 쌍을 완전히 제거할 때 사용한다. # list pop: 맨 마지막 요소 뽑아내기  \n",
    "print(info)"
   ]
  },
  {
   "cell_type": "code",
   "execution_count": 16,
   "id": "6459d974-af7e-4c9c-814e-3631852a880d",
   "metadata": {},
   "outputs": [
    {
     "name": "stdout",
     "output_type": "stream",
     "text": [
      "choi\n",
      "choi\n"
     ]
    }
   ],
   "source": [
    "print(info.get('name'))\n",
    "print(info['name'])"
   ]
  },
  {
   "cell_type": "code",
   "execution_count": 18,
   "id": "62d63cf3-2c41-426c-a108-318dd9cc691f",
   "metadata": {},
   "outputs": [
    {
     "name": "stdout",
     "output_type": "stream",
     "text": [
      "None\n"
     ]
    },
    {
     "ename": "KeyError",
     "evalue": "'birth'",
     "output_type": "error",
     "traceback": [
      "\u001b[1;31m---------------------------------------------------------------------------\u001b[0m",
      "\u001b[1;31mKeyError\u001b[0m                                  Traceback (most recent call last)",
      "Cell \u001b[1;32mIn[18], line 2\u001b[0m\n\u001b[0;32m      1\u001b[0m \u001b[38;5;28mprint\u001b[39m(info\u001b[38;5;241m.\u001b[39mget(\u001b[38;5;124m'\u001b[39m\u001b[38;5;124mbirth\u001b[39m\u001b[38;5;124m'\u001b[39m)) \u001b[38;5;66;03m#None\u001b[39;00m\n\u001b[1;32m----> 2\u001b[0m \u001b[38;5;28mprint\u001b[39m(\u001b[43minfo\u001b[49m\u001b[43m[\u001b[49m\u001b[38;5;124;43m'\u001b[39;49m\u001b[38;5;124;43mbirth\u001b[39;49m\u001b[38;5;124;43m'\u001b[39;49m\u001b[43m]\u001b[49m) \u001b[38;5;66;03m#ERROR\u001b[39;00m\n",
      "\u001b[1;31mKeyError\u001b[0m: 'birth'"
     ]
    }
   ],
   "source": [
    "print(info.get('birth')) #key가 없으면 None\n",
    "print(info['birth']) #ket가 없으면 ERROR"
   ]
  },
  {
   "cell_type": "code",
   "execution_count": null,
   "id": "b749c8e6-c290-4e35-9338-2b6bbc481cc8",
   "metadata": {},
   "outputs": [],
   "source": [
    "# 연습문제\n",
    "blood_type = ['A','B','A','B','O','AB','A','A','AB']\n",
    "my_dict = {\n",
    "    'A': 'num_A',\n",
    "    'B': 'num_B',\n",
    "    'AB': 'num_AB',\n",
    "    'O': 'num_O'\n",
    "}\n",
    "num_A = 0\n",
    "num_B = 0\n",
    "num_AB = 0\n",
    "num_O = 0\n",
    "for char in blood_type:\n",
    "    if char == 'A':\n",
    "        num_A += 1\n",
    "    elif char == 'B':\n",
    "        num_B += 1\n",
    "    elif char == 'AB':\n",
    "        num_AB += 1\n",
    "    else:\n",
    "        num_O +=1\n",
    "\n",
    "info.update\n",
    "\n",
    "# {'A': 4, 'B':2, 'AB': 2, 'O':1}"
   ]
  },
  {
   "cell_type": "code",
   "execution_count": 20,
   "id": "fa502831-56c9-42dc-9bc8-e81dff0864ad",
   "metadata": {},
   "outputs": [
    {
     "name": "stdout",
     "output_type": "stream",
     "text": [
      "{'A': 4, 'B': 2, 'AB': 2, 'O': 1}\n"
     ]
    }
   ],
   "source": [
    "blood_type = ['A','B','A','B','O','AB','A','A','AB']\n",
    "result = {\n",
    "    'A': 0,\n",
    "    'B': 0,\n",
    "    'AB': 0,\n",
    "    'O': 0,\n",
    "}\n",
    "\n",
    "for blood in blood_type:\n",
    "    #result['A']\n",
    "    result[blood] += 1\n",
    "\n",
    "print(result)"
   ]
  },
  {
   "cell_type": "code",
   "execution_count": 23,
   "id": "f5f3ee5f-6076-4085-bb8f-fe0e8f94dcef",
   "metadata": {},
   "outputs": [
    {
     "name": "stdout",
     "output_type": "stream",
     "text": [
      "{'서울': 2, '대전': 1, '부산': 1, '대구': 1, 'LA': 1, '파리': 1}\n"
     ]
    }
   ],
   "source": [
    "locations =['서울', '서울','대전','부산','대구','LA','파리']\n",
    "result = {}\n",
    "for location in locations:\n",
    "    if location in result.keys():\n",
    "        result[location] += 1\n",
    "    else:\n",
    "        result[location] = 1\n",
    "\n",
    "print(result)"
   ]
  },
  {
   "cell_type": "code",
   "execution_count": 24,
   "id": "4ca523a5-b35a-4f1d-90e3-d6b9e5138817",
   "metadata": {},
   "outputs": [
    {
     "name": "stdout",
     "output_type": "stream",
     "text": [
      "{'서울': 2, '대전': 1, '부산': 1, '대구': 1, 'LA': 1, '파리': 1}\n"
     ]
    }
   ],
   "source": [
    "locations =['서울', '서울','대전','부산','대구','LA','파리']\n",
    "result = {}\n",
    "for location in locations:\n",
    "    if result.get(location):\n",
    "        result[location] += 1\n",
    "    else:\n",
    "        result[location] = 1\n",
    "\n",
    "print(result)"
   ]
  },
  {
   "cell_type": "markdown",
   "id": "ca4db458-270b-44f2-8660-02b9c91ebc5a",
   "metadata": {},
   "source": [
    "### dict comprehesion"
   ]
  },
  {
   "cell_type": "code",
   "execution_count": 26,
   "id": "22fd879d-0643-414b-a465-77f1d4990b8b",
   "metadata": {},
   "outputs": [
    {
     "name": "stdout",
     "output_type": "stream",
     "text": [
      "{1: 1, 2: 8, 3: 27, 4: 64, 5: 125, 6: 216, 7: 343, 8: 512, 9: 729, 10: 1000}\n"
     ]
    }
   ],
   "source": [
    "# {1: 1, 2: 8, 3: 27, ...10: 1000}\n",
    "result = {}\n",
    "for number in range(1,11):\n",
    "    result[number] = number ** 3\n",
    "print(result)\n",
    "    "
   ]
  },
  {
   "cell_type": "code",
   "execution_count": 28,
   "id": "3d82879f-1853-44f8-8ea2-3d549fbbc0a0",
   "metadata": {},
   "outputs": [
    {
     "name": "stdout",
     "output_type": "stream",
     "text": [
      "{1: 1, 2: 8, 3: 27, 4: 64, 5: 125, 6: 216, 7: 343, 8: 512, 9: 729, 10: 1000}\n"
     ]
    }
   ],
   "source": [
    "result = {number: number ** 3 for number in range(1,11)}\n",
    "print(result)"
   ]
  },
  {
   "cell_type": "code",
   "execution_count": 33,
   "id": "6a5206d7-ba83-4fc3-833c-976f0d347514",
   "metadata": {},
   "outputs": [
    {
     "name": "stdout",
     "output_type": "stream",
     "text": [
      "{'수원': 30, '부산': 0}\n"
     ]
    }
   ],
   "source": [
    "#1. for\n",
    "dust = {\n",
    "    '서울': 50,\n",
    "    '인천': 100,\n",
    "    '수원': 30,\n",
    "    '부산': 0\n",
    "}\n",
    "\n",
    "result={}\n",
    "for key, value in dust.items():   #for k,v in info.items(): (key, value) 둘 다 추출 \n",
    "    if value <= 30:\n",
    "        result[key] = value\n",
    "print(result)"
   ]
  },
  {
   "cell_type": "code",
   "execution_count": 36,
   "id": "367aa99b-73d6-4687-b9b8-21a1630329a6",
   "metadata": {},
   "outputs": [
    {
     "name": "stdout",
     "output_type": "stream",
     "text": [
      "{'수원': 30, '부산': 0}\n"
     ]
    }
   ],
   "source": [
    "#2. comp\n",
    "result = {k: v for k, v in dust.items() if v <= 30}\n",
    "print(result)"
   ]
  },
  {
   "cell_type": "markdown",
   "id": "a1ada5a1-57db-4f93-bfa4-f911e55fcf40",
   "metadata": {},
   "source": [
    "## Set 메소드"
   ]
  },
  {
   "cell_type": "code",
   "execution_count": 46,
   "id": "6605b5c9-5916-4fe0-8633-3001d4a2e8a2",
   "metadata": {},
   "outputs": [],
   "source": [
    "fruits = {'apple', 'banana', 'melon'}"
   ]
  },
  {
   "cell_type": "code",
   "execution_count": 42,
   "id": "3b6d86a1-264f-4a88-a09e-761ecf675067",
   "metadata": {},
   "outputs": [
    {
     "name": "stdout",
     "output_type": "stream",
     "text": [
      "{'melon', 'banana', 'apple'}\n"
     ]
    }
   ],
   "source": [
    "print(fruits)"
   ]
  },
  {
   "cell_type": "code",
   "execution_count": 47,
   "id": "b25435c3-868d-48c8-9fd7-79e3852278c4",
   "metadata": {},
   "outputs": [
    {
     "name": "stdout",
     "output_type": "stream",
     "text": [
      "{'melon', 'watermelon', 'banana', 'apple'}\n"
     ]
    }
   ],
   "source": [
    "## add: 하나의 데이터 추가하기\n",
    "\n",
    "fruits.add('watermelon')\n",
    "print(fruits)"
   ]
  },
  {
   "cell_type": "code",
   "execution_count": 48,
   "id": "4df18c14-8e8c-4049-8f1e-7a7566a6178b",
   "metadata": {},
   "outputs": [
    {
     "name": "stdout",
     "output_type": "stream",
     "text": [
      "{'orange', 'watermelon', 'banana', 'melon', 'grape', 'apple'}\n"
     ]
    }
   ],
   "source": [
    "## update: 여러개의 데이터 추가하기\n",
    "\n",
    "fruits.update({'orange','grape'})\n",
    "print(fruits)"
   ]
  },
  {
   "cell_type": "code",
   "execution_count": 49,
   "id": "d906e58d-f4ce-4dfe-a22e-15f042ac4701",
   "metadata": {},
   "outputs": [
    {
     "name": "stdout",
     "output_type": "stream",
     "text": [
      "{'orange', 'watermelon', 'banana', 'melon', 'grape'}\n"
     ]
    }
   ],
   "source": [
    "# remove: 데이터 지정헤세 제거하기\n",
    "\n",
    "fruits.remove('apple')\n",
    "print(fruits)"
   ]
  },
  {
   "cell_type": "code",
   "execution_count": 51,
   "id": "c716a8e7-8ab9-4f5c-ac04-f83edf37bca2",
   "metadata": {},
   "outputs": [
    {
     "name": "stdout",
     "output_type": "stream",
     "text": [
      "{'banana', 'melon', 'grape'}\n"
     ]
    }
   ],
   "source": [
    "# pop: 데이터 랜덤하게 제거하기\n",
    "\n",
    "fruits.pop()\n",
    "print(fruits)"
   ]
  },
  {
   "cell_type": "markdown",
   "id": "450eb38e-1921-4ad5-98f6-cc5a43e7388e",
   "metadata": {},
   "source": [
    "## map, filter, zip"
   ]
  },
  {
   "cell_type": "markdown",
   "id": "6bb3acd1-70b0-4fb9-ae35-35cd548ff348",
   "metadata": {},
   "source": [
    "### map (함수를 일괄처리)\n",
    "- `map(function, iterable)`\n",
    "- iterable = 시퀀스타입"
   ]
  },
  {
   "cell_type": "code",
   "execution_count": 56,
   "id": "84c39bbe-69b5-498b-bde5-c1a0a7b6caec",
   "metadata": {},
   "outputs": [
    {
     "name": "stdout",
     "output_type": "stream",
     "text": [
      "['1', '2', '3', '4', '5']\n"
     ]
    }
   ],
   "source": [
    "numbers = [1,2,3,4,5]\n",
    "# => ['1','2','3','4','5']\n",
    "\n",
    "result = []\n",
    "for number in numbers:\n",
    "    result.append(str(number))\n",
    "print(result)\n",
    "    \n"
   ]
  },
  {
   "cell_type": "code",
   "execution_count": 63,
   "id": "abda4e86-dc25-4791-9ebe-9413186fba0f",
   "metadata": {},
   "outputs": [
    {
     "name": "stdout",
     "output_type": "stream",
     "text": [
      "<map object at 0x00000271B6852D40>\n",
      "['1', '2', '3', '4', '5']\n",
      "['1', '2', '3', '4', '5']\n"
     ]
    }
   ],
   "source": [
    "result = map(str, numbers)   # map(함수 이름, 리스트 이름)\n",
    "print(result)\n",
    "print(list(result))\n",
    "result = list(map(str, numbers))\n",
    "print(result)"
   ]
  },
  {
   "cell_type": "code",
   "execution_count": 64,
   "id": "530f6b87-759f-47d6-8898-bf8424c365f8",
   "metadata": {},
   "outputs": [
    {
     "name": "stdout",
     "output_type": "stream",
     "text": [
      "[1, 8, 27, 64, 125]\n"
     ]
    }
   ],
   "source": [
    "numbers = [1,2,3,4,5]\n",
    "# => [1, 8, 27, 64, 125]\n",
    "result = []\n",
    "for number in numbers:\n",
    "    result.append(number ** 3)\n",
    "\n",
    "print(result)"
   ]
  },
  {
   "cell_type": "code",
   "execution_count": 65,
   "id": "aa4929c1-9703-455f-ad91-dedee51b8ebc",
   "metadata": {},
   "outputs": [],
   "source": [
    "def cube(x):\n",
    "    return x ** 3"
   ]
  },
  {
   "cell_type": "code",
   "execution_count": 68,
   "id": "8c6993fa-b9f4-4ca2-9194-d5d1fb229314",
   "metadata": {},
   "outputs": [
    {
     "name": "stdout",
     "output_type": "stream",
     "text": [
      "<map object at 0x00000271B6853850>\n",
      "[1, 8, 27, 64, 125]\n"
     ]
    }
   ],
   "source": [
    "result= map(cube, numbers)\n",
    "print(result)\n",
    "print(list(result))"
   ]
  },
  {
   "cell_type": "code",
   "execution_count": 71,
   "id": "13df15bf-a70c-4260-a74f-004119fca482",
   "metadata": {},
   "outputs": [
    {
     "name": "stdout",
     "output_type": "stream",
     "text": [
      "[1, 3, 5, 7, 9]\n"
     ]
    }
   ],
   "source": [
    "test_input = '1 3 5 7 9'\n",
    "#1. 띄어쓰기 기준으로 나눈다\n",
    "test_input.split()\n",
    "#2. 각 글자를 숫자로 바꾼다\n",
    "map(int, test_input.split())\n",
    "#3. 리스트에 저장한다\n",
    "result = list(map(int,test_input.split()))\n",
    "print(result)"
   ]
  },
  {
   "cell_type": "markdown",
   "id": "0e08e957-3a27-436b-b2cb-fc090b46d620",
   "metadata": {},
   "source": [
    "### filter (조건에 부합하는 것을 필터링)\n",
    "- `filter(function, iterable)`"
   ]
  },
  {
   "cell_type": "code",
   "execution_count": 72,
   "id": "b5e81cb6-7df4-4786-be2f-738fcb5687d4",
   "metadata": {},
   "outputs": [],
   "source": [
    "def is_odd(x):\n",
    "    return x % 2"
   ]
  },
  {
   "cell_type": "code",
   "execution_count": 73,
   "id": "3e54ed10-9ced-4cee-a1d5-7466fb3ff2d1",
   "metadata": {},
   "outputs": [
    {
     "name": "stdout",
     "output_type": "stream",
     "text": [
      "[1, 3, 5]\n"
     ]
    }
   ],
   "source": [
    "numbers= [1,2,3,4,5,6]\n",
    "\n",
    "result = []\n",
    "for number in numbers:\n",
    "    if number % 2 == 1:\n",
    "        result.append(number)\n",
    "print(result)"
   ]
  },
  {
   "cell_type": "code",
   "execution_count": 74,
   "id": "8cbcb864-77f3-4827-8758-a2ac6c78bf12",
   "metadata": {},
   "outputs": [
    {
     "name": "stdout",
     "output_type": "stream",
     "text": [
      "<filter object at 0x00000271B6857BE0>\n",
      "[1, 3, 5]\n"
     ]
    }
   ],
   "source": [
    "result = filter(is_odd, numbers)\n",
    "print(result)\n",
    "print(list(result))"
   ]
  },
  {
   "cell_type": "markdown",
   "id": "9e82dade-d0c4-4ec8-bcc9-57c2dd47f9b0",
   "metadata": {},
   "source": [
    "### zip (두 개의 리스트를 묶어줄때)"
   ]
  },
  {
   "cell_type": "code",
   "execution_count": 75,
   "id": "6a139137-0832-4f8f-a17b-f4e5d874d937",
   "metadata": {},
   "outputs": [
    {
     "name": "stdout",
     "output_type": "stream",
     "text": [
      "<zip object at 0x00000271B6D321C0>\n",
      "[(1, 100), (2, 200), (3, 300)]\n"
     ]
    }
   ],
   "source": [
    "a = [1,2,3]\n",
    "b = [100,200,300]\n",
    "result= zip(a,b)\n",
    "print(result)\n",
    "print(list(result))"
   ]
  },
  {
   "cell_type": "code",
   "execution_count": null,
   "id": "33017f6b-85a0-46e1-b7ce-bd7f9419d482",
   "metadata": {},
   "outputs": [],
   "source": []
  },
  {
   "cell_type": "code",
   "execution_count": null,
   "id": "feac0edf-872f-4683-8a3d-31260f5587a2",
   "metadata": {},
   "outputs": [],
   "source": []
  },
  {
   "cell_type": "code",
   "execution_count": null,
   "id": "037368c6-622f-4767-a38b-59abc3de80dc",
   "metadata": {},
   "outputs": [],
   "source": []
  }
 ],
 "metadata": {
  "kernelspec": {
   "display_name": "Python 3 (ipykernel)",
   "language": "python",
   "name": "python3"
  },
  "language_info": {
   "codemirror_mode": {
    "name": "ipython",
    "version": 3
   },
   "file_extension": ".py",
   "mimetype": "text/x-python",
   "name": "python",
   "nbconvert_exporter": "python",
   "pygments_lexer": "ipython3",
   "version": "3.13.2"
  }
 },
 "nbformat": 4,
 "nbformat_minor": 5
}
