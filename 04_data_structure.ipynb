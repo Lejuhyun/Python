{
 "cells": [
  {
   "cell_type": "markdown",
   "id": "e2969658-50b8-4bea-bced-36372027394c",
   "metadata": {},
   "source": [
    "# 자료구조\n",
    "> 여러가지 자료구조가 가지고 있는 메소드(함수) 알아보기"
   ]
  },
  {
   "cell_type": "code",
   "execution_count": 2,
   "id": "6a5f76c9-d674-42f9-a606-9085e1d1a5b5",
   "metadata": {},
   "outputs": [
    {
     "name": "stdout",
     "output_type": "stream",
     "text": [
      "['__add__', '__class__', '__contains__', '__delattr__', '__dir__', '__doc__', '__eq__', '__format__', '__ge__', '__getattribute__', '__getitem__', '__getnewargs__', '__getstate__', '__gt__', '__hash__', '__init__', '__init_subclass__', '__iter__', '__le__', '__len__', '__lt__', '__mod__', '__mul__', '__ne__', '__new__', '__reduce__', '__reduce_ex__', '__repr__', '__rmod__', '__rmul__', '__setattr__', '__sizeof__', '__str__', '__subclasshook__', 'capitalize', 'casefold', 'center', 'count', 'encode', 'endswith', 'expandtabs', 'find', 'format', 'format_map', 'index', 'isalnum', 'isalpha', 'isascii', 'isdecimal', 'isdigit', 'isidentifier', 'islower', 'isnumeric', 'isprintable', 'isspace', 'istitle', 'isupper', 'join', 'ljust', 'lower', 'lstrip', 'maketrans', 'partition', 'removeprefix', 'removesuffix', 'replace', 'rfind', 'rindex', 'rjust', 'rpartition', 'rsplit', 'rstrip', 'split', 'splitlines', 'startswith', 'strip', 'swapcase', 'title', 'translate', 'upper', 'zfill']\n"
     ]
    }
   ],
   "source": [
    "print(dir('hello'))"
   ]
  },
  {
   "cell_type": "markdown",
   "id": "fb1ab4cc-37ed-498f-9d7d-3be421c3e5ff",
   "metadata": {},
   "source": [
    "## 문자열 메소드"
   ]
  },
  {
   "cell_type": "code",
   "execution_count": 3,
   "id": "4b4e77b2-d779-43bd-b8f8-062319bbbd18",
   "metadata": {},
   "outputs": [],
   "source": [
    "a = 'hello my name is hong'"
   ]
  },
  {
   "cell_type": "code",
   "execution_count": 4,
   "id": "8cbd5a35-0a3d-4c9d-9204-98690573112f",
   "metadata": {},
   "outputs": [
    {
     "name": "stdout",
     "output_type": "stream",
     "text": [
      "hello my name is hong\n"
     ]
    }
   ],
   "source": [
    "print(a)"
   ]
  },
  {
   "cell_type": "code",
   "execution_count": 19,
   "id": "eef218f5-c84a-4d2a-bfc0-53a855cd7a8e",
   "metadata": {},
   "outputs": [
    {
     "ename": "TypeError",
     "evalue": "'str' object does not support item assignment",
     "output_type": "error",
     "traceback": [
      "\u001b[1;31m---------------------------------------------------------------------------\u001b[0m",
      "\u001b[1;31mTypeError\u001b[0m                                 Traceback (most recent call last)",
      "Cell \u001b[1;32mIn[19], line 1\u001b[0m\n\u001b[1;32m----> 1\u001b[0m \u001b[43ma\u001b[49m\u001b[43m[\u001b[49m\u001b[38;5;241;43m0\u001b[39;49m\u001b[43m]\u001b[49m \u001b[38;5;241m=\u001b[39m \u001b[38;5;124m'\u001b[39m\u001b[38;5;124mH\u001b[39m\u001b[38;5;124m'\u001b[39m  \u001b[38;5;66;03m#string은 immutable하다\u001b[39;00m\n",
      "\u001b[1;31mTypeError\u001b[0m: 'str' object does not support item assignment"
     ]
    }
   ],
   "source": [
    "a[0] = 'H'  #string은 immutable하다"
   ]
  },
  {
   "cell_type": "code",
   "execution_count": 14,
   "id": "1e28fb87-e5bb-47c1-a930-081c1a545398",
   "metadata": {},
   "outputs": [
    {
     "data": {
      "text/plain": [
       "'Hello my name is hong'"
      ]
     },
     "execution_count": 14,
     "metadata": {},
     "output_type": "execute_result"
    }
   ],
   "source": [
    "a.capitalize() #첫번째 글자를 대문자로 만든다"
   ]
  },
  {
   "cell_type": "code",
   "execution_count": 15,
   "id": "d270096c-e5d4-440a-a015-28a97ae71067",
   "metadata": {},
   "outputs": [
    {
     "name": "stdout",
     "output_type": "stream",
     "text": [
      "Hello my name is hong\n"
     ]
    }
   ],
   "source": [
    "print(a) #원본 데이터를 바꾸지 않는다"
   ]
  },
  {
   "cell_type": "code",
   "execution_count": 16,
   "id": "59a4b895-c7ac-4696-95e6-3ef696e8cdd8",
   "metadata": {},
   "outputs": [],
   "source": [
    "a = a.capitalize() #원본 데이터를 바꾼다"
   ]
  },
  {
   "cell_type": "code",
   "execution_count": 17,
   "id": "d554cf7b-a144-4217-b14c-fce3e706e68e",
   "metadata": {},
   "outputs": [
    {
     "data": {
      "text/plain": [
       "'Hello My Name Is Hong'"
      ]
     },
     "execution_count": 17,
     "metadata": {},
     "output_type": "execute_result"
    }
   ],
   "source": [
    "a.title() #각각의 단어의 첫번째 글자를 대문자로 바꾼다"
   ]
  },
  {
   "cell_type": "code",
   "execution_count": 18,
   "id": "433c8c16-4862-4658-9bf5-8e3c226d4b70",
   "metadata": {},
   "outputs": [
    {
     "data": {
      "text/plain": [
       "'hello my name is hong'"
      ]
     },
     "execution_count": 18,
     "metadata": {},
     "output_type": "execute_result"
    }
   ],
   "source": [
    "a.lower() #전부 다 소문자로 바꾼다"
   ]
  },
  {
   "cell_type": "code",
   "execution_count": 12,
   "id": "fb957c04-3bcd-43ed-af79-f0dfc92a87f6",
   "metadata": {},
   "outputs": [
    {
     "data": {
      "text/plain": [
       "'HELLO MY NAME IS HONG'"
      ]
     },
     "execution_count": 12,
     "metadata": {},
     "output_type": "execute_result"
    }
   ],
   "source": [
    "a.upper() #전부 다 대문자로 바꾼다"
   ]
  },
  {
   "cell_type": "code",
   "execution_count": 21,
   "id": "5b8d36ce-8207-4412-bde3-1e9153ed37a5",
   "metadata": {},
   "outputs": [
    {
     "data": {
      "text/plain": [
       "'my!name!is'"
      ]
     },
     "execution_count": 21,
     "metadata": {},
     "output_type": "execute_result"
    }
   ],
   "source": [
    "my_list = ['my', 'name','is']\n",
    "'!'.join(my_list)  #리스트 하나로 합치기"
   ]
  },
  {
   "cell_type": "code",
   "execution_count": 22,
   "id": "af377487-3029-45c6-954c-8be67dcf4d27",
   "metadata": {},
   "outputs": [
    {
     "data": {
      "text/plain": [
       "'배?고?프?다'"
      ]
     },
     "execution_count": 22,
     "metadata": {},
     "output_type": "execute_result"
    }
   ],
   "source": [
    "'?'.join('배고프다') "
   ]
  },
  {
   "cell_type": "code",
   "execution_count": 28,
   "id": "25ac86e3-8be4-491f-bbec-d8b5a4f5ef3b",
   "metadata": {},
   "outputs": [
    {
     "name": "stdout",
     "output_type": "stream",
     "text": [
      "             \t               hello                       \n",
      "\n"
     ]
    },
    {
     "data": {
      "text/plain": [
       "'hello'"
      ]
     },
     "execution_count": 28,
     "metadata": {},
     "output_type": "execute_result"
    }
   ],
   "source": [
    "a = '             \\t               hello                       \\n'\n",
    "print(a)\n",
    "a.strip()  #좌우 공백 없애주기(여백, \\t, \\n)"
   ]
  },
  {
   "cell_type": "code",
   "execution_count": 29,
   "id": "8635520b-9035-4b0c-a004-d34860e73d74",
   "metadata": {},
   "outputs": [
    {
     "data": {
      "text/plain": [
       "'hello????????????????'"
      ]
     },
     "execution_count": 29,
     "metadata": {},
     "output_type": "execute_result"
    }
   ],
   "source": [
    "a = '!!!!!!!!!!!!!!!!!!!!hello????????????????'\n",
    "a.strip('!')  #괄호 안에 있는 문자를 지워줌\n",
    "\n",
    "# def strip(char='') => 빈 공간을 지워주는 함수\n"
   ]
  },
  {
   "cell_type": "code",
   "execution_count": 32,
   "id": "b2e7165f-3d68-492a-a380-4465297937ac",
   "metadata": {},
   "outputs": [
    {
     "data": {
      "text/plain": [
       "'--------hello'"
      ]
     },
     "execution_count": 32,
     "metadata": {},
     "output_type": "execute_result"
    }
   ],
   "source": [
    "a = '--------hello--------'\n",
    "a.lstrip('-') #왼쪽에 있는 - 만 지워줌\n",
    "a.rstrip('-') #오른쪽에 있는 -만 지워줌"
   ]
  },
  {
   "cell_type": "code",
   "execution_count": 40,
   "id": "7cb1ecee-3a38-457c-9fb4-18c0f5061675",
   "metadata": {},
   "outputs": [
    {
     "data": {
      "text/plain": [
       "'w!!!oooooooow'"
      ]
     },
     "execution_count": 40,
     "metadata": {},
     "output_type": "execute_result"
    }
   ],
   "source": [
    "a = 'wooooooooooow'\n",
    "a.replace('o','!',3)  #내가 원하는 철자로 대체하는 함수 \n",
    "#replace(old,new, [count]) #앞에 있는 [count]개만 대체하기"
   ]
  },
  {
   "cell_type": "code",
   "execution_count": 46,
   "id": "09ebfc58-f560-416d-b680-034304e198c8",
   "metadata": {},
   "outputs": [
    {
     "data": {
      "text/plain": [
       "-1"
      ]
     },
     "execution_count": 46,
     "metadata": {},
     "output_type": "execute_result"
    }
   ],
   "source": [
    "a= 'apple'\n",
    "a.find('a') # => 0\n",
    "a.find('l') # = > 3\n",
    "a.find('p') # = > 1 가장 앞에 있는 인덱스 번호를 출력해준다\n",
    "a.find('z') # = > -1 문자열이 없을때에는 -1을 출력해준다\n",
    "#해당 글자의 인덱스 번호를 출력해준다"
   ]
  },
  {
   "cell_type": "code",
   "execution_count": 50,
   "id": "9b4814f4-18db-4003-83d7-998f8f2b7e29",
   "metadata": {},
   "outputs": [
    {
     "ename": "ValueError",
     "evalue": "substring not found",
     "output_type": "error",
     "traceback": [
      "\u001b[1;31m---------------------------------------------------------------------------\u001b[0m",
      "\u001b[1;31mValueError\u001b[0m                                Traceback (most recent call last)",
      "Cell \u001b[1;32mIn[50], line 5\u001b[0m\n\u001b[0;32m      3\u001b[0m a\u001b[38;5;241m.\u001b[39mindex(\u001b[38;5;124m'\u001b[39m\u001b[38;5;124ml\u001b[39m\u001b[38;5;124m'\u001b[39m) \u001b[38;5;66;03m# = > 3\u001b[39;00m\n\u001b[0;32m      4\u001b[0m a\u001b[38;5;241m.\u001b[39mindex(\u001b[38;5;124m'\u001b[39m\u001b[38;5;124mp\u001b[39m\u001b[38;5;124m'\u001b[39m) \u001b[38;5;66;03m# = > 1\u001b[39;00m\n\u001b[1;32m----> 5\u001b[0m \u001b[43ma\u001b[49m\u001b[38;5;241;43m.\u001b[39;49m\u001b[43mindex\u001b[49m\u001b[43m(\u001b[49m\u001b[38;5;124;43m'\u001b[39;49m\u001b[38;5;124;43mz\u001b[39;49m\u001b[38;5;124;43m'\u001b[39;49m\u001b[43m)\u001b[49m \u001b[38;5;66;03m# ERROR 문자열이 없을때에는 에러.\u001b[39;00m\n",
      "\u001b[1;31mValueError\u001b[0m: substring not found"
     ]
    }
   ],
   "source": [
    "a='apple'\n",
    "a.index('a') # = > 0\n",
    "a.index('l') # = > 3\n",
    "a.index('p') # = > 1\n",
    "a.index('z') # ERROR 문자열이 없을때에는 에러."
   ]
  },
  {
   "cell_type": "code",
   "execution_count": 52,
   "id": "b63a6ca3-3e0e-4e1e-804e-dc650f659505",
   "metadata": {},
   "outputs": [
    {
     "data": {
      "text/plain": [
       "['my', 'name', 'is', 'hong']"
      ]
     },
     "execution_count": 52,
     "metadata": {},
     "output_type": "execute_result"
    }
   ],
   "source": [
    "a = 'my name is hong'\n",
    "a.split() #띄어쓰기를 기준으로 데이터를 잘라서 리스트로 만들어줌"
   ]
  },
  {
   "cell_type": "code",
   "execution_count": 54,
   "id": "9b9a1ba9-eb1e-4803-b3b7-50464d89ac9a",
   "metadata": {},
   "outputs": [
    {
     "data": {
      "text/plain": [
       "['my', 'name', 'is?hong']"
      ]
     },
     "execution_count": 54,
     "metadata": {},
     "output_type": "execute_result"
    }
   ],
   "source": [
    "a = 'my!name!is?hong'\n",
    "a.split('!') #느낌표를 기준으로 데이터를 자름"
   ]
  },
  {
   "cell_type": "code",
   "execution_count": 56,
   "id": "2dcba618-28db-4d78-ac4c-c4c7ee2e684f",
   "metadata": {},
   "outputs": [
    {
     "data": {
      "text/plain": [
       "5"
      ]
     },
     "execution_count": 56,
     "metadata": {},
     "output_type": "execute_result"
    }
   ],
   "source": [
    "a = 'wooooow'\n",
    "a.count('o')"
   ]
  },
  {
   "cell_type": "code",
   "execution_count": null,
   "id": "b6ea0e44-8955-44f6-beda-e51a3e76bdc1",
   "metadata": {},
   "outputs": [],
   "source": []
  },
  {
   "cell_type": "code",
   "execution_count": null,
   "id": "df8ff7df-df0c-4181-ac0b-316168f05d90",
   "metadata": {},
   "outputs": [],
   "source": []
  },
  {
   "cell_type": "code",
   "execution_count": null,
   "id": "4d2203c5-d307-427e-99d7-d81d0b154142",
   "metadata": {},
   "outputs": [],
   "source": []
  }
 ],
 "metadata": {
  "kernelspec": {
   "display_name": "Python 3 (ipykernel)",
   "language": "python",
   "name": "python3"
  },
  "language_info": {
   "codemirror_mode": {
    "name": "ipython",
    "version": 3
   },
   "file_extension": ".py",
   "mimetype": "text/x-python",
   "name": "python",
   "nbconvert_exporter": "python",
   "pygments_lexer": "ipython3",
   "version": "3.13.2"
  }
 },
 "nbformat": 4,
 "nbformat_minor": 5
}
