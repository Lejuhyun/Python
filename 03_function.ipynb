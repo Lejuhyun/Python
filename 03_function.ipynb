{
 "cells": [
  {
   "cell_type": "markdown",
   "id": "162b2a97-70fc-42bb-a535-c71b907b79f9",
   "metadata": {},
   "source": [
    "# 함수(function)"
   ]
  },
  {
   "cell_type": "code",
   "execution_count": 7,
   "id": "82e9d404-513b-414f-b13a-5e03a0486a9f",
   "metadata": {},
   "outputs": [
    {
     "name": "stdout",
     "output_type": "stream",
     "text": [
      "사각형의 면적은 2500이고 둘레는 200입니다.\n"
     ]
    }
   ],
   "source": [
    "# 사각형의 가로와 세로의 길이를 이용해서 면적과 둘레를 구하는 코드.\n",
    "height = 50\n",
    "width = 50\n",
    "\n",
    "area = height * width\n",
    "perimeter = (height + width) *2\n",
    "\n",
    "print(f'사각형의 면적은 {area}이고 둘레는 {perimeter}입니다.')\n"
   ]
  },
  {
   "cell_type": "markdown",
   "id": "066d82da-04c4-42ec-a0d2-399951ca6cd0",
   "metadata": {},
   "source": [
    "## 함수의 선언과 호출\n",
    "- 선언\n",
    "```python\n",
    "def func_name(parameter1, parameter2, ...):\n",
    "    code1\n",
    "    code2\n",
    "    ...\n",
    "    return value\n",
    "```\n",
    "\n",
    "- 호출\n",
    "    - `func_name(parameter1, parameter2, ...)`"
   ]
  },
  {
   "cell_type": "code",
   "execution_count": 9,
   "id": "3ef04402-89ee-41a8-9ca2-11c1f2bd7c66",
   "metadata": {},
   "outputs": [],
   "source": [
    "def rectangle(height, width):\n",
    "    area = height * width\n",
    "    perimeter = (height + width) * 2\n",
    "\n",
    "    print(f'사각형의 면적은 {area}입니다. 둘레는 {perimeter}입니다.')\n",
    "    "
   ]
  },
  {
   "cell_type": "code",
   "execution_count": 12,
   "id": "c515d243-52b1-4827-a73a-9833ddf8e9a3",
   "metadata": {},
   "outputs": [
    {
     "name": "stdout",
     "output_type": "stream",
     "text": [
      "사각형의 면적은 1500입니다. 둘레는 160입니다.\n",
      "사각형의 면적은 2000입니다. 둘레는 240입니다.\n"
     ]
    }
   ],
   "source": [
    "rectangle(50, 30)\n",
    "rectangle(20, 100)"
   ]
  },
  {
   "cell_type": "code",
   "execution_count": 13,
   "id": "2ba967b4-6609-4165-b10a-91537b5a4f63",
   "metadata": {},
   "outputs": [
    {
     "name": "stdout",
     "output_type": "stream",
     "text": [
      "asdf\n"
     ]
    }
   ],
   "source": [
    "print('asdf')"
   ]
  },
  {
   "cell_type": "code",
   "execution_count": 14,
   "id": "196959b5-2c4f-42d2-9dc9-da373a2709ff",
   "metadata": {},
   "outputs": [
    {
     "data": {
      "text/plain": [
       "['ArithmeticError',\n",
       " 'AssertionError',\n",
       " 'AttributeError',\n",
       " 'BaseException',\n",
       " 'BaseExceptionGroup',\n",
       " 'BlockingIOError',\n",
       " 'BrokenPipeError',\n",
       " 'BufferError',\n",
       " 'BytesWarning',\n",
       " 'ChildProcessError',\n",
       " 'ConnectionAbortedError',\n",
       " 'ConnectionError',\n",
       " 'ConnectionRefusedError',\n",
       " 'ConnectionResetError',\n",
       " 'DeprecationWarning',\n",
       " 'EOFError',\n",
       " 'Ellipsis',\n",
       " 'EncodingWarning',\n",
       " 'EnvironmentError',\n",
       " 'Exception',\n",
       " 'ExceptionGroup',\n",
       " 'False',\n",
       " 'FileExistsError',\n",
       " 'FileNotFoundError',\n",
       " 'FloatingPointError',\n",
       " 'FutureWarning',\n",
       " 'GeneratorExit',\n",
       " 'IOError',\n",
       " 'ImportError',\n",
       " 'ImportWarning',\n",
       " 'IndentationError',\n",
       " 'IndexError',\n",
       " 'InterruptedError',\n",
       " 'IsADirectoryError',\n",
       " 'KeyError',\n",
       " 'KeyboardInterrupt',\n",
       " 'LookupError',\n",
       " 'MemoryError',\n",
       " 'ModuleNotFoundError',\n",
       " 'NameError',\n",
       " 'None',\n",
       " 'NotADirectoryError',\n",
       " 'NotImplemented',\n",
       " 'NotImplementedError',\n",
       " 'OSError',\n",
       " 'OverflowError',\n",
       " 'PendingDeprecationWarning',\n",
       " 'PermissionError',\n",
       " 'ProcessLookupError',\n",
       " 'PythonFinalizationError',\n",
       " 'RecursionError',\n",
       " 'ReferenceError',\n",
       " 'ResourceWarning',\n",
       " 'RuntimeError',\n",
       " 'RuntimeWarning',\n",
       " 'StopAsyncIteration',\n",
       " 'StopIteration',\n",
       " 'SyntaxError',\n",
       " 'SyntaxWarning',\n",
       " 'SystemError',\n",
       " 'SystemExit',\n",
       " 'TabError',\n",
       " 'TimeoutError',\n",
       " 'True',\n",
       " 'TypeError',\n",
       " 'UnboundLocalError',\n",
       " 'UnicodeDecodeError',\n",
       " 'UnicodeEncodeError',\n",
       " 'UnicodeError',\n",
       " 'UnicodeTranslateError',\n",
       " 'UnicodeWarning',\n",
       " 'UserWarning',\n",
       " 'ValueError',\n",
       " 'Warning',\n",
       " 'WindowsError',\n",
       " 'ZeroDivisionError',\n",
       " '_IncompleteInputError',\n",
       " '__IPYTHON__',\n",
       " '__build_class__',\n",
       " '__debug__',\n",
       " '__doc__',\n",
       " '__import__',\n",
       " '__loader__',\n",
       " '__name__',\n",
       " '__package__',\n",
       " '__spec__',\n",
       " 'abs',\n",
       " 'aiter',\n",
       " 'all',\n",
       " 'anext',\n",
       " 'any',\n",
       " 'ascii',\n",
       " 'bin',\n",
       " 'bool',\n",
       " 'breakpoint',\n",
       " 'bytearray',\n",
       " 'bytes',\n",
       " 'callable',\n",
       " 'chr',\n",
       " 'classmethod',\n",
       " 'compile',\n",
       " 'complex',\n",
       " 'copyright',\n",
       " 'credits',\n",
       " 'delattr',\n",
       " 'dict',\n",
       " 'dir',\n",
       " 'display',\n",
       " 'divmod',\n",
       " 'enumerate',\n",
       " 'eval',\n",
       " 'exec',\n",
       " 'execfile',\n",
       " 'filter',\n",
       " 'float',\n",
       " 'format',\n",
       " 'frozenset',\n",
       " 'get_ipython',\n",
       " 'getattr',\n",
       " 'globals',\n",
       " 'hasattr',\n",
       " 'hash',\n",
       " 'help',\n",
       " 'hex',\n",
       " 'id',\n",
       " 'input',\n",
       " 'int',\n",
       " 'isinstance',\n",
       " 'issubclass',\n",
       " 'iter',\n",
       " 'len',\n",
       " 'license',\n",
       " 'list',\n",
       " 'locals',\n",
       " 'map',\n",
       " 'max',\n",
       " 'memoryview',\n",
       " 'min',\n",
       " 'next',\n",
       " 'object',\n",
       " 'oct',\n",
       " 'open',\n",
       " 'ord',\n",
       " 'pow',\n",
       " 'print',\n",
       " 'property',\n",
       " 'range',\n",
       " 'repr',\n",
       " 'reversed',\n",
       " 'round',\n",
       " 'runfile',\n",
       " 'set',\n",
       " 'setattr',\n",
       " 'slice',\n",
       " 'sorted',\n",
       " 'staticmethod',\n",
       " 'str',\n",
       " 'sum',\n",
       " 'super',\n",
       " 'tuple',\n",
       " 'type',\n",
       " 'vars',\n",
       " 'zip']"
      ]
     },
     "execution_count": 14,
     "metadata": {},
     "output_type": "execute_result"
    }
   ],
   "source": [
    "dir(__builtins__)"
   ]
  },
  {
   "cell_type": "code",
   "execution_count": 15,
   "id": "8b69cbe7-b7df-4b7c-8d06-fab300338c30",
   "metadata": {},
   "outputs": [
    {
     "data": {
      "text/plain": [
       "2"
      ]
     },
     "execution_count": 15,
     "metadata": {},
     "output_type": "execute_result"
    }
   ],
   "source": [
    "max(1, 2)"
   ]
  },
  {
   "cell_type": "code",
   "execution_count": 2,
   "id": "56cf507e-862d-44b8-99e7-5635614d3f63",
   "metadata": {},
   "outputs": [],
   "source": [
    "def my_max(num1, num2):\n",
    "    if num1 > num2:\n",
    "        print(num1)\n",
    "    elif num1 < num2:\n",
    "        print(num2)\n",
    "    else:\n",
    "        print('같습니다')"
   ]
  },
  {
   "cell_type": "code",
   "execution_count": 25,
   "id": "b6659e60-36f0-4b25-b6a8-d37f558d8b87",
   "metadata": {},
   "outputs": [
    {
     "name": "stdout",
     "output_type": "stream",
     "text": [
      "100\n"
     ]
    }
   ],
   "source": [
    "my_max(100,1)"
   ]
  },
  {
   "cell_type": "markdown",
   "id": "3c52b4d0-fc5a-44ff-87dd-1315fe0d47e6",
   "metadata": {},
   "source": [
    "## 함수의 return\n",
    "\n",
    "- 함수가 return을 만나면 해당값을 반환하고 함수를 종료\n",
    "- 만약 return이 없는 경우 None을 자동으로 반환\n",
    "- return은 오직 하나의 객체만 반환한다."
   ]
  },
  {
   "cell_type": "code",
   "execution_count": 3,
   "id": "ec8181aa-3c0d-4846-9538-a17acf7ea9fd",
   "metadata": {},
   "outputs": [
    {
     "name": "stdout",
     "output_type": "stream",
     "text": [
      "2\n",
      "None\n"
     ]
    }
   ],
   "source": [
    "result = my_max(1,2)\n",
    "print(result) ## None : return이 없는 경우 None을 자동으로 반환\n",
    "#reult * 2 "
   ]
  },
  {
   "cell_type": "code",
   "execution_count": 33,
   "id": "2c3cacc5-dcbf-48fa-8e8d-9d0865f065bd",
   "metadata": {},
   "outputs": [],
   "source": [
    "def my_max2(num1,num2):\n",
    "    if num1 > num2:\n",
    "        return num1\n",
    "    else:\n",
    "        return num2"
   ]
  },
  {
   "cell_type": "code",
   "execution_count": 35,
   "id": "d62482fc-61af-4c27-b38a-f13a23b73538",
   "metadata": {},
   "outputs": [
    {
     "name": "stdout",
     "output_type": "stream",
     "text": [
      "2\n"
     ]
    }
   ],
   "source": [
    "result = my_max2(1,2)\n",
    "print(result)"
   ]
  },
  {
   "cell_type": "code",
   "execution_count": 43,
   "id": "9e9e742d-29e9-4c21-a3d0-0fb3e8b486e8",
   "metadata": {},
   "outputs": [
    {
     "data": {
      "text/plain": [
       "(20, 10)"
      ]
     },
     "execution_count": 43,
     "metadata": {},
     "output_type": "execute_result"
    }
   ],
   "source": [
    "def my_def(x):\n",
    "    return x * 2, x #(x*2, x) 자동으로 튜플로 리턴됨 : 오직 하나의 객체만 반환한다\n",
    "my_def(10)"
   ]
  },
  {
   "cell_type": "code",
   "execution_count": 42,
   "id": "5c659892-0425-4965-a05a-67f3af98de77",
   "metadata": {},
   "outputs": [
    {
     "name": "stdout",
     "output_type": "stream",
     "text": [
      "0\n",
      "1\n",
      "2\n",
      "3\n"
     ]
    },
    {
     "data": {
      "text/plain": [
       "3"
      ]
     },
     "execution_count": 42,
     "metadata": {},
     "output_type": "execute_result"
    }
   ],
   "source": [
    "def my_for(x):\n",
    "    for i in range(x):\n",
    "        print(i)\n",
    "        if i == 3:\n",
    "            return i  ## return을 만나면 함수가 종료됨. 3까지만 출력됨.\n",
    "my_for(5)"
   ]
  },
  {
   "cell_type": "code",
   "execution_count": 47,
   "id": "bfaa09b4-ad4a-45d9-a1b9-125f7b4eb684",
   "metadata": {},
   "outputs": [],
   "source": [
    "# 내가 만든거\n",
    "def my_list_max(list1, list2):\n",
    "    sum = 0\n",
    "    sum2 = 0\n",
    "    for i in list1:  \n",
    "        sum = sum + i\n",
    "    for j in list2:\n",
    "        sum2 = sum2 + j\n",
    "    if  sum > sum2:\n",
    "        return list1\n",
    "    else:\n",
    "        return list2"
   ]
  },
  {
   "cell_type": "code",
   "execution_count": 52,
   "id": "5280485d-0db6-4e62-8da3-93a70b22e580",
   "metadata": {},
   "outputs": [],
   "source": [
    "# 선생님이 만든거\n",
    "def my_list_max(list1, list2):\n",
    "    sum_of_list1 = 0\n",
    "    sum_of_list2 = 0\n",
    "    \n",
    "    for item in list1:\n",
    "        sum_of_list1 = sum_of_list1 + item\n",
    "    for item in list2:\n",
    "        sum_of_list2 += item\n",
    "        \n",
    "    if sum_of_list1 > sum_of_list2:\n",
    "        return list1\n",
    "    else:\n",
    "        return list2"
   ]
  },
  {
   "cell_type": "code",
   "execution_count": 56,
   "id": "70fcb5ab-dfd5-49d6-864f-ac97b7de7ff3",
   "metadata": {},
   "outputs": [],
   "source": [
    "# version3\n",
    "def my_list_max(list1, list2):\n",
    "    if sum(list1) > sum(list2):\n",
    "        return list1\n",
    "    else:\n",
    "        return list2"
   ]
  },
  {
   "cell_type": "markdown",
   "id": "08b113ca-eee1-4baa-aa24-79d57f4683d2",
   "metadata": {},
   "source": [
    "### 함수의 인수"
   ]
  },
  {
   "cell_type": "markdown",
   "id": "9e103351-0ffd-4995-8a0b-2e2d0dee16c3",
   "metadata": {},
   "source": [
    "#### 위치인수\n",
    "- 기본적으로 함수는 위치를 기준으로 인수를 판단합니다."
   ]
  },
  {
   "cell_type": "code",
   "execution_count": 58,
   "id": "2fa3dec0-3726-4453-8fe7-92c82f0d59b4",
   "metadata": {},
   "outputs": [],
   "source": [
    "def cylinder(r, h):\n",
    "    return 3.14 * r ** 2 * h"
   ]
  },
  {
   "cell_type": "code",
   "execution_count": 59,
   "id": "1197a40a-39da-4687-bcf8-79c49b1d9ed5",
   "metadata": {},
   "outputs": [
    {
     "data": {
      "text/plain": [
       "282.6"
      ]
     },
     "execution_count": 59,
     "metadata": {},
     "output_type": "execute_result"
    }
   ],
   "source": [
    "cylinder(3,10)"
   ]
  },
  {
   "cell_type": "code",
   "execution_count": 60,
   "id": "e1a1882e-446f-4d19-abcd-7c457720f129",
   "metadata": {},
   "outputs": [
    {
     "data": {
      "text/plain": [
       "942.0"
      ]
     },
     "execution_count": 60,
     "metadata": {},
     "output_type": "execute_result"
    }
   ],
   "source": [
    "cylinder(10,3)"
   ]
  },
  {
   "cell_type": "markdown",
   "id": "bd64f72f-6d46-4f59-8214-aba9970d8008",
   "metadata": {},
   "source": [
    "### 기본값\n",
    "```python\n",
    "def func_name(p1=v1):\n",
    "    code1\n",
    "    return value\n",
    "```"
   ]
  },
  {
   "cell_type": "code",
   "execution_count": 67,
   "id": "2052378c-58ae-44c3-913d-b5004f36fb37",
   "metadata": {},
   "outputs": [],
   "source": [
    "def greeting(name='익명'):\n",
    "    return f'{name}님 반갑습니다.'"
   ]
  },
  {
   "cell_type": "code",
   "execution_count": 69,
   "id": "81b0faa3-e41a-4388-a607-0895ff3e04fc",
   "metadata": {},
   "outputs": [
    {
     "data": {
      "text/plain": [
       "'오창희님 반갑습니다.'"
      ]
     },
     "execution_count": 69,
     "metadata": {},
     "output_type": "execute_result"
    }
   ],
   "source": [
    "greeting() #익명님 반갑습니다 : 값을 입력하지 않았을 때 임의로 처리해주는 값\n",
    "greeting('오창희') #오창희님 반갑습니다"
   ]
  },
  {
   "cell_type": "code",
   "execution_count": 76,
   "id": "6335f9ef-c6d7-42b5-8293-5d0c0b21e048",
   "metadata": {},
   "outputs": [
    {
     "name": "stdout",
     "output_type": "stream",
     "text": [
      "안녕하세요***반갑습니다!!!!저는 오차으히입니다.\n"
     ]
    }
   ],
   "source": [
    "print('안녕하세요','반갑습니다', sep='***',end=\"!!!!\") ### print 기본값 : print(sep='', end='\\n') \n",
    "print('저는 오차으히입니다.')"
   ]
  },
  {
   "cell_type": "code",
   "execution_count": 79,
   "id": "76a2323b-f69e-41f7-a689-c5101e23d664",
   "metadata": {},
   "outputs": [
    {
     "ename": "SyntaxError",
     "evalue": "parameter without a default follows parameter with a default (1751685038.py, line 1)",
     "output_type": "error",
     "traceback": [
      "\u001b[1;36m  Cell \u001b[1;32mIn[79], line 1\u001b[1;36m\u001b[0m\n\u001b[1;33m    def greeting(name='익명', age):\u001b[0m\n\u001b[1;37m                            ^\u001b[0m\n\u001b[1;31mSyntaxError\u001b[0m\u001b[1;31m:\u001b[0m parameter without a default follows parameter with a default\n"
     ]
    }
   ],
   "source": [
    "def greeting(name='익명', age): ########기본값인자는 위치인자보다 뒤에 있어야한다.!!!!!!!!!!!\n",
    "    return f'{name}님의 나이는 {age}입니다.'"
   ]
  },
  {
   "cell_type": "code",
   "execution_count": 80,
   "id": "13f533a5-47b7-4948-802e-cc456994a56e",
   "metadata": {},
   "outputs": [],
   "source": [
    "def greeting(age, name='익명'):\n",
    "    return f'{name}님의 나이는 {age}입니다.'"
   ]
  },
  {
   "cell_type": "code",
   "execution_count": 78,
   "id": "2ca5768e-1648-4b5a-b065-dd6300b4b25e",
   "metadata": {},
   "outputs": [
    {
     "data": {
      "text/plain": [
       "'길동님의 나이는 10입니다.'"
      ]
     },
     "execution_count": 78,
     "metadata": {},
     "output_type": "execute_result"
    }
   ],
   "source": [
    "greeting('길동',10)"
   ]
  },
  {
   "cell_type": "markdown",
   "id": "c2c8da84-f5ea-4885-9210-ec84a99d2ec8",
   "metadata": {},
   "source": [
    "### 키워드 인수\n",
    "- 함수를 호출(실행)할 때 내가 원하는 위치에 직접적으로 값을 전달"
   ]
  },
  {
   "cell_type": "code",
   "execution_count": 81,
   "id": "5a39bdf7-7d53-40db-bdf5-acb155b11705",
   "metadata": {},
   "outputs": [],
   "source": [
    "def greeting(age, name='익명') :\n",
    "    return f'{name}님은 {age}살입니다.'"
   ]
  },
  {
   "cell_type": "code",
   "execution_count": 82,
   "id": "9a3ae470-be57-4231-bcd1-dd7d580bbd61",
   "metadata": {},
   "outputs": [
    {
     "data": {
      "text/plain": [
       "'길동님은 10살입니다.'"
      ]
     },
     "execution_count": 82,
     "metadata": {},
     "output_type": "execute_result"
    }
   ],
   "source": [
    "greeting(10,'길동')\n",
    "greeting(10)\n",
    "greeting(name='길동', age=10)"
   ]
  },
  {
   "cell_type": "markdown",
   "id": "1b882324-82a7-411c-b6a5-f44b3db7dbbb",
   "metadata": {},
   "source": [
    "#### 가변인자 리스트\n",
    "```python\n",
    "def func_name(*parms):\n",
    "    code\n",
    "    ...\n",
    "    return value\n",
    "```"
   ]
  },
  {
   "cell_type": "code",
   "execution_count": 84,
   "id": "49c99d33-20d6-4d06-b67d-6d1f82401c16",
   "metadata": {},
   "outputs": [
    {
     "name": "stdout",
     "output_type": "stream",
     "text": [
      "1 2 asdf\n"
     ]
    }
   ],
   "source": [
    "print('1','2','asdf')"
   ]
  },
  {
   "cell_type": "code",
   "execution_count": 85,
   "id": "56a319cc-26e4-4edc-8b89-91578dc4a297",
   "metadata": {},
   "outputs": [],
   "source": [
    "def my_print(*words):\n",
    "    print(words)"
   ]
  },
  {
   "cell_type": "code",
   "execution_count": 89,
   "id": "455aad64-8a26-4d34-b875-492d1d3d4981",
   "metadata": {},
   "outputs": [
    {
     "name": "stdout",
     "output_type": "stream",
     "text": [
      "('my', 'name', 'is', 1, 2, 3, 4)\n"
     ]
    }
   ],
   "source": [
    "my_print('my','name','is',1,2,3,4,)"
   ]
  },
  {
   "cell_type": "code",
   "execution_count": 91,
   "id": "9dd6cfb4-200b-4c82-a34a-0836208adc79",
   "metadata": {},
   "outputs": [
    {
     "data": {
      "text/plain": [
       "10"
      ]
     },
     "execution_count": 91,
     "metadata": {},
     "output_type": "execute_result"
    }
   ],
   "source": [
    "max(1,2,3,4,5,6,7,8,9,10)"
   ]
  },
  {
   "cell_type": "code",
   "execution_count": 92,
   "id": "47abc22b-8a10-451b-a932-77ff4e01c13a",
   "metadata": {},
   "outputs": [],
   "source": [
    "def my_max(*numbers):\n",
    "    ## max_num = 0\n",
    "    max_num = numbers[0]\n",
    "    for number in numbers:\n",
    "        if max_num < number:\n",
    "            max_num = number\n",
    "    return max_num\n",
    "                \n",
    "    "
   ]
  },
  {
   "cell_type": "code",
   "execution_count": 93,
   "id": "1e09f4ce-0e2b-4d96-9220-688325d0e280",
   "metadata": {},
   "outputs": [
    {
     "data": {
      "text/plain": [
       "7"
      ]
     },
     "execution_count": 93,
     "metadata": {},
     "output_type": "execute_result"
    }
   ],
   "source": [
    "my_max(1,2,3,4,5,6,7)"
   ]
  },
  {
   "cell_type": "code",
   "execution_count": 113,
   "id": "40e97813-0fd0-4771-a17a-221df8b3444a",
   "metadata": {},
   "outputs": [],
   "source": [
    "def my_max(*numbers):\n",
    "    for i in numbers:\n",
    "        for j in numbers:\n",
    "            if i > j:\n",
    "                continue\n",
    "            else: \n",
    "                break\n",
    "        return i\n"
   ]
  },
  {
   "cell_type": "code",
   "execution_count": 114,
   "id": "562aa3c9-d79f-49e5-949b-9f5c8551cf77",
   "metadata": {},
   "outputs": [
    {
     "data": {
      "text/plain": [
       "4"
      ]
     },
     "execution_count": 114,
     "metadata": {},
     "output_type": "execute_result"
    }
   ],
   "source": [
    "my_max(3,3,4,5,6,7)"
   ]
  },
  {
   "cell_type": "markdown",
   "id": "97896606-042f-43e7-baf5-c59abc0a29c0",
   "metadata": {},
   "source": [
    "### 정의되지 않은 키워드 인자 처리하기 (많이 안쓰인다)\n",
    "```python\n",
    "def func_name(**kwargs):\n",
    "    return value\n",
    "```"
   ]
  },
  {
   "cell_type": "code",
   "execution_count": 5,
   "id": "dc199993-6494-4b40-bf8a-cad57f98fd06",
   "metadata": {},
   "outputs": [
    {
     "name": "stdout",
     "output_type": "stream",
     "text": [
      "{'name': 'hong', 'age': 10}\n"
     ]
    }
   ],
   "source": [
    "info = {\n",
    "    'name' : 'hong',\n",
    "    'age' : 10,\n",
    "}\n",
    "print(info)"
   ]
  },
  {
   "cell_type": "code",
   "execution_count": 6,
   "id": "6732a0ee-106e-4b95-ada2-35f763783143",
   "metadata": {},
   "outputs": [
    {
     "name": "stdout",
     "output_type": "stream",
     "text": [
      "{'name': 'kim', 'age': 20}\n"
     ]
    }
   ],
   "source": [
    "info = dict(name='kim', age=20)\n",
    "print(info)"
   ]
  },
  {
   "cell_type": "code",
   "execution_count": 7,
   "id": "2b63833c-95f6-4449-9219-d2a1109538e0",
   "metadata": {},
   "outputs": [],
   "source": [
    "def my_dict(**kwargs):\n",
    "    print(kwargs)"
   ]
  },
  {
   "cell_type": "code",
   "execution_count": 8,
   "id": "c311d8c3-4cab-4f94-8b7d-ca9b3bba828e",
   "metadata": {},
   "outputs": [
    {
     "name": "stdout",
     "output_type": "stream",
     "text": [
      "{'asdf': '가나다', 'age': 123, 'test': 'asdf'}\n"
     ]
    }
   ],
   "source": [
    "my_dict(asdf='가나다', age=123, test='asdf')"
   ]
  },
  {
   "cell_type": "code",
   "execution_count": 9,
   "id": "2aa74c04-5d3d-4968-916e-a6c2b04c004a",
   "metadata": {},
   "outputs": [],
   "source": [
    "def my_func(params1, params2='temp', *numbers, **kwargs):\n",
    "    return 0\n"
   ]
  },
  {
   "cell_type": "code",
   "execution_count": 14,
   "id": "7e1cd9dd-8b3a-43c2-9fd5-79e6e0df06a0",
   "metadata": {},
   "outputs": [
    {
     "data": {
      "text/plain": [
       "0"
      ]
     },
     "execution_count": 14,
     "metadata": {},
     "output_type": "execute_result"
    }
   ],
   "source": [
    "# my_func() =>params1 부족\n",
    "my_func(123)\n",
    "# => params1 = 123, params2 = 'temp'\n",
    "my_func(123,234)\n",
    "# => params1 = 123, params2 = 234\n",
    "my_func(123, 234, 345, 567, 789, 890)\n",
    "# => params1 = 123, params2 = 234, numbers = (345, 567,789,890)\n",
    "my_func(123, 234, 345, 567, 789, 890, a=1, b=2, c=3)\n",
    "# kwargs = {a: 1, b: 2, c: 3}"
   ]
  },
  {
   "cell_type": "markdown",
   "id": "af51aec7-38e9-41c5-b1db-246777e081ef",
   "metadata": {},
   "source": [
    "### lambda 표현식 (일회용함수, 익명함수, 임시함수)_잘 안쓰인다\n",
    "```python\n",
    "lambda parameter: expression\n",
    "```"
   ]
  },
  {
   "cell_type": "code",
   "execution_count": 15,
   "id": "f62bf36f-0c68-4e8a-83dc-acc59ec157e2",
   "metadata": {},
   "outputs": [],
   "source": [
    "def my_sum(num1, num2):\n",
    "    return num1 + num2"
   ]
  },
  {
   "cell_type": "code",
   "execution_count": 16,
   "id": "591d2b25-4c76-4496-8ad1-09d8b1eec461",
   "metadata": {},
   "outputs": [
    {
     "data": {
      "text/plain": [
       "3"
      ]
     },
     "execution_count": 16,
     "metadata": {},
     "output_type": "execute_result"
    }
   ],
   "source": [
    "my_sum(1,2)"
   ]
  },
  {
   "cell_type": "code",
   "execution_count": 18,
   "id": "f8a42839-e18a-42bf-99c1-bbeaa4aa1ce4",
   "metadata": {},
   "outputs": [
    {
     "data": {
      "text/plain": [
       "3"
      ]
     },
     "execution_count": 18,
     "metadata": {},
     "output_type": "execute_result"
    }
   ],
   "source": [
    "(lambda num1, num2: num1 + num2)(1,2)\n",
    "# my_sum이라는 이름 생략, return 생략 \n",
    "#장점은 빠르다"
   ]
  },
  {
   "cell_type": "markdown",
   "id": "66438486-5b6c-434b-bb1d-b396abc56b43",
   "metadata": {},
   "source": [
    "### 타입힌트"
   ]
  },
  {
   "cell_type": "code",
   "execution_count": 25,
   "id": "8ff26056-3eb2-4bf7-85a0-2181a2c33fda",
   "metadata": {},
   "outputs": [
    {
     "data": {
      "text/plain": [
       "'asdfqwer'"
      ]
     },
     "execution_count": 25,
     "metadata": {},
     "output_type": "execute_result"
    }
   ],
   "source": [
    "def something(a: int, b: int) -> int:          #변수에 어떤 타입 넣어야할지 알려줌, 결과가 무슨 타입인지 알려줌\n",
    "    return a + b\n",
    "\n",
    "something('asdf','qwer')           # 하지만 다른 타입을 넣는다고 오류가 나진 않는다"
   ]
  },
  {
   "cell_type": "markdown",
   "id": "cf236467-e392-4697-a4c8-b617ef32c9e5",
   "metadata": {},
   "source": [
    "### 이름공간(name space), 스코프(scope)\n",
    "python에서 사용하는 이름들은 이름공간에 저장되어 있습니다. LEGB 룰에 따라 접근\n",
    "1. Local : 정의된 함수 내부에 선언된 변수\n",
    "2. Enclosed : 상위 함수\n",
    "3. Global :함수 외에 선언된 변수\n",
    "4. Built-in : python이 기본적으로 가지고 있는 함수"
   ]
  },
  {
   "cell_type": "code",
   "execution_count": 33,
   "id": "0c643e1c-449a-4a75-9693-f1eda196ba9b",
   "metadata": {},
   "outputs": [
    {
     "name": "stdout",
     "output_type": "stream",
     "text": [
      "123\n"
     ]
    }
   ],
   "source": [
    "result = str(123) # str을 Built-in 함수라고 인식함__아직 str을 변수로 지정하기 이전이면 가능\n",
    "print(result)"
   ]
  },
  {
   "cell_type": "code",
   "execution_count": 28,
   "id": "19aef650-2e1f-4fcf-ab3c-1dae4a2cd3f9",
   "metadata": {},
   "outputs": [],
   "source": [
    "str = 'hello'"
   ]
  },
  {
   "cell_type": "code",
   "execution_count": 31,
   "id": "25968aad-6135-4f31-bbed-aa922f517911",
   "metadata": {},
   "outputs": [
    {
     "ename": "TypeError",
     "evalue": "'str' object is not callable",
     "output_type": "error",
     "traceback": [
      "\u001b[1;31m---------------------------------------------------------------------------\u001b[0m",
      "\u001b[1;31mTypeError\u001b[0m                                 Traceback (most recent call last)",
      "Cell \u001b[1;32mIn[31], line 1\u001b[0m\n\u001b[1;32m----> 1\u001b[0m result \u001b[38;5;241m=\u001b[39m \u001b[38;5;28;43mstr\u001b[39;49m\u001b[43m(\u001b[49m\u001b[38;5;241;43m123\u001b[39;49m\u001b[43m)\u001b[49m \u001b[38;5;66;03m# str을 가장 가까이에 있는 local로 인식함__str을 변수로 생각함\u001b[39;00m\n\u001b[0;32m      2\u001b[0m \u001b[38;5;28mprint\u001b[39m(result)\n",
      "\u001b[1;31mTypeError\u001b[0m: 'str' object is not callable"
     ]
    }
   ],
   "source": [
    "result = str(123) # str을 가장 가까이에 있는 변수로 생각함\n",
    "print(result)"
   ]
  },
  {
   "cell_type": "code",
   "execution_count": 32,
   "id": "bba8f69e-032b-44f4-9c9c-59c68b86d9a6",
   "metadata": {},
   "outputs": [],
   "source": [
    "del str"
   ]
  },
  {
   "cell_type": "code",
   "execution_count": 38,
   "id": "146a6aa5-ffd5-4e4b-9cb9-5f3639aee7c4",
   "metadata": {},
   "outputs": [
    {
     "data": {
      "text/plain": [
       "'가나다라'"
      ]
     },
     "execution_count": 38,
     "metadata": {},
     "output_type": "execute_result"
    }
   ],
   "source": [
    "a = 1\n",
    "\n",
    "def local_scope(b):\n",
    "    return a\n",
    "\n",
    "a = '가나다라'\n",
    "\n",
    "local_scope('asdf')"
   ]
  },
  {
   "cell_type": "code",
   "execution_count": 39,
   "id": "6190c050-d8f0-4f9b-9413-9a7b20cf36d8",
   "metadata": {},
   "outputs": [
    {
     "data": {
      "text/plain": [
       "'asdf'"
      ]
     },
     "execution_count": 39,
     "metadata": {},
     "output_type": "execute_result"
    }
   ],
   "source": [
    "a = 1\n",
    "\n",
    "def local_scope(a):\n",
    "    return a\n",
    "\n",
    "a = '가나다라'\n",
    "\n",
    "local_scope('asdf')"
   ]
  },
  {
   "cell_type": "code",
   "execution_count": 44,
   "id": "5a21ad4c-53a1-4970-84f6-b4a03da40bd3",
   "metadata": {},
   "outputs": [
    {
     "name": "stdout",
     "output_type": "stream",
     "text": [
      "1\n",
      "2\n",
      "3\n",
      "4\n",
      "5\n",
      "5\n"
     ]
    }
   ],
   "source": [
    "my_list = [1,2,3,4,5]\n",
    "for i in my_list:\n",
    "    # i = ...\n",
    "    print(i)\n",
    "print(i) #마지막 i값을 출력한다"
   ]
  },
  {
   "cell_type": "code",
   "execution_count": 46,
   "id": "55e70079-0538-42d6-b2f9-38e6277dd1bf",
   "metadata": {},
   "outputs": [
    {
     "data": {
      "text/plain": [
       "1"
      ]
     },
     "execution_count": 46,
     "metadata": {},
     "output_type": "execute_result"
    }
   ],
   "source": [
    "a = 0\n",
    "\n",
    "def global_scope():\n",
    "    global a  # 실제로 사용하는 경우가 없으니까 딱히 알 필요 없다 #global scope : 함수 외에 선언된 변수\n",
    "    a = a + 1\n",
    "    return a\n",
    "\n",
    "global_scope()"
   ]
  },
  {
   "cell_type": "markdown",
   "id": "988817c5-d93d-42b0-b1e5-84dcb545a338",
   "metadata": {},
   "source": [
    "### 재귀\n",
    "함수 내부에서 자기 자신을 호출하는 함수\n",
    "```\n",
    "n!= 1 * 2 * 3 * ... * n\n",
    "\n",
    "1! = 1\n",
    "2! = 1 * 2 = 1! * 2\n",
    "3! = 1 * 2 * 3 = 2! * 3\n",
    "n! = (n-1)! * n\n",
    "```"
   ]
  },
  {
   "cell_type": "code",
   "execution_count": 47,
   "id": "fea6d16b-8a64-4502-8dfb-08ec4c3385a7",
   "metadata": {},
   "outputs": [],
   "source": [
    "def fact(n):\n",
    "    if n == 1:\n",
    "        return 1\n",
    "    else: \n",
    "        return fact(n-1) * n\n",
    "    "
   ]
  },
  {
   "cell_type": "code",
   "execution_count": 48,
   "id": "df8a26e5-f469-4cfe-9e86-f82f0892490c",
   "metadata": {},
   "outputs": [
    {
     "data": {
      "text/plain": [
       "3628800"
      ]
     },
     "execution_count": 48,
     "metadata": {},
     "output_type": "execute_result"
    }
   ],
   "source": [
    "fact(10)"
   ]
  },
  {
   "cell_type": "code",
   "execution_count": 50,
   "id": "9db07505-5dc3-4408-a646-1ac2454668d3",
   "metadata": {},
   "outputs": [],
   "source": [
    "# fact(5) = fact(5 fact(4 fact(3 fact(2 fact(1     )   )   )  )   )"
   ]
  },
  {
   "cell_type": "code",
   "execution_count": null,
   "id": "f8c43609-55fd-451a-880d-d8930abf27fc",
   "metadata": {},
   "outputs": [],
   "source": []
  },
  {
   "cell_type": "code",
   "execution_count": null,
   "id": "4be29ff5-d3cf-4a57-bb21-758df525d155",
   "metadata": {},
   "outputs": [],
   "source": []
  },
  {
   "cell_type": "code",
   "execution_count": null,
   "id": "0dcd94c4-fd22-45f7-9311-5aa30d854e62",
   "metadata": {},
   "outputs": [],
   "source": []
  },
  {
   "cell_type": "code",
   "execution_count": null,
   "id": "0931f56c-6954-4d53-ba44-35d1d44dd3f1",
   "metadata": {},
   "outputs": [],
   "source": []
  },
  {
   "cell_type": "code",
   "execution_count": null,
   "id": "a61181bb-b1f6-4977-ba3e-56e663fbb831",
   "metadata": {},
   "outputs": [],
   "source": []
  },
  {
   "cell_type": "code",
   "execution_count": null,
   "id": "5ad63371-4b58-4a9e-b008-afc79d981ada",
   "metadata": {},
   "outputs": [],
   "source": []
  },
  {
   "cell_type": "code",
   "execution_count": null,
   "id": "c0588760-382a-48a1-a997-a954d88f0f79",
   "metadata": {},
   "outputs": [],
   "source": []
  },
  {
   "cell_type": "code",
   "execution_count": null,
   "id": "7da762e7-96d5-4ac3-baae-eadfee8a0b31",
   "metadata": {},
   "outputs": [],
   "source": []
  },
  {
   "cell_type": "code",
   "execution_count": null,
   "id": "e7bd8381-12a3-4d29-92c3-f6c22f9cd0d8",
   "metadata": {},
   "outputs": [],
   "source": []
  },
  {
   "cell_type": "code",
   "execution_count": null,
   "id": "317e54ba-abd8-47a9-be5c-1be528843a6c",
   "metadata": {},
   "outputs": [],
   "source": []
  },
  {
   "cell_type": "code",
   "execution_count": null,
   "id": "a8ad0738-7fe0-49ce-af5b-0495429c5a78",
   "metadata": {},
   "outputs": [],
   "source": []
  },
  {
   "cell_type": "code",
   "execution_count": null,
   "id": "e98e7b67-9a5c-430c-8aea-e95a164b26bf",
   "metadata": {},
   "outputs": [],
   "source": []
  },
  {
   "cell_type": "code",
   "execution_count": null,
   "id": "590f4cd1-cd22-4d26-8977-d0ee4074581b",
   "metadata": {},
   "outputs": [],
   "source": []
  },
  {
   "cell_type": "code",
   "execution_count": null,
   "id": "a74facab-39e2-44af-b67e-4d0d6de46e34",
   "metadata": {},
   "outputs": [],
   "source": []
  },
  {
   "cell_type": "code",
   "execution_count": null,
   "id": "7c888f70-dce1-4cbe-8191-748b953806ef",
   "metadata": {},
   "outputs": [],
   "source": []
  },
  {
   "cell_type": "code",
   "execution_count": null,
   "id": "2e641c5e-4eb3-4410-8450-d20b02aa4343",
   "metadata": {},
   "outputs": [],
   "source": []
  },
  {
   "cell_type": "code",
   "execution_count": null,
   "id": "df91a3b0-cc28-4a59-8246-8de3fef046b2",
   "metadata": {},
   "outputs": [],
   "source": []
  },
  {
   "cell_type": "code",
   "execution_count": null,
   "id": "626fc018-ad4e-4686-915e-c42a39a33531",
   "metadata": {},
   "outputs": [],
   "source": []
  },
  {
   "cell_type": "code",
   "execution_count": null,
   "id": "ee00594b-f630-4ab6-9b44-2d28304464b9",
   "metadata": {},
   "outputs": [],
   "source": []
  },
  {
   "cell_type": "code",
   "execution_count": null,
   "id": "3bb80150-7f42-4118-8625-0ecf713d1b37",
   "metadata": {},
   "outputs": [],
   "source": []
  },
  {
   "cell_type": "code",
   "execution_count": null,
   "id": "2d29178d-f63f-46db-a62a-3c8d4118c14e",
   "metadata": {},
   "outputs": [],
   "source": []
  },
  {
   "cell_type": "code",
   "execution_count": null,
   "id": "6982dfe7-4b13-4554-a62b-dec71864ad24",
   "metadata": {},
   "outputs": [],
   "source": []
  },
  {
   "cell_type": "code",
   "execution_count": null,
   "id": "b77721cf-d221-429b-84a5-5c837297a7bc",
   "metadata": {},
   "outputs": [],
   "source": []
  },
  {
   "cell_type": "code",
   "execution_count": null,
   "id": "409a20c1-4574-47b0-a08a-c627ed31d2a9",
   "metadata": {},
   "outputs": [],
   "source": []
  },
  {
   "cell_type": "code",
   "execution_count": null,
   "id": "f2ad8136-708a-44af-a46a-29f410f18312",
   "metadata": {},
   "outputs": [],
   "source": []
  },
  {
   "cell_type": "code",
   "execution_count": null,
   "id": "20e8a080-cc48-4603-9a04-a58c3f097518",
   "metadata": {},
   "outputs": [],
   "source": []
  }
 ],
 "metadata": {
  "kernelspec": {
   "display_name": "Python 3 (ipykernel)",
   "language": "python",
   "name": "python3"
  },
  "language_info": {
   "codemirror_mode": {
    "name": "ipython",
    "version": 3
   },
   "file_extension": ".py",
   "mimetype": "text/x-python",
   "name": "python",
   "nbconvert_exporter": "python",
   "pygments_lexer": "ipython3",
   "version": "3.13.2"
  }
 },
 "nbformat": 4,
 "nbformat_minor": 5
}
