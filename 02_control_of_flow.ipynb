{
 "cells": [
  {
   "cell_type": "markdown",
   "id": "db2f0b37-d62d-4264-87df-7d93ea4f0050",
   "metadata": {},
   "source": [
    "# 제어문"
   ]
  },
  {
   "cell_type": "markdown",
   "id": "a861aac0-ea1d-407a-9474-5319767c2d4c",
   "metadata": {},
   "source": [
    "## 조건문 (if문)\n",
    "\n",
    "1. if문은 반드시 참/거짓을 판단 할 수 있는 **조건식**과 함께 사용한다.\n",
    "    - `if <조건식>:`\n",
    "2. `<조건식>` 참인 경우 : `:` 이후의 문장을 실행\n",
    "3. `<조건식>` 거짓인 경우 : `else:` 이후의 문장을 실행\n",
    "\n",
    "```\n",
    "if <조건식>:\n",
    "    if의 조건식이 참인 경우 실행하는 코드\n",
    "else:\n",
    "    if의 조건식이 거짓인 경우 실행하는 코드\n",
    "```"
   ]
  },
  {
   "cell_type": "code",
   "execution_count": 7,
   "id": "d67fdd45-3c69-4625-92aa-5541f7c96154",
   "metadata": {},
   "outputs": [
    {
     "name": "stdin",
     "output_type": "stream",
     "text": [
      " 12/25\n"
     ]
    },
    {
     "name": "stdout",
     "output_type": "stream",
     "text": [
      "12/25\n",
      "Merry christmas!\n"
     ]
    }
   ],
   "source": [
    "my_string = input()\n",
    "print(my_string)\n",
    "\n",
    "if my_string == '12/25':\n",
    "    print('Merry christmas!')\n",
    "else:\n",
    "    print('No')"
   ]
  },
  {
   "cell_type": "code",
   "execution_count": 10,
   "id": "2bc45d6a-1cd8-45f2-aa7e-209fc3a6c042",
   "metadata": {},
   "outputs": [
    {
     "name": "stdin",
     "output_type": "stream",
     "text": [
      "숫자를 입력해주세요 29478\n"
     ]
    },
    {
     "name": "stdout",
     "output_type": "stream",
     "text": [
      "even\n"
     ]
    }
   ],
   "source": [
    "num = input('숫자를 입력해주세요') #사용자로부터 입력받는 정보\n",
    "\n",
    "if int(num) % 2 == 1:\n",
    "    print('odd')\n",
    "else: \n",
    "    print('even')\n"
   ]
  },
  {
   "cell_type": "code",
   "execution_count": 11,
   "id": "374b048e-5cfc-4907-bfc0-823d70809695",
   "metadata": {},
   "outputs": [
    {
     "name": "stdin",
     "output_type": "stream",
     "text": [
      " 38920\n"
     ]
    },
    {
     "name": "stdout",
     "output_type": "stream",
     "text": [
      "even\n"
     ]
    }
   ],
   "source": [
    "num = int(input())\n",
    "\n",
    "if num % 2 ==1:\n",
    "    print('odd')\n",
    "else: \n",
    "    print('even')"
   ]
  },
  {
   "cell_type": "code",
   "execution_count": 12,
   "id": "3c3f090e-1bf4-4d4a-a454-16c8170fbcd8",
   "metadata": {},
   "outputs": [
    {
     "name": "stdin",
     "output_type": "stream",
     "text": [
      " 384\n"
     ]
    },
    {
     "name": "stdout",
     "output_type": "stream",
     "text": [
      "even\n"
     ]
    }
   ],
   "source": [
    "num = int(input())\n",
    "\n",
    "if num % 2 == 0:\n",
    "    print('even')\n",
    "else:\n",
    "    print('odd')"
   ]
  },
  {
   "cell_type": "code",
   "execution_count": 13,
   "id": "202fc6e0-e618-4fa0-92c6-e71e318245b2",
   "metadata": {},
   "outputs": [
    {
     "name": "stdin",
     "output_type": "stream",
     "text": [
      " 29\n"
     ]
    },
    {
     "name": "stdout",
     "output_type": "stream",
     "text": [
      "odd\n"
     ]
    }
   ],
   "source": [
    "num = int(input())\n",
    "\n",
    "if num % 2:          #나머지가 0또는 1이 나오는데, 1이면 True이고 0이면 False이다.\n",
    "    print('odd')\n",
    "else:\n",
    "    print('even')"
   ]
  },
  {
   "cell_type": "code",
   "execution_count": 14,
   "id": "3568161f-a33e-4ed5-8b56-e43eee5ebb63",
   "metadata": {},
   "outputs": [
    {
     "name": "stdin",
     "output_type": "stream",
     "text": [
      "5의 배수를 판단해드리겠습니다 294837265\n"
     ]
    },
    {
     "name": "stdout",
     "output_type": "stream",
     "text": [
      "5의 배수입니다\n"
     ]
    }
   ],
   "source": [
    "num = int(input('5의 배수를 판단해드리겠습니다'))\n",
    "\n",
    "if num % 5 == 0: \n",
    "    print('5의 배수입니다')\n",
    "else: \n",
    "    print('5의 배수가 아닙니다')"
   ]
  },
  {
   "cell_type": "code",
   "execution_count": 15,
   "id": "9ad81dbc-f0a5-4f2a-a1a5-8de960229717",
   "metadata": {},
   "outputs": [
    {
     "name": "stdin",
     "output_type": "stream",
     "text": [
      " 30285\n"
     ]
    },
    {
     "name": "stdout",
     "output_type": "stream",
     "text": [
      "5의 배수입니다\n"
     ]
    }
   ],
   "source": [
    "num = int(input())\n",
    "\n",
    "if num % 5:\n",
    "    print('5의 배수가 아닙니다.')\n",
    "else:\n",
    "    print('5의 배수입니다')"
   ]
  },
  {
   "cell_type": "markdown",
   "id": "2d69c6eb-d239-4b0a-8e6a-1e8f4ac9aefe",
   "metadata": {},
   "source": [
    "### elif\n",
    "\n",
    "```\n",
    "if <조건식>:\n",
    "    if문이 참인 경우\n",
    "elif <조건식>:\n",
    "    elif문이 참인 경우\n",
    "else:\n",
    "    위의 모든 조건식이 거짓인 경우\n",
    "```"
   ]
  },
  {
   "cell_type": "code",
   "execution_count": 19,
   "id": "a7d5ee85-e628-48b1-a311-561c1c8eba72",
   "metadata": {},
   "outputs": [
    {
     "name": "stdin",
     "output_type": "stream",
     "text": [
      " 96\n"
     ]
    },
    {
     "name": "stdout",
     "output_type": "stream",
     "text": [
      "A\n",
      "Good!!!!\n"
     ]
    }
   ],
   "source": [
    "score = int(input())\n",
    "\n",
    "if score >= 90:\n",
    "    print('A')\n",
    "    if score >=95:\n",
    "        print('Good!!!!')\n",
    "elif score >=80:\n",
    "    print('B')\n",
    "elif score >=70:\n",
    "    print('C')\n",
    "else:\n",
    "    print('F')"
   ]
  },
  {
   "cell_type": "markdown",
   "id": "0dc6b594-f46d-4b10-a950-8bcb54ce5d1b",
   "metadata": {},
   "source": [
    "### 조건표현식\n",
    "- `true_value if <조건식> else false_value`\n",
    "-  이 문법은 안 쓸 것임"
   ]
  },
  {
   "cell_type": "code",
   "execution_count": 2,
   "id": "73bc2383-fc40-4d70-8c73-4733a4475a3a",
   "metadata": {},
   "outputs": [
    {
     "name": "stdout",
     "output_type": "stream",
     "text": [
      "100\n"
     ]
    }
   ],
   "source": [
    "a = 0\n",
    "if True:\n",
    "    a = 100\n",
    "else:\n",
    "    a = -100\n",
    "print(a)\n"
   ]
  },
  {
   "cell_type": "code",
   "execution_count": 3,
   "id": "8d8c94c3-0ac0-4863-81ed-4e1a93a4700e",
   "metadata": {},
   "outputs": [
    {
     "name": "stdout",
     "output_type": "stream",
     "text": [
      "100\n"
     ]
    }
   ],
   "source": [
    "a = 100 if True else -100\n",
    "print(a)"
   ]
  },
  {
   "cell_type": "code",
   "execution_count": 8,
   "id": "9f665670-8209-4920-8ac2-86971566fffa",
   "metadata": {},
   "outputs": [
    {
     "name": "stdin",
     "output_type": "stream",
     "text": [
      " 394\n"
     ]
    },
    {
     "name": "stdout",
     "output_type": "stream",
     "text": [
      "394\n"
     ]
    }
   ],
   "source": [
    "num = int(input())\n",
    "\n",
    "if num >= 0:\n",
    "    result = num\n",
    "else:\n",
    "    result = 0\n",
    "print(result)"
   ]
  },
  {
   "cell_type": "code",
   "execution_count": 20,
   "id": "6bb24154-c9b2-4df9-8996-1f63628a8d1e",
   "metadata": {},
   "outputs": [
    {
     "name": "stdin",
     "output_type": "stream",
     "text": [
      " 34\n"
     ]
    },
    {
     "name": "stdout",
     "output_type": "stream",
     "text": [
      "34\n"
     ]
    }
   ],
   "source": [
    "num = int(input())\n",
    "\n",
    "result = num if num >= 0 else 0\n",
    "print(result)"
   ]
  },
  {
   "cell_type": "code",
   "execution_count": 21,
   "id": "061b6b67-1991-47b8-940f-fba32969c528",
   "metadata": {},
   "outputs": [
    {
     "name": "stdout",
     "output_type": "stream",
     "text": [
      "홀수\n"
     ]
    }
   ],
   "source": [
    "num = 9\n",
    "\n",
    "result = '홀수' if num % 2 else '짝수'\n",
    "print(result)"
   ]
  },
  {
   "cell_type": "code",
   "execution_count": 22,
   "id": "11407438-79d2-40ac-9180-23fa162853c9",
   "metadata": {},
   "outputs": [
    {
     "name": "stdout",
     "output_type": "stream",
     "text": [
      "짝수\n"
     ]
    }
   ],
   "source": [
    "num = 10\n",
    "\n",
    "if num %2:\n",
    "    result = '홀수'\n",
    "else:\n",
    "    result = '짝수'\n",
    "\n",
    "print(result)"
   ]
  },
  {
   "cell_type": "markdown",
   "id": "83975bea-e5c8-485e-8448-b44eb0bef356",
   "metadata": {},
   "source": [
    "## 반복문"
   ]
  },
  {
   "cell_type": "markdown",
   "id": "9d0fe8d3-3e04-43df-a845-25a4baf50586",
   "metadata": {},
   "source": [
    "### while문\n",
    "```\n",
    "while <조건식>:\n",
    "    실행할 코드\n",
    "```\n",
    "- Python Tutor에서 확인해보기"
   ]
  },
  {
   "cell_type": "code",
   "execution_count": 24,
   "id": "395de3d4-0eb8-47dc-b0b2-a0a0569cb729",
   "metadata": {},
   "outputs": [
    {
     "name": "stdout",
     "output_type": "stream",
     "text": [
      "0\n",
      "1\n",
      "2\n",
      "3\n",
      "4\n"
     ]
    }
   ],
   "source": [
    "a = 0\n",
    "\n",
    "while a < 5: \n",
    "    print(a)\n",
    "    a += 1"
   ]
  },
  {
   "cell_type": "markdown",
   "id": "ca99b4cf-1238-40e0-94e7-46102185537f",
   "metadata": {},
   "source": [
    "## for문\n",
    "- 정해진 범위 내의 반복\n",
    "```\n",
    "for var_name in sequence:\n",
    "    code\n",
    "```\n",
    "- 시퀀스형(list, Tuple, Range, String)은 모두 sequence 자리에 사용가능하다"
   ]
  },
  {
   "cell_type": "code",
   "execution_count": 25,
   "id": "7fd034a5-946b-4ddf-895d-4ed8555ca504",
   "metadata": {},
   "outputs": [
    {
     "name": "stdout",
     "output_type": "stream",
     "text": [
      "1\n",
      "2\n",
      "3\n",
      "4\n",
      "5\n"
     ]
    }
   ],
   "source": [
    "numbers = [1,2,3,4,5]\n",
    "\n",
    "for number in numbers:\n",
    "    print(number)"
   ]
  },
  {
   "cell_type": "code",
   "execution_count": 26,
   "id": "e3e2fff1-4f11-4bf5-b85b-163ef6453aa1",
   "metadata": {},
   "outputs": [
    {
     "name": "stdout",
     "output_type": "stream",
     "text": [
      "a\n",
      "p\n",
      "p\n",
      "l\n",
      "e\n"
     ]
    }
   ],
   "source": [
    "word = 'apple'\n",
    "\n",
    "for char in word:\n",
    "    print(char)\n",
    "    "
   ]
  },
  {
   "cell_type": "code",
   "execution_count": 27,
   "id": "cb7ad848-a199-47be-8a93-02a11b21652a",
   "metadata": {},
   "outputs": [
    {
     "name": "stdout",
     "output_type": "stream",
     "text": [
      "0\n",
      "1\n",
      "2\n",
      "3\n",
      "4\n"
     ]
    }
   ],
   "source": [
    "for i in range(5):\n",
    "    print(i)"
   ]
  },
  {
   "cell_type": "code",
   "execution_count": 31,
   "id": "220bd0e0-57a0-47cb-92f0-0a35b99f8086",
   "metadata": {},
   "outputs": [
    {
     "name": "stdout",
     "output_type": "stream",
     "text": [
      "range(1, 51)\n",
      "5\n",
      "10\n",
      "15\n",
      "20\n",
      "25\n",
      "30\n",
      "35\n",
      "40\n",
      "45\n",
      "50\n"
     ]
    }
   ],
   "source": [
    "numbers = range(1,51)\n",
    "print(numbers)\n",
    "\n",
    "for number in numbers:\n",
    "    if number % 5 == 0:\n",
    "        print(number)"
   ]
  },
  {
   "cell_type": "code",
   "execution_count": 36,
   "id": "812aa9b2-4dd8-4827-b0a0-fdc4b61c9bbe",
   "metadata": {},
   "outputs": [
    {
     "name": "stdout",
     "output_type": "stream",
     "text": [
      "(0, '서울')\n",
      "(1, '대전')\n",
      "(2, '부산')\n"
     ]
    }
   ],
   "source": [
    "locations = ['서울','대전','부산']\n",
    "for location in enumerate(locations):  ##enumerate 함수: 낱낱이 세다\n",
    "    print(location)"
   ]
  },
  {
   "cell_type": "code",
   "execution_count": 35,
   "id": "946ae9f5-e786-49cd-9acd-5cff47d47bbe",
   "metadata": {},
   "outputs": [
    {
     "name": "stdout",
     "output_type": "stream",
     "text": [
      "0\n",
      "서울\n",
      "1\n",
      "대전\n",
      "2\n",
      "부산\n"
     ]
    }
   ],
   "source": [
    "locations = ['서울','대전','부산']\n",
    "for (index, location) in enumerate(locations):\n",
    "    print(index)\n",
    "    print(location)"
   ]
  },
  {
   "cell_type": "markdown",
   "id": "f356fe24-aa3b-4140-8d9c-c31d8849c405",
   "metadata": {},
   "source": [
    "### dcitionary 반복\n",
    "1. for key in dict:\n",
    "    - 딕셔너리에 있는 키를 알려줌\n",
    "3. for key in dict.keys():\n",
    "    - 딕셔너리에 있는 키를 알려줌\n",
    "5. for value in dict.values():\n",
    "    - 딕셔너리에 있는 value를 알려줌\n",
    "7. for key, value in dict.items():\n",
    "    - 딕셔너리에 있는 키와 value를 알려줌"
   ]
  },
  {
   "cell_type": "code",
   "execution_count": 41,
   "id": "fd906a58-bf8c-431d-b338-e78982e6c42e",
   "metadata": {},
   "outputs": [],
   "source": [
    "info = {\n",
    "    'name' : 'gildong',\n",
    "    'location' : 'seoul',\n",
    "    'phone' : '010-1234-1234',\n",
    "    'age' : 20,\n",
    "}"
   ]
  },
  {
   "cell_type": "code",
   "execution_count": 48,
   "id": "8301d11f-8258-4070-98cc-c5fc7f2e9717",
   "metadata": {},
   "outputs": [
    {
     "name": "stdout",
     "output_type": "stream",
     "text": [
      "name\n",
      "gildong\n",
      "location\n",
      "seoul\n",
      "phone\n",
      "010-1234-1234\n",
      "age\n",
      "20\n"
     ]
    }
   ],
   "source": [
    "for k in info:\n",
    "    print(k)\n",
    "    print(info[k])"
   ]
  },
  {
   "cell_type": "code",
   "execution_count": 45,
   "id": "1b96bef2-be2f-4dad-8b33-c44a55d37522",
   "metadata": {},
   "outputs": [
    {
     "name": "stdout",
     "output_type": "stream",
     "text": [
      "name\n",
      "location\n",
      "phone\n",
      "age\n"
     ]
    }
   ],
   "source": [
    "for k in info.keys():\n",
    "    print(k)"
   ]
  },
  {
   "cell_type": "code",
   "execution_count": 50,
   "id": "e39fa407-0021-446b-b275-b218b6a8a0ee",
   "metadata": {},
   "outputs": [
    {
     "name": "stdout",
     "output_type": "stream",
     "text": [
      "gildong\n",
      "seoul\n",
      "010-1234-1234\n",
      "20\n"
     ]
    }
   ],
   "source": [
    "for v in info.values():\n",
    "    print(v)"
   ]
  },
  {
   "cell_type": "code",
   "execution_count": 55,
   "id": "27d04ecf-166a-41bd-a9b8-8c14181b1500",
   "metadata": {},
   "outputs": [
    {
     "name": "stdout",
     "output_type": "stream",
     "text": [
      "name gildong\n",
      "location seoul\n",
      "phone 010-1234-1234\n",
      "age 20\n"
     ]
    }
   ],
   "source": [
    "for k,v in info.items():\n",
    "    print(k,v)"
   ]
  },
  {
   "cell_type": "code",
   "execution_count": 57,
   "id": "dcd35851-e735-4f38-9d24-76b873c63782",
   "metadata": {},
   "outputs": [],
   "source": [
    "blood_type = {\n",
    "    'A' : 15,\n",
    "    'B' : 8,\n",
    "    'C' : 5,\n",
    "    'AB' : 4,\n",
    "}"
   ]
  },
  {
   "cell_type": "code",
   "execution_count": 60,
   "id": "b47d5246-cf57-4d38-98bb-53f991922b08",
   "metadata": {},
   "outputs": [
    {
     "name": "stdout",
     "output_type": "stream",
     "text": [
      "혈액형 종류는 다음과 같습니다\n",
      "A\n",
      "B\n",
      "C\n",
      "AB\n"
     ]
    }
   ],
   "source": [
    "print('혈액형 종류는 다음과 같습니다')\n",
    "for blood in blood_type:\n",
    "    print(blood)"
   ]
  },
  {
   "cell_type": "code",
   "execution_count": 61,
   "id": "948b68f0-1fc8-4e01-83ae-ab37de15ab79",
   "metadata": {},
   "outputs": [
    {
     "name": "stdout",
     "output_type": "stream",
     "text": [
      "32\n"
     ]
    }
   ],
   "source": [
    "# 총 학생은 몇명입니다\n",
    "result = 0\n",
    "for number in blood_type.values():\n",
    "    result += number\n",
    "    \n",
    "print(result)\n",
    "    "
   ]
  },
  {
   "cell_type": "code",
   "execution_count": 65,
   "id": "a54c3552-bc38-453a-a5a2-59ce29f2cbd1",
   "metadata": {},
   "outputs": [
    {
     "name": "stdout",
     "output_type": "stream",
     "text": [
      "A형은 15명입니다.\n",
      "B형은 8명입니다.\n",
      "C형은 5명입니다.\n",
      "AB형은 4명입니다.\n"
     ]
    }
   ],
   "source": [
    "for k,v in blood_type.items():\n",
    "    print(f'{k}형은 {v}명입니다.')  ##### f-string 활용 :print(f'홍길동은 {age}살입니다.')"
   ]
  },
  {
   "cell_type": "markdown",
   "id": "da42acf7-5c9e-4404-912b-cea9c9c4bed5",
   "metadata": {},
   "source": [
    "### break\n",
    "반복문을 종료시키는 키워드"
   ]
  },
  {
   "cell_type": "code",
   "execution_count": 69,
   "id": "a3a6244d-11f1-463d-b4d3-cc8a2e5670a4",
   "metadata": {},
   "outputs": [
    {
     "name": "stdout",
     "output_type": "stream",
     "text": [
      "여기는 for문 0\n",
      "여기는 for문 1\n",
      "여기는 for문 2\n",
      "여기는 for문 3\n",
      "여기는 for문 4\n",
      "여기는 for문 5\n",
      "여기는 for문 6\n",
      "여기는 브레이크\n"
     ]
    }
   ],
   "source": [
    "for i in range(100):\n",
    "    print('여기는 for문', i)\n",
    "    if i > 5:\n",
    "        print('여기는 브레이크')\n",
    "        break"
   ]
  },
  {
   "cell_type": "code",
   "execution_count": 71,
   "id": "c14d60fa-b01c-411f-a711-620b91099f33",
   "metadata": {},
   "outputs": [
    {
     "name": "stdin",
     "output_type": "stream",
     "text": [
      " 보리\n",
      " 볼ㅣ\n",
      " ㅂㅗ리\n",
      " 보리\n",
      " ㅆㅏㄹ\n",
      " 쌀\n"
     ]
    },
    {
     "name": "stdout",
     "output_type": "stream",
     "text": [
      "잡았다!!!!!\n"
     ]
    }
   ],
   "source": [
    "while True:                         ### While True 여기는 참이니까 계속 해\n",
    "    rice=input()\n",
    "    if rice == '쌀':\n",
    "        print('잡았다!!!!!')\n",
    "        break"
   ]
  },
  {
   "cell_type": "markdown",
   "id": "6877bb38-14ac-4b52-a239-a5240076867b",
   "metadata": {},
   "source": [
    "### continue\n",
    "- continue 이후의 코드를 실행하지 않고 다음 반복을 진행"
   ]
  },
  {
   "cell_type": "code",
   "execution_count": 74,
   "id": "459b2957-1acb-41b1-908c-c8dd9b32632b",
   "metadata": {},
   "outputs": [
    {
     "name": "stdout",
     "output_type": "stream",
     "text": [
      "0\n",
      "2\n",
      "4\n",
      "6\n",
      "8\n",
      "10\n",
      "12\n",
      "14\n",
      "16\n",
      "18\n"
     ]
    }
   ],
   "source": [
    "for i in range(20):\n",
    "    if i % 2 == 1:\n",
    "        continue\n",
    "    print(i)\n",
    "    "
   ]
  },
  {
   "cell_type": "code",
   "execution_count": 76,
   "id": "e563cd8d-3488-4bf1-a7f8-857e501b5ecf",
   "metadata": {},
   "outputs": [
    {
     "name": "stdout",
     "output_type": "stream",
     "text": [
      "20살은 성인입니다.\n",
      "30살은 성인입니다.\n",
      "23살은 성인입니다.\n",
      "43살은 성인입니다.\n",
      "20살은 성인입니다.\n"
     ]
    }
   ],
   "source": [
    "ages = [10, 20, 30, 23, 43, 9, 20]\n",
    "for age in ages:\n",
    "    if age < 20:\n",
    "        continue\n",
    "    print(f'{age}살은 성인입니다.')\n",
    "        "
   ]
  },
  {
   "cell_type": "markdown",
   "id": "9f602a4f-2e84-4d1d-899a-8f123abcdeb6",
   "metadata": {},
   "source": [
    "### else\n",
    "else문은 끝까지 반복된 경우 실행됩니다.\n",
    "break를 만나지 않은 경우 실행된다."
   ]
  },
  {
   "cell_type": "code",
   "execution_count": 80,
   "id": "b92fb185-55da-4573-9cb6-57905f4ef6b9",
   "metadata": {},
   "outputs": [
    {
     "name": "stdout",
     "output_type": "stream",
     "text": [
      "0\n",
      "1\n",
      "2\n",
      "3\n",
      "4\n",
      "5\n",
      "6\n",
      "7\n",
      "8\n",
      "9\n",
      "모두완료!!\n"
     ]
    }
   ],
   "source": [
    "for i in range(10):\n",
    "    if i > 50:\n",
    "        break\n",
    "    print(i)\n",
    "else: \n",
    "    print('모두완료!!')  ###브레이크를 만나지 않음"
   ]
  },
  {
   "cell_type": "code",
   "execution_count": null,
   "id": "f3410e7b-7b08-4c9b-825d-620a9a29f5cb",
   "metadata": {},
   "outputs": [],
   "source": []
  }
 ],
 "metadata": {
  "kernelspec": {
   "display_name": "Python 3 (ipykernel)",
   "language": "python",
   "name": "python3"
  },
  "language_info": {
   "codemirror_mode": {
    "name": "ipython",
    "version": 3
   },
   "file_extension": ".py",
   "mimetype": "text/x-python",
   "name": "python",
   "nbconvert_exporter": "python",
   "pygments_lexer": "ipython3",
   "version": "3.13.2"
  }
 },
 "nbformat": 4,
 "nbformat_minor": 5
}
