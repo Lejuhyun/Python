{
 "cells": [
  {
   "cell_type": "code",
   "execution_count": 1,
   "id": "957f9067-a289-4a0d-8720-517d4d9923a2",
   "metadata": {},
   "outputs": [
    {
     "name": "stdout",
     "output_type": "stream",
     "text": [
      "배틀 시작!\n",
      "꼬부기이(가) 파이리에게 15의 데미지를 입혔습니다!\n",
      "파이리이(가) 꼬부기에게 15의 데미지를 입혔습니다!\n",
      "꼬부기 - 체력: 35\n",
      "파이리 - 체력: 35\n",
      "----------\n",
      "꼬부기이(가) 파이리에게 5의 데미지를 입혔습니다!\n",
      "파이리이(가) 꼬부기에게 5의 데미지를 입혔습니다!\n",
      "꼬부기 - 체력: 30\n",
      "파이리 - 체력: 30\n",
      "----------\n",
      "꼬부기이(가) 파이리에게 5의 데미지를 입혔습니다!\n",
      "파이리이(가) 꼬부기에게 5의 데미지를 입혔습니다!\n",
      "꼬부기 - 체력: 25\n",
      "파이리 - 체력: 25\n",
      "----------\n",
      "꼬부기이(가) 파이리에게 15의 데미지를 입혔습니다!\n",
      "파이리이(가) 꼬부기에게 10의 데미지를 입혔습니다!\n",
      "꼬부기 - 체력: 15\n",
      "파이리 - 체력: 10\n",
      "----------\n",
      "꼬부기이(가) 파이리에게 10의 데미지를 입혔습니다!\n",
      "파이리가 쓰러졌습니다! 꼬부기 승리!\n"
     ]
    }
   ],
   "source": [
    "import random\n",
    "\n",
    "# 포켓몬 클래스 정의\n",
    "class Pokemon:\n",
    "    def __init__(self, name, level=5):\n",
    "        self.name = name            # 포켓몬 이름\n",
    "        self.level = level          # 포켓몬 레벨 (기본값 5)\n",
    "        self.hp = level * 10        # 체력은 레벨에 따라 결정 (예: 레벨 5면 체력 50)\n",
    "\n",
    "    def attack(self, opponent):\n",
    "        # 간단한 공격: 데미지는 레벨과 1부터 3 사이의 랜덤 숫자를 곱해 결정합니다.\n",
    "        damage = self.level * random.randint(1, 3)\n",
    "        print(f\"{self.name}이(가) {opponent.name}에게 {damage}의 데미지를 입혔습니다!\")\n",
    "        opponent.hp -= damage\n",
    "\n",
    "    def is_knocked_out(self):\n",
    "        # 체력이 0 이하이면 쓰러진 것으로 간주\n",
    "        return self.hp <= 0\n",
    "\n",
    "    def status(self):\n",
    "        # 현재 상태(이름과 체력)를 출력하는 메서드\n",
    "        print(f\"{self.name} - 체력: {self.hp}\")\n",
    "\n",
    "# 포켓몬 객체 생성 (타입 정보를 제거)\n",
    "kobugi = Pokemon(\"꼬부기\", level=5)\n",
    "pairi = Pokemon(\"파이리\", level=5)\n",
    "\n",
    "# 배틀 시뮬레이션 시작\n",
    "print(\"배틀 시작!\")\n",
    "while True:\n",
    "    # 꼬부기가 파이리를 공격\n",
    "    kobugi.attack(pairi)\n",
    "    if pairi.is_knocked_out():\n",
    "        print(f\"{pairi.name}가 쓰러졌습니다! {kobugi.name} 승리!\")\n",
    "        break\n",
    "\n",
    "    # 파이리가 꼬부기를 공격\n",
    "    pairi.attack(kobugi)\n",
    "    if kobugi.is_knocked_out():\n",
    "        print(f\"{kobugi.name}가 쓰러졌습니다! {pairi.name} 승리!\")\n",
    "        break\n",
    "\n",
    "    # 각 포켓몬의 현재 체력을 출력\n",
    "    kobugi.status()\n",
    "    pairi.status()\n",
    "    print(\"----------\")"
   ]
  },
  {
   "cell_type": "code",
   "execution_count": 4,
   "id": "97c53908-721e-4498-8f6e-8935eb3491ef",
   "metadata": {},
   "outputs": [
    {
     "name": "stdout",
     "output_type": "stream",
     "text": [
      "꼬부기가 피카츄에게 데미지 15를 입혔습니다\n",
      "피카츄이 쓰러졌습니다\n"
     ]
    }
   ],
   "source": [
    "# 포켓몬 이름# 포켓몬 레벨 (기본값 5)# 체력은 레벨에 따라 결정 (예: 레벨 5면 체력 50)\n",
    "import random\n",
    "class Poketmon:\n",
    "    def __init__(self, name, level=5):\n",
    "        self.name = name\n",
    "        self.level = level\n",
    "        self.hp = level*10\n",
    "    # 간단한 공격: 데미지는 레벨과 1부터 3 사이의 랜덤 숫자를 곱해 결정합니다.\n",
    "    def attack(self, opponent):\n",
    "        damage = self.level * random.randint(1,3)\n",
    "        print(f'{self.name}가 {opponent.name}에게 데미지 {damage}를 입혔습니다')\n",
    "        opponent.hp = opponent.hp - damage\n",
    "    ## 체력이 0 이하이면 쓰러진 것으로 간주\n",
    "    def is_knocked_down(self):\n",
    "        return self.hp <= 0\n",
    "        # 현재 상태(이름과 체력)를 출력하는 메서드\n",
    "    def status(self):\n",
    "        print(f'{self.name}의 현재상태 hp: {self.hp}')\n",
    "\n",
    "kobugi = Poketmon('꼬부기', level=5)\n",
    "pika = Poketmon('피카츄', level=5)\n",
    "\n",
    "while True:\n",
    "    kobugi.attack(pika)\n",
    "    if pika.is_knocked_down:\n",
    "        print(f'{pika.name}이 쓰러졌습니다')\n",
    "        break\n",
    "        \n",
    "            \n",
    "\n",
    "    "
   ]
  },
  {
   "cell_type": "code",
   "execution_count": 4,
   "id": "cc7c7337-cbe5-40a8-953d-2bf93981f6f8",
   "metadata": {},
   "outputs": [
    {
     "name": "stdout",
     "output_type": "stream",
     "text": [
      "꼬부기이가 파이리에게 10의 데미지를 입혔습니다\n",
      "파이리이가 꼬부기에게 5의 데미지를 입혔습니다\n",
      "이름 : 꼬부기 - 체력 : 45\n",
      "이름 : 파이리 - 체력 : 40\n",
      "꼬부기이가 파이리에게 5의 데미지를 입혔습니다\n",
      "파이리이가 꼬부기에게 15의 데미지를 입혔습니다\n",
      "이름 : 꼬부기 - 체력 : 30\n",
      "이름 : 파이리 - 체력 : 35\n",
      "꼬부기이가 파이리에게 5의 데미지를 입혔습니다\n",
      "파이리이가 꼬부기에게 5의 데미지를 입혔습니다\n",
      "이름 : 꼬부기 - 체력 : 25\n",
      "이름 : 파이리 - 체력 : 30\n",
      "꼬부기이가 파이리에게 10의 데미지를 입혔습니다\n",
      "파이리이가 꼬부기에게 5의 데미지를 입혔습니다\n",
      "이름 : 꼬부기 - 체력 : 20\n",
      "이름 : 파이리 - 체력 : 20\n",
      "꼬부기이가 파이리에게 10의 데미지를 입혔습니다\n",
      "파이리이가 꼬부기에게 5의 데미지를 입혔습니다\n",
      "이름 : 꼬부기 - 체력 : 15\n",
      "이름 : 파이리 - 체력 : 10\n",
      "꼬부기이가 파이리에게 15의 데미지를 입혔습니다\n",
      "꼬부기가 승리하였습니다\n"
     ]
    }
   ],
   "source": [
    "import random\n",
    "class Poketmon:\n",
    "    def __init__(self, name, level = 5):\n",
    "        self.name = name\n",
    "        self.level = level\n",
    "        self.hp = level * 10\n",
    "\n",
    "    def attack(self, opponent):\n",
    "        # 간단한 공격: 데미지는 레벨과 1부터 3 사이의 랜덤 숫자를 곱해 결정합니다.\n",
    "        damage = random.randint(1,3) * self.level\n",
    "        print(f'{self.name}이가 {opponent.name}에게 {damage}의 데미지를 입혔습니다')\n",
    "        opponent.hp = opponent.hp - damage\n",
    "\n",
    "\n",
    "    def is_knocked_out(self):\n",
    "    # 체력이 0 이하이면 쓰러진 것으로 간주\n",
    "        return self.hp <= 0\n",
    "    \n",
    "    # def is_knocked_out(self):\n",
    "    #     if self.hp <= 0:\n",
    "    #         print(f'{self}')\n",
    "    # 체력이 0 이하이면 쓰러진 것으로 간주\n",
    "\n",
    "    def status(self): # 현재 상태(이름과 체력)를 출력하는 메서드\n",
    "        print(f'이름 : {self.name} - 체력 : {self.hp}')\n",
    "\n",
    "# 포켓몬 객체 생성 (타입 정보를 제거)\n",
    "kobugi = Poketmon('꼬부기')\n",
    "pairi = Poketmon('파이리')\n",
    "\n",
    "# 배틀 시뮬레이션 시작\n",
    "while True:\n",
    "    # 꼬부기가 파이리를 공격\n",
    "    kobugi.attack(pairi)\n",
    "    if pairi.is_knocked_out():\n",
    "        print(f'{kobugi.name}가 승리하였습니다')\n",
    "        break\n",
    "\n",
    "    pairi.attack(kobugi)\n",
    "    if kobugi.is_knocked_out():\n",
    "        print(f'{pairi.name}가 승리하였습니다')\n",
    "        break\n",
    "\n",
    "    kobugi.status()\n",
    "    pairi.status()\n",
    "    \n",
    "    \n",
    "\n",
    "        "
   ]
  },
  {
   "cell_type": "code",
   "execution_count": null,
   "id": "00e4d9a8-f5a7-460d-bc98-2631454bbddf",
   "metadata": {},
   "outputs": [],
   "source": [
    "class Avengers:\n",
    "    def __init__(self,name,age,gender):\n",
    "        self.name = name\n",
    "        self.age = age\n",
    "        self.gender = gender\n",
    "    def run(self):\n",
    "        print(f'{self.name} can run')\n"
   ]
  },
  {
   "cell_type": "code",
   "execution_count": null,
   "id": "67976410-9e0c-4626-ad0d-03b626ceb37e",
   "metadata": {},
   "outputs": [],
   "source": [
    "class Ironman(Avengers):\n",
    "    def __init__(self,name,age,gender,version):\n",
    "        super().__init__(name,age,gender)\n",
    "        self.version = version\n",
    "    def repulsor(self):\n",
    "        if self.version > 30:\n",
    "            print(f'{self.name} can shoot repulsor')\n",
    "        else:\n",
    "            print(f'{self.name} cannot shoot repulsor')"
   ]
  },
  {
   "cell_type": "code",
   "execution_count": null,
   "id": "bb3482ca-4300-4fb5-846b-ecb953e20d6a",
   "metadata": {},
   "outputs": [],
   "source": [
    "Mark31 = Ironman('Tony', 40, 'M', 31)\n",
    "Mark31.repulsor()\n",
    "Mark31.run()"
   ]
  },
  {
   "cell_type": "code",
   "execution_count": null,
   "id": "2015e2a4-2024-4642-9afc-c321e940b42b",
   "metadata": {},
   "outputs": [],
   "source": [
    "class Hulk(Avengers):\n",
    "    def __init__(self, name, age, gender, anger):\n",
    "        super().__init__(name, age, gender)\n",
    "        self.anger = anger\n",
    "    def hammering(self):\n",
    "        if self.anger>10:\n",
    "            print(f'{self.name} can do hammering')\n",
    "        else:\n",
    "            print(f'{self.name} cannot do hammering')"
   ]
  },
  {
   "cell_type": "code",
   "execution_count": null,
   "id": "2bb7b117-6fb6-4378-a749-2c0408c847b6",
   "metadata": {},
   "outputs": [],
   "source": [
    "H1 = Hulk('Bruce', 40, 'M', 15)\n",
    "H1.hammering()\n",
    "H1.run()"
   ]
  },
  {
   "cell_type": "code",
   "execution_count": null,
   "id": "e093d73f-6300-42e5-9743-58b4b7bf57b6",
   "metadata": {},
   "outputs": [],
   "source": [
    "class Hulkbuster(Ironman, Hulk):\n",
    "    def __init__(self, name, age, gender, anger, version):\n",
    "        Hulk.__init__(self, name, age, gender, anger)\n",
    "        self.version = version\n",
    "\n",
    "    def repulsor_hammering(self):\n",
    "        super().repulsor()\n",
    "        super().hammering()\n",
    "        "
   ]
  },
  {
   "cell_type": "code",
   "execution_count": null,
   "id": "d0467afa-6108-4650-ac68-d22687be8f94",
   "metadata": {},
   "outputs": [],
   "source": [
    "HB = Hulkbuster('Bruce', 40, 'M', 15, 1)\n",
    "HB.run()\n",
    "HB.repulsor_hammering()"
   ]
  },
  {
   "cell_type": "code",
   "execution_count": null,
   "id": "9c744226-6c10-4160-acdb-1a820dd45511",
   "metadata": {},
   "outputs": [],
   "source": [
    "class Ironman(Avengers):\n",
    "    def __init__(self, name, age, gender, version):\n",
    "        super().__init__(name, age, gender)\n",
    "        self.version = version\n",
    "        \n",
    "    def repulsor(self):\n",
    "        if self.version > 30:\n",
    "            print(f'{self.name} can shoot repulsor')\n",
    "        else:\n",
    "            print(f'{self.name} cannot shoot repulsor')\n",
    "\n",
    "    # overwrite run method\n",
    "    def run(self):\n",
    "        if self.version > 2:\n",
    "            print(f'{self.name} can run')\n",
    "        else:\n",
    "            print(f'{self.name} cannot run')\n",
    "\n",
    "    "
   ]
  },
  {
   "cell_type": "code",
   "execution_count": null,
   "id": "5b8c49d6-227e-4b61-8c47-f4848dd336c2",
   "metadata": {},
   "outputs": [],
   "source": [
    "Mark1 = Ironman(\"Tony\", \"40\",\"M\",1)\n",
    "Mark1.run()"
   ]
  }
 ],
 "metadata": {
  "kernelspec": {
   "display_name": "Python 3 (ipykernel)",
   "language": "python",
   "name": "python3"
  },
  "language_info": {
   "codemirror_mode": {
    "name": "ipython",
    "version": 3
   },
   "file_extension": ".py",
   "mimetype": "text/x-python",
   "name": "python",
   "nbconvert_exporter": "python",
   "pygments_lexer": "ipython3",
   "version": "3.13.2"
  }
 },
 "nbformat": 4,
 "nbformat_minor": 5
}
