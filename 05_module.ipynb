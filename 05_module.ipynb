{
 "cells": [
  {
   "cell_type": "markdown",
   "id": "3415f857-5d8b-472b-b8ea-ceba2b6471b3",
   "metadata": {},
   "source": [
    "# 모듈"
   ]
  },
  {
   "cell_type": "code",
   "execution_count": 1,
   "id": "ac9efb9b-12a1-4683-96db-60517d2baef9",
   "metadata": {},
   "outputs": [],
   "source": [
    "import fact"
   ]
  },
  {
   "cell_type": "code",
   "execution_count": 2,
   "id": "56611bee-bc4a-47a6-a253-db619d21f8bc",
   "metadata": {},
   "outputs": [
    {
     "name": "stdout",
     "output_type": "stream",
     "text": [
      "<module 'fact' from 'C:\\\\Users\\\\1-15\\\\Desktop\\\\DAMF2\\\\python\\\\fact.py'>\n"
     ]
    }
   ],
   "source": [
    "print(fact)"
   ]
  },
  {
   "cell_type": "code",
   "execution_count": 3,
   "id": "55e316c4-ced1-4839-a862-de61e53a868c",
   "metadata": {},
   "outputs": [
    {
     "data": {
      "text/plain": [
       "120"
      ]
     },
     "execution_count": 3,
     "metadata": {},
     "output_type": "execute_result"
    }
   ],
   "source": [
    "fact.factorial(5)    ## 파일이름.함수이름"
   ]
  },
  {
   "cell_type": "code",
   "execution_count": 4,
   "id": "6b1621f9-e24e-4d05-b381-c10d37aa66c7",
   "metadata": {},
   "outputs": [
    {
     "data": {
      "text/plain": [
       "3"
      ]
     },
     "execution_count": 4,
     "metadata": {},
     "output_type": "execute_result"
    }
   ],
   "source": [
    "fact.my_max(2,3)"
   ]
  },
  {
   "cell_type": "markdown",
   "id": "b0ac81e4-2566-416a-b53f-98d1297350c4",
   "metadata": {},
   "source": [
    "# 패키지\n",
    "```\n",
    "myPackage/\n",
    "    __init__.py\n",
    "    math/\n",
    "        __init__.py\n",
    "```\n",
    "- 패키지 안에 `__init__.py` 파일이 존재해야 패키지로 인식"
   ]
  },
  {
   "cell_type": "code",
   "execution_count": 20,
   "id": "88bb070f-7af6-42fb-9e9b-7cb9384fdd63",
   "metadata": {},
   "outputs": [],
   "source": [
    "import myPackage"
   ]
  },
  {
   "cell_type": "code",
   "execution_count": 21,
   "id": "82c4df7c-51b9-43dc-b6b5-2e905211b8eb",
   "metadata": {},
   "outputs": [
    {
     "name": "stdout",
     "output_type": "stream",
     "text": [
      "<module 'myPackage' from 'C:\\\\Users\\\\1-15\\\\Desktop\\\\DAMF2\\\\python\\\\myPackage\\\\__init__.py'>\n"
     ]
    }
   ],
   "source": [
    "print(myPackage)"
   ]
  },
  {
   "cell_type": "code",
   "execution_count": 22,
   "id": "1b770de6-8325-4b9f-b3fd-758c9c7ea098",
   "metadata": {},
   "outputs": [
    {
     "ename": "AttributeError",
     "evalue": "module 'myPackage.math' has no attribute 'fomula'",
     "output_type": "error",
     "traceback": [
      "\u001b[1;31m---------------------------------------------------------------------------\u001b[0m",
      "\u001b[1;31mAttributeError\u001b[0m                            Traceback (most recent call last)",
      "Cell \u001b[1;32mIn[22], line 1\u001b[0m\n\u001b[1;32m----> 1\u001b[0m \u001b[43mmyPackage\u001b[49m\u001b[38;5;241;43m.\u001b[39;49m\u001b[43mmath\u001b[49m\u001b[38;5;241;43m.\u001b[39;49m\u001b[43mfomula\u001b[49m\u001b[38;5;241m.\u001b[39mmy_max(\u001b[38;5;241m2\u001b[39m,\u001b[38;5;241m3\u001b[39m)\n",
      "\u001b[1;31mAttributeError\u001b[0m: module 'myPackage.math' has no attribute 'fomula'"
     ]
    }
   ],
   "source": [
    "myPackage.math.fomula.my_max(2,3)"
   ]
  },
  {
   "cell_type": "code",
   "execution_count": 23,
   "id": "a323ded8-8eb5-4a1a-b133-9311d1f0e8bc",
   "metadata": {},
   "outputs": [],
   "source": [
    "from myPackage.math.fomula import my_max  ## 특정 함수 가져오기"
   ]
  },
  {
   "cell_type": "code",
   "execution_count": 24,
   "id": "15b32604-234e-400a-9431-3fe2c056d631",
   "metadata": {},
   "outputs": [
    {
     "data": {
      "text/plain": [
       "3"
      ]
     },
     "execution_count": 24,
     "metadata": {},
     "output_type": "execute_result"
    }
   ],
   "source": [
    "my_max(2,3)"
   ]
  },
  {
   "cell_type": "code",
   "execution_count": 25,
   "id": "840ec248-e819-4bce-925d-c48c1eec9372",
   "metadata": {},
   "outputs": [
    {
     "data": {
      "text/plain": [
       "3"
      ]
     },
     "execution_count": 25,
     "metadata": {},
     "output_type": "execute_result"
    }
   ],
   "source": [
    "from myPackage.math import fomula\n",
    "fomula.my_max(2,3)  "
   ]
  },
  {
   "cell_type": "code",
   "execution_count": 26,
   "id": "31f1c62a-ada0-4423-b939-08a744d15306",
   "metadata": {},
   "outputs": [
    {
     "name": "stdout",
     "output_type": "stream",
     "text": [
      "3.14\n"
     ]
    }
   ],
   "source": [
    "from myPackage.math.fomula import * ##모든 항목 다 가져오기\n",
    "print(pi)"
   ]
  },
  {
   "cell_type": "code",
   "execution_count": 27,
   "id": "ace47833-44aa-4a34-9dc9-17cbb87d4c03",
   "metadata": {},
   "outputs": [
    {
     "name": "stdout",
     "output_type": "stream",
     "text": [
      "<module 'myPackage.math.fomula' from 'C:\\\\Users\\\\1-15\\\\Desktop\\\\DAMF2\\\\python\\\\myPackage\\\\math\\\\fomula.py'>\n",
      "1234\n"
     ]
    }
   ],
   "source": [
    "fomula = 1234\n",
    "from myPackage.math import fomula as f \n",
    "print(f)\n",
    "print(fomula)"
   ]
  },
  {
   "cell_type": "markdown",
   "id": "0faa947e-bf3f-4dd4-bb4e-c074e5612a36",
   "metadata": {},
   "source": [
    "## 파이썬 내장 패키지\n",
    "### math"
   ]
  },
  {
   "cell_type": "code",
   "execution_count": 28,
   "id": "d7c3339f-b809-4934-8799-915f7fe9a06d",
   "metadata": {},
   "outputs": [],
   "source": [
    "import math"
   ]
  },
  {
   "cell_type": "code",
   "execution_count": 29,
   "id": "3496b311-1c13-4fbf-8430-00f7145334a2",
   "metadata": {},
   "outputs": [
    {
     "data": {
      "text/plain": [
       "3.141592653589793"
      ]
     },
     "execution_count": 29,
     "metadata": {},
     "output_type": "execute_result"
    }
   ],
   "source": [
    "math.pi"
   ]
  },
  {
   "cell_type": "code",
   "execution_count": 30,
   "id": "54447b34-4784-45d3-94a5-68ce6ee47b18",
   "metadata": {},
   "outputs": [
    {
     "data": {
      "text/plain": [
       "2.718281828459045"
      ]
     },
     "execution_count": 30,
     "metadata": {},
     "output_type": "execute_result"
    }
   ],
   "source": [
    "math.e"
   ]
  },
  {
   "cell_type": "code",
   "execution_count": 34,
   "id": "a04a6ffb-5e7c-4458-95b8-beeb0abaa25c",
   "metadata": {},
   "outputs": [
    {
     "data": {
      "text/plain": [
       "3"
      ]
     },
     "execution_count": 34,
     "metadata": {},
     "output_type": "execute_result"
    }
   ],
   "source": [
    "math.ceil(math.e)  # 올림"
   ]
  },
  {
   "cell_type": "code",
   "execution_count": 33,
   "id": "785d0a18-a081-4cf7-a6c1-29b390334bd0",
   "metadata": {},
   "outputs": [
    {
     "data": {
      "text/plain": [
       "2"
      ]
     },
     "execution_count": 33,
     "metadata": {},
     "output_type": "execute_result"
    }
   ],
   "source": [
    "math.floor(math.e)  #내림"
   ]
  },
  {
   "cell_type": "code",
   "execution_count": 38,
   "id": "3582330c-4110-47df-8fa8-b856dc5150fc",
   "metadata": {},
   "outputs": [
    {
     "data": {
      "text/plain": [
       "3.0"
      ]
     },
     "execution_count": 38,
     "metadata": {},
     "output_type": "execute_result"
    }
   ],
   "source": [
    "math.sqrt(9) #루트"
   ]
  },
  {
   "cell_type": "code",
   "execution_count": 40,
   "id": "52d9ac6e-96a8-4d41-8d29-0f712ea1dd98",
   "metadata": {},
   "outputs": [
    {
     "data": {
      "text/plain": [
       "3628800"
      ]
     },
     "execution_count": 40,
     "metadata": {},
     "output_type": "execute_result"
    }
   ],
   "source": [
    "math.factorial(10)"
   ]
  },
  {
   "cell_type": "code",
   "execution_count": 41,
   "id": "0a7ad289-4816-4706-b355-577ddb67b496",
   "metadata": {},
   "outputs": [],
   "source": [
    "from math import sqrt, factorial"
   ]
  },
  {
   "cell_type": "code",
   "execution_count": 43,
   "id": "263edac2-3773-4e8d-bdee-432b808a2e16",
   "metadata": {},
   "outputs": [
    {
     "data": {
      "text/plain": [
       "4.0"
      ]
     },
     "execution_count": 43,
     "metadata": {},
     "output_type": "execute_result"
    }
   ],
   "source": [
    "sqrt(16)"
   ]
  },
  {
   "cell_type": "code",
   "execution_count": 44,
   "id": "1f8a91cf-73c0-43d0-9c3a-b72dc7787917",
   "metadata": {},
   "outputs": [
    {
     "data": {
      "text/plain": [
       "120"
      ]
     },
     "execution_count": 44,
     "metadata": {},
     "output_type": "execute_result"
    }
   ],
   "source": [
    "factorial(5)"
   ]
  },
  {
   "cell_type": "markdown",
   "id": "88bca6c2-c31e-42d2-a5c0-139c828bd360",
   "metadata": {},
   "source": [
    "### random"
   ]
  },
  {
   "cell_type": "code",
   "execution_count": 46,
   "id": "6aef5a55-089d-4a04-b559-0e641b59b43a",
   "metadata": {},
   "outputs": [],
   "source": [
    "import random"
   ]
  },
  {
   "cell_type": "code",
   "execution_count": 61,
   "id": "3bd7130b-42ff-4538-99c7-dc6a93886b33",
   "metadata": {},
   "outputs": [
    {
     "data": {
      "text/plain": [
       "0.15790960759286166"
      ]
     },
     "execution_count": 61,
     "metadata": {},
     "output_type": "execute_result"
    }
   ],
   "source": [
    "# random() : 0과 1 사이의 실수를 무작위 추출\n",
    "\n",
    "random.random()   #폴더(모듈)이름.함수이름"
   ]
  },
  {
   "cell_type": "code",
   "execution_count": 60,
   "id": "5772f54e-ce57-4228-a83d-71bc629de3bf",
   "metadata": {},
   "outputs": [
    {
     "data": {
      "text/plain": [
       "9"
      ]
     },
     "execution_count": 60,
     "metadata": {},
     "output_type": "execute_result"
    }
   ],
   "source": [
    "# randint() : 2개의 숫자 사이의 정수 추출\n",
    "\n",
    "random.randint(1,10)   #1부터 10 사이의 자연수를 생성"
   ]
  },
  {
   "cell_type": "code",
   "execution_count": 63,
   "id": "4d149315-c04d-4339-9ea6-f4378d677b1b",
   "metadata": {},
   "outputs": [
    {
     "data": {
      "text/plain": [
       "0.052363598850944326"
      ]
     },
     "execution_count": 63,
     "metadata": {},
     "output_type": "execute_result"
    }
   ],
   "source": [
    "random.seed(123)\n",
    "random.random()         # 항상 동일한 값을 도출"
   ]
  },
  {
   "cell_type": "code",
   "execution_count": 64,
   "id": "130ff27a-eead-459b-879b-069ba720a1a6",
   "metadata": {},
   "outputs": [],
   "source": [
    "numbers =[1,2,3,4,5]"
   ]
  },
  {
   "cell_type": "code",
   "execution_count": 72,
   "id": "14cb0da3-60f9-4222-82f3-4406343a3831",
   "metadata": {},
   "outputs": [
    {
     "name": "stdout",
     "output_type": "stream",
     "text": [
      "[2, 4, 1, 3, 5]\n"
     ]
    }
   ],
   "source": [
    "random.shuffle(numbers)  #리스트를 무작위로 섞어준다\n",
    "print(numbers)"
   ]
  },
  {
   "cell_type": "code",
   "execution_count": 79,
   "id": "aabcd640-6b20-44fb-96e0-69cd632f67cd",
   "metadata": {},
   "outputs": [
    {
     "data": {
      "text/plain": [
       "4"
      ]
     },
     "execution_count": 79,
     "metadata": {},
     "output_type": "execute_result"
    }
   ],
   "source": [
    "random.choice(numbers)  #복원추출"
   ]
  },
  {
   "cell_type": "code",
   "execution_count": 88,
   "id": "30ffd043-080c-4f8a-8809-00ca2186d45e",
   "metadata": {},
   "outputs": [
    {
     "data": {
      "text/plain": [
       "[5, 3]"
      ]
     },
     "execution_count": 88,
     "metadata": {},
     "output_type": "execute_result"
    }
   ],
   "source": [
    "random.sample(numbers, 2)  #비복원추출"
   ]
  },
  {
   "cell_type": "markdown",
   "id": "75051af5-cd20-407a-833c-479a7bbb2422",
   "metadata": {},
   "source": [
    "## datetime"
   ]
  },
  {
   "cell_type": "code",
   "execution_count": 90,
   "id": "0df0d4b4-5f78-48ef-85fc-2e7bfabd9e8d",
   "metadata": {},
   "outputs": [],
   "source": [
    "from datetime import datetime"
   ]
  },
  {
   "cell_type": "code",
   "execution_count": 91,
   "id": "b8a30b6d-0bb4-4daf-81ba-aa5e7c165caa",
   "metadata": {},
   "outputs": [
    {
     "data": {
      "text/plain": [
       "datetime.datetime(2025, 2, 18, 14, 39, 4, 745340)"
      ]
     },
     "execution_count": 91,
     "metadata": {},
     "output_type": "execute_result"
    }
   ],
   "source": [
    "datetime.now()"
   ]
  },
  {
   "cell_type": "code",
   "execution_count": 94,
   "id": "06d7d8ac-b83f-4d00-8989-ba303ee5e949",
   "metadata": {},
   "outputs": [
    {
     "data": {
      "text/plain": [
       "datetime.datetime(2025, 2, 18, 14, 40, 3, 467159)"
      ]
     },
     "execution_count": 94,
     "metadata": {},
     "output_type": "execute_result"
    }
   ],
   "source": [
    "datetime.today()"
   ]
  },
  {
   "cell_type": "code",
   "execution_count": 100,
   "id": "ff9b7069-70ee-48a3-9f5d-191ab9c7d83e",
   "metadata": {},
   "outputs": [
    {
     "name": "stderr",
     "output_type": "stream",
     "text": [
      "C:\\Users\\1-15\\AppData\\Local\\Temp\\ipykernel_6892\\3983769260.py:1: DeprecationWarning: datetime.datetime.utcnow() is deprecated and scheduled for removal in a future version. Use timezone-aware objects to represent datetimes in UTC: datetime.datetime.now(datetime.UTC).\n",
      "  datetime.utcnow()\n"
     ]
    },
    {
     "data": {
      "text/plain": [
       "datetime.datetime(2025, 2, 18, 5, 43, 46, 960395)"
      ]
     },
     "execution_count": 100,
     "metadata": {},
     "output_type": "execute_result"
    }
   ],
   "source": [
    "datetime.utcnow()"
   ]
  },
  {
   "cell_type": "code",
   "execution_count": 101,
   "id": "85f620bb-73dd-4bcf-815c-c422ef136696",
   "metadata": {},
   "outputs": [],
   "source": [
    "now = datetime.now()"
   ]
  },
  {
   "cell_type": "code",
   "execution_count": 103,
   "id": "697c3f98-6d39-4267-b32d-2f2d23099b44",
   "metadata": {},
   "outputs": [
    {
     "data": {
      "text/plain": [
       "datetime.datetime(2025, 2, 18, 14, 44, 15, 86212)"
      ]
     },
     "execution_count": 103,
     "metadata": {},
     "output_type": "execute_result"
    }
   ],
   "source": [
    "now"
   ]
  },
  {
   "cell_type": "code",
   "execution_count": 104,
   "id": "974529cd-bf51-48e2-8d71-e7c3c4d30960",
   "metadata": {},
   "outputs": [
    {
     "data": {
      "text/plain": [
       "2025"
      ]
     },
     "execution_count": 104,
     "metadata": {},
     "output_type": "execute_result"
    }
   ],
   "source": [
    "now.year"
   ]
  },
  {
   "cell_type": "code",
   "execution_count": 105,
   "id": "0989f938-0901-4afa-9f3c-237bc4e59665",
   "metadata": {},
   "outputs": [
    {
     "data": {
      "text/plain": [
       "2"
      ]
     },
     "execution_count": 105,
     "metadata": {},
     "output_type": "execute_result"
    }
   ],
   "source": [
    "now.month"
   ]
  },
  {
   "cell_type": "code",
   "execution_count": 107,
   "id": "591917b8-61a2-47ee-87a4-08971fcb8244",
   "metadata": {},
   "outputs": [
    {
     "data": {
      "text/plain": [
       "18"
      ]
     },
     "execution_count": 107,
     "metadata": {},
     "output_type": "execute_result"
    }
   ],
   "source": [
    "now.day"
   ]
  },
  {
   "cell_type": "code",
   "execution_count": 109,
   "id": "c108c3b9-c40d-4328-b039-6d666bb13913",
   "metadata": {},
   "outputs": [
    {
     "data": {
      "text/plain": [
       "1"
      ]
     },
     "execution_count": 109,
     "metadata": {},
     "output_type": "execute_result"
    }
   ],
   "source": [
    "now.weekday()  #월요일이 0"
   ]
  },
  {
   "cell_type": "code",
   "execution_count": 110,
   "id": "db2a7408-a1ac-4c08-b90c-0d93fa8b3536",
   "metadata": {},
   "outputs": [
    {
     "name": "stdout",
     "output_type": "stream",
     "text": [
      "2025-02-18 14:44:15.086212\n"
     ]
    }
   ],
   "source": [
    "print(now)"
   ]
  },
  {
   "cell_type": "code",
   "execution_count": 113,
   "id": "b448a1fa-8fb6-4fd2-bbd8-724d933d7bd5",
   "metadata": {},
   "outputs": [
    {
     "data": {
      "text/plain": [
       "'2025년 02월 18일'"
      ]
     },
     "execution_count": 113,
     "metadata": {},
     "output_type": "execute_result"
    }
   ],
   "source": [
    "now.strftime('%Y년 %m월 %d일')"
   ]
  },
  {
   "cell_type": "code",
   "execution_count": 118,
   "id": "0e0729fe-8ee8-42de-9872-e0de5e7ef7f4",
   "metadata": {},
   "outputs": [
    {
     "name": "stdout",
     "output_type": "stream",
     "text": [
      "2025-12-25 00:00:00\n"
     ]
    }
   ],
   "source": [
    "x_mas = datetime(2025,12,25)\n",
    "print(x_mas)"
   ]
  },
  {
   "cell_type": "code",
   "execution_count": 119,
   "id": "4f392faf-3378-422f-bb76-a071c1bc7e41",
   "metadata": {},
   "outputs": [],
   "source": [
    "from datetime import timedelta"
   ]
  },
  {
   "cell_type": "code",
   "execution_count": 120,
   "id": "e106fbf9-0e6d-47e5-9a6b-1be4a48faa49",
   "metadata": {},
   "outputs": [
    {
     "name": "stdout",
     "output_type": "stream",
     "text": [
      "2025-12-28 00:00:00\n"
     ]
    }
   ],
   "source": [
    "future = timedelta(days = 3)\n",
    "print(x_mas + future)"
   ]
  },
  {
   "cell_type": "code",
   "execution_count": 121,
   "id": "7c55e0df-0fc5-462a-be1e-d25e09068c3e",
   "metadata": {},
   "outputs": [
    {
     "data": {
      "text/plain": [
       "datetime.timedelta(days=309, seconds=33344, microseconds=913788)"
      ]
     },
     "execution_count": 121,
     "metadata": {},
     "output_type": "execute_result"
    }
   ],
   "source": [
    "x_mas - now"
   ]
  },
  {
   "cell_type": "code",
   "execution_count": null,
   "id": "ea89360b-e36d-4da7-8a10-458fb84b2242",
   "metadata": {},
   "outputs": [],
   "source": []
  },
  {
   "cell_type": "code",
   "execution_count": null,
   "id": "7855c13b-0447-4b47-8f2d-8da70c7a44c2",
   "metadata": {},
   "outputs": [],
   "source": []
  },
  {
   "cell_type": "code",
   "execution_count": null,
   "id": "35d02d57-2299-449f-83ae-dce1ec44e168",
   "metadata": {},
   "outputs": [],
   "source": []
  },
  {
   "cell_type": "code",
   "execution_count": null,
   "id": "bf5494fc-b5cb-4c36-a791-d0953a1431cf",
   "metadata": {},
   "outputs": [],
   "source": []
  },
  {
   "cell_type": "code",
   "execution_count": null,
   "id": "2f239367-b5da-4c35-80d1-8b9a2ee2ac62",
   "metadata": {},
   "outputs": [],
   "source": []
  },
  {
   "cell_type": "code",
   "execution_count": null,
   "id": "2042bee0-d90a-409b-bc49-407340934ced",
   "metadata": {},
   "outputs": [],
   "source": []
  },
  {
   "cell_type": "code",
   "execution_count": null,
   "id": "3b6e131c-2dcb-45b1-a403-c3ba49555971",
   "metadata": {},
   "outputs": [],
   "source": []
  },
  {
   "cell_type": "code",
   "execution_count": null,
   "id": "95a1b22f-14c5-4c82-9309-3526b45b69c7",
   "metadata": {},
   "outputs": [],
   "source": []
  }
 ],
 "metadata": {
  "kernelspec": {
   "display_name": "Python 3 (ipykernel)",
   "language": "python",
   "name": "python3"
  },
  "language_info": {
   "codemirror_mode": {
    "name": "ipython",
    "version": 3
   },
   "file_extension": ".py",
   "mimetype": "text/x-python",
   "name": "python",
   "nbconvert_exporter": "python",
   "pygments_lexer": "ipython3",
   "version": "3.13.2"
  }
 },
 "nbformat": 4,
 "nbformat_minor": 5
}
