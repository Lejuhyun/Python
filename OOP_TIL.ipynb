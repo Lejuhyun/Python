{
 "cells": [
  {
   "cell_type": "markdown",
   "id": "b44b6355-c8ad-4456-8c45-931284a1ce0c",
   "metadata": {},
   "source": [
    "# 클래스변수, 인스턴스 변수\n",
    "1. 클래스변수: 클래스를 선언하면서 같이 선언하는 변수\n",
    "2. 인스턴스 변수: 인스턴스 내부에서 생성한 변수\n",
    "\n",
    "# 클래스 함수, 인스턴스 함수, 스태틱 함수\n",
    "1. 클래스함수\n",
    "- @classmethod\n",
    "- def Class_Method(cls):\n",
    "- cls.변수이름으로 접근\n",
    "- 클래스 함수에서는 클래스 변수에만 접근 가능하다\n",
    "  \n",
    "2. 인스턴스 함수\n",
    "- 인스턴스 변수는 self.변수이름으로 접근\n",
    "- 클래스 변수는 class이름.변수이름으로 둘 다 접근가능하다\n",
    "  \n",
    "3. 스태틱 함수\n",
    "- @staticmethod\n",
    "- def Static_Method(): #아무것도 참조하지 않음\n",
    "- 인스턴스나 클래스 변수를 둘 다 사용하지 않는다\n",
    "- 객체를 생성하지 않고도 불러올 수 있다"
   ]
  },
  {
   "cell_type": "markdown",
   "id": "79e1890e-1178-4004-a344-6c6226877dae",
   "metadata": {},
   "source": [
    "# 생성자와 소멸자\n",
    "- def __init__(self,name): 생성자\n",
    "      - self.name= name\n",
    "- def __del__(self): 소멸자\n",
    "- => del p1으로 사용"
   ]
  }
 ],
 "metadata": {
  "kernelspec": {
   "display_name": "Python 3 (ipykernel)",
   "language": "python",
   "name": "python3"
  },
  "language_info": {
   "codemirror_mode": {
    "name": "ipython",
    "version": 3
   },
   "file_extension": ".py",
   "mimetype": "text/x-python",
   "name": "python",
   "nbconvert_exporter": "python",
   "pygments_lexer": "ipython3",
   "version": "3.13.2"
  }
 },
 "nbformat": 4,
 "nbformat_minor": 5
}
