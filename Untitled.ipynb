{
 "cells": [
  {
   "cell_type": "code",
   "execution_count": 4,
   "id": "afabcaf5-c956-4063-9314-2f833a061d80",
   "metadata": {},
   "outputs": [
    {
     "name": "stdout",
     "output_type": "stream",
     "text": [
      "홍길동은 19살입니다\n",
      "4.75\n",
      "130321\n",
      "3\n",
      "4\n",
      "23\n",
      "15\n"
     ]
    }
   ],
   "source": [
    "age = 19\n",
    "print(f'홍길동은 {age}살입니다')\n",
    "\n",
    "a= 19\n",
    "b= 4\n",
    "print(a / b)\n",
    "print(a **b)\n",
    "print(a%b)\n",
    "print(a//b)\n",
    "print( a+b)\n",
    "print(a-b)"
   ]
  },
  {
   "cell_type": "code",
   "execution_count": 6,
   "id": "690597ff-c9a4-437a-8575-e2215c062cd3",
   "metadata": {},
   "outputs": [
    {
     "name": "stdout",
     "output_type": "stream",
     "text": [
      "hihello\n"
     ]
    }
   ],
   "source": [
    "a = 'hi'\n",
    "b = 'hello'\n",
    "print(a + b)"
   ]
  },
  {
   "cell_type": "code",
   "execution_count": 8,
   "id": "b20c6b7c-7d30-4683-873f-09db5057398a",
   "metadata": {},
   "outputs": [
    {
     "name": "stdout",
     "output_type": "stream",
     "text": [
      "3학년입니다\n"
     ]
    }
   ],
   "source": [
    "a = 3\n",
    "b = '학년입니다'\n",
    "print(str(a)+b)"
   ]
  },
  {
   "cell_type": "code",
   "execution_count": 10,
   "id": "7ba944cd-9be8-462b-8b5e-7fa294f99c00",
   "metadata": {},
   "outputs": [
    {
     "data": {
      "text/plain": [
       "8"
      ]
     },
     "execution_count": 10,
     "metadata": {},
     "output_type": "execute_result"
    }
   ],
   "source": [
    "a = 3\n",
    "b = 5\n",
    "a += b\n",
    "a"
   ]
  },
  {
   "cell_type": "code",
   "execution_count": 12,
   "id": "6a2225cc-7e00-410a-bada-c6b4e02c0635",
   "metadata": {},
   "outputs": [
    {
     "data": {
      "text/plain": [
       "2"
      ]
     },
     "execution_count": 12,
     "metadata": {},
     "output_type": "execute_result"
    }
   ],
   "source": [
    "a=12\n",
    "b= 5\n",
    "a //= b\n",
    "a"
   ]
  },
  {
   "cell_type": "code",
   "execution_count": 13,
   "id": "31bf162f-99cd-4946-9b98-1f0ade2bd42f",
   "metadata": {},
   "outputs": [
    {
     "name": "stdout",
     "output_type": "stream",
     "text": [
      "0\n"
     ]
    }
   ],
   "source": [
    "print(3 and 0)"
   ]
  },
  {
   "cell_type": "code",
   "execution_count": 14,
   "id": "229c9628-c190-42c5-b9f4-7faada18f57a",
   "metadata": {},
   "outputs": [
    {
     "name": "stdout",
     "output_type": "stream",
     "text": [
      "0\n"
     ]
    }
   ],
   "source": [
    "print(0 and 3)"
   ]
  },
  {
   "cell_type": "code",
   "execution_count": 16,
   "id": "9f0d6cfd-7813-43b3-8588-72cb6e28552e",
   "metadata": {},
   "outputs": [
    {
     "name": "stdout",
     "output_type": "stream",
     "text": [
      "3\n"
     ]
    }
   ],
   "source": [
    "print(3 and 3)"
   ]
  },
  {
   "cell_type": "code",
   "execution_count": 18,
   "id": "089e9721-e3d3-4310-b2dc-201e67a479e2",
   "metadata": {},
   "outputs": [
    {
     "name": "stdout",
     "output_type": "stream",
     "text": [
      "0\n"
     ]
    }
   ],
   "source": [
    "print(0 and 0)"
   ]
  },
  {
   "cell_type": "code",
   "execution_count": 19,
   "id": "d01e38ec-a859-48d4-adb6-bbe98c7dd75e",
   "metadata": {},
   "outputs": [
    {
     "name": "stdout",
     "output_type": "stream",
     "text": [
      "hi1\n"
     ]
    }
   ],
   "source": [
    "a= 'hi'\n",
    "b = 1\n",
    "print(a+str(b))"
   ]
  },
  {
   "cell_type": "code",
   "execution_count": 21,
   "id": "dcffcdf7-ba13-4e2e-88c9-9d7f34f0051e",
   "metadata": {},
   "outputs": [
    {
     "name": "stdout",
     "output_type": "stream",
     "text": [
      "(25, 2)\n"
     ]
    }
   ],
   "source": [
    "print(divmod(77,3))"
   ]
  },
  {
   "cell_type": "code",
   "execution_count": 23,
   "id": "7eab0d6f-ab6e-4a3b-9605-c651f48d5713",
   "metadata": {},
   "outputs": [
    {
     "name": "stdout",
     "output_type": "stream",
     "text": [
      "25\n",
      "2\n"
     ]
    }
   ],
   "source": [
    "a=77\n",
    "b=3\n",
    "print(a//b)\n",
    "print(a%b)"
   ]
  },
  {
   "cell_type": "code",
   "execution_count": 1,
   "id": "a1ffc27f-cd7a-41e2-840f-80b0084bea0b",
   "metadata": {},
   "outputs": [
    {
     "name": "stdout",
     "output_type": "stream",
     "text": [
      "127\n"
     ]
    }
   ],
   "source": [
    "a= 7\n",
    "b= -120\n",
    "print(a-b)"
   ]
  },
  {
   "cell_type": "code",
   "execution_count": 4,
   "id": "4975299c-f86b-45cd-b172-a78897dcb642",
   "metadata": {},
   "outputs": [
    {
     "name": "stdout",
     "output_type": "stream",
     "text": [
      "2\n",
      "<class 'int'>\n"
     ]
    }
   ],
   "source": [
    "a = 1\n",
    "print(a+1)\n",
    "print(type(a))"
   ]
  },
  {
   "cell_type": "code",
   "execution_count": 5,
   "id": "d72e4613-a585-4584-98d9-67c325951f14",
   "metadata": {},
   "outputs": [
    {
     "name": "stdout",
     "output_type": "stream",
     "text": [
      "True\n"
     ]
    }
   ],
   "source": [
    "a = 1\n",
    "b = 1\n",
    "print(a == b)"
   ]
  },
  {
   "cell_type": "code",
   "execution_count": 6,
   "id": "5e5e3382-28d4-4241-9970-ea12b2912b6d",
   "metadata": {},
   "outputs": [
    {
     "name": "stdout",
     "output_type": "stream",
     "text": [
      "<class 'int'>\n"
     ]
    }
   ],
   "source": [
    "hi = 3\n",
    "print(type(hi))"
   ]
  },
  {
   "cell_type": "code",
   "execution_count": 7,
   "id": "20236f59-1b8b-4914-adab-994d16235453",
   "metadata": {},
   "outputs": [
    {
     "name": "stdout",
     "output_type": "stream",
     "text": [
      "<class 'str'>\n"
     ]
    }
   ],
   "source": [
    "print(type('hi'))"
   ]
  }
 ],
 "metadata": {
  "kernelspec": {
   "display_name": "Python 3 (ipykernel)",
   "language": "python",
   "name": "python3"
  },
  "language_info": {
   "codemirror_mode": {
    "name": "ipython",
    "version": 3
   },
   "file_extension": ".py",
   "mimetype": "text/x-python",
   "name": "python",
   "nbconvert_exporter": "python",
   "pygments_lexer": "ipython3",
   "version": "3.13.2"
  }
 },
 "nbformat": 4,
 "nbformat_minor": 5
}
