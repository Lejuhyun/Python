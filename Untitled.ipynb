{
 "cells": [
  {
   "cell_type": "code",
   "execution_count": 4,
   "id": "afabcaf5-c956-4063-9314-2f833a061d80",
   "metadata": {},
   "outputs": [
    {
     "name": "stdout",
     "output_type": "stream",
     "text": [
      "홍길동은 19살입니다\n",
      "4.75\n",
      "130321\n",
      "3\n",
      "4\n",
      "23\n",
      "15\n"
     ]
    }
   ],
   "source": [
    "age = 19\n",
    "print(f'홍길동은 {age}살입니다')\n",
    "\n",
    "a= 19\n",
    "b= 4\n",
    "print(a / b)\n",
    "print(a **b)\n",
    "print(a%b)\n",
    "print(a//b)\n",
    "print( a+b)\n",
    "print(a-b)"
   ]
  },
  {
   "cell_type": "code",
   "execution_count": 6,
   "id": "690597ff-c9a4-437a-8575-e2215c062cd3",
   "metadata": {},
   "outputs": [
    {
     "name": "stdout",
     "output_type": "stream",
     "text": [
      "hihello\n"
     ]
    }
   ],
   "source": [
    "a = 'hi'\n",
    "b = 'hello'\n",
    "print(a + b)"
   ]
  },
  {
   "cell_type": "code",
   "execution_count": 8,
   "id": "b20c6b7c-7d30-4683-873f-09db5057398a",
   "metadata": {},
   "outputs": [
    {
     "name": "stdout",
     "output_type": "stream",
     "text": [
      "3학년입니다\n"
     ]
    }
   ],
   "source": [
    "a = 3\n",
    "b = '학년입니다'\n",
    "print(str(a)+b)"
   ]
  },
  {
   "cell_type": "code",
   "execution_count": 10,
   "id": "7ba944cd-9be8-462b-8b5e-7fa294f99c00",
   "metadata": {},
   "outputs": [
    {
     "data": {
      "text/plain": [
       "8"
      ]
     },
     "execution_count": 10,
     "metadata": {},
     "output_type": "execute_result"
    }
   ],
   "source": [
    "a = 3\n",
    "b = 5\n",
    "a += b\n",
    "a"
   ]
  },
  {
   "cell_type": "code",
   "execution_count": 12,
   "id": "6a2225cc-7e00-410a-bada-c6b4e02c0635",
   "metadata": {},
   "outputs": [
    {
     "data": {
      "text/plain": [
       "2"
      ]
     },
     "execution_count": 12,
     "metadata": {},
     "output_type": "execute_result"
    }
   ],
   "source": [
    "a=12\n",
    "b= 5\n",
    "a //= b\n",
    "a"
   ]
  },
  {
   "cell_type": "code",
   "execution_count": 13,
   "id": "31bf162f-99cd-4946-9b98-1f0ade2bd42f",
   "metadata": {},
   "outputs": [
    {
     "name": "stdout",
     "output_type": "stream",
     "text": [
      "0\n"
     ]
    }
   ],
   "source": [
    "print(3 and 0)"
   ]
  },
  {
   "cell_type": "code",
   "execution_count": 14,
   "id": "229c9628-c190-42c5-b9f4-7faada18f57a",
   "metadata": {},
   "outputs": [
    {
     "name": "stdout",
     "output_type": "stream",
     "text": [
      "0\n"
     ]
    }
   ],
   "source": [
    "print(0 and 3)"
   ]
  },
  {
   "cell_type": "code",
   "execution_count": 16,
   "id": "9f0d6cfd-7813-43b3-8588-72cb6e28552e",
   "metadata": {},
   "outputs": [
    {
     "name": "stdout",
     "output_type": "stream",
     "text": [
      "3\n"
     ]
    }
   ],
   "source": [
    "print(3 and 3)"
   ]
  },
  {
   "cell_type": "code",
   "execution_count": 18,
   "id": "089e9721-e3d3-4310-b2dc-201e67a479e2",
   "metadata": {},
   "outputs": [
    {
     "name": "stdout",
     "output_type": "stream",
     "text": [
      "0\n"
     ]
    }
   ],
   "source": [
    "print(0 and 0)"
   ]
  },
  {
   "cell_type": "code",
   "execution_count": 19,
   "id": "d01e38ec-a859-48d4-adb6-bbe98c7dd75e",
   "metadata": {},
   "outputs": [
    {
     "name": "stdout",
     "output_type": "stream",
     "text": [
      "hi1\n"
     ]
    }
   ],
   "source": [
    "a= 'hi'\n",
    "b = 1\n",
    "print(a+str(b))"
   ]
  },
  {
   "cell_type": "code",
   "execution_count": 21,
   "id": "dcffcdf7-ba13-4e2e-88c9-9d7f34f0051e",
   "metadata": {},
   "outputs": [
    {
     "name": "stdout",
     "output_type": "stream",
     "text": [
      "(25, 2)\n"
     ]
    }
   ],
   "source": [
    "print(divmod(77,3))"
   ]
  },
  {
   "cell_type": "code",
   "execution_count": 23,
   "id": "7eab0d6f-ab6e-4a3b-9605-c651f48d5713",
   "metadata": {},
   "outputs": [
    {
     "name": "stdout",
     "output_type": "stream",
     "text": [
      "25\n",
      "2\n"
     ]
    }
   ],
   "source": [
    "a=77\n",
    "b=3\n",
    "print(a//b)\n",
    "print(a%b)"
   ]
  },
  {
   "cell_type": "code",
   "execution_count": 1,
   "id": "a1ffc27f-cd7a-41e2-840f-80b0084bea0b",
   "metadata": {},
   "outputs": [
    {
     "name": "stdout",
     "output_type": "stream",
     "text": [
      "127\n"
     ]
    }
   ],
   "source": [
    "a= 7\n",
    "b= -120\n",
    "print(a-b)"
   ]
  },
  {
   "cell_type": "code",
   "execution_count": 4,
   "id": "4975299c-f86b-45cd-b172-a78897dcb642",
   "metadata": {},
   "outputs": [
    {
     "name": "stdout",
     "output_type": "stream",
     "text": [
      "2\n",
      "<class 'int'>\n"
     ]
    }
   ],
   "source": [
    "a = 1\n",
    "print(a+1)\n",
    "print(type(a))"
   ]
  },
  {
   "cell_type": "code",
   "execution_count": 5,
   "id": "d72e4613-a585-4584-98d9-67c325951f14",
   "metadata": {},
   "outputs": [
    {
     "name": "stdout",
     "output_type": "stream",
     "text": [
      "True\n"
     ]
    }
   ],
   "source": [
    "a = 1\n",
    "b = 1\n",
    "print(a == b)"
   ]
  },
  {
   "cell_type": "code",
   "execution_count": 6,
   "id": "5e5e3382-28d4-4241-9970-ea12b2912b6d",
   "metadata": {},
   "outputs": [
    {
     "name": "stdout",
     "output_type": "stream",
     "text": [
      "<class 'int'>\n"
     ]
    }
   ],
   "source": [
    "hi = 3\n",
    "print(type(hi))"
   ]
  },
  {
   "cell_type": "code",
   "execution_count": 7,
   "id": "20236f59-1b8b-4914-adab-994d16235453",
   "metadata": {},
   "outputs": [
    {
     "name": "stdout",
     "output_type": "stream",
     "text": [
      "<class 'str'>\n"
     ]
    }
   ],
   "source": [
    "print(type('hi'))"
   ]
  },
  {
   "cell_type": "code",
   "execution_count": 13,
   "id": "c17961f9-4171-4f1b-81eb-27cd7f56e5ed",
   "metadata": {},
   "outputs": [],
   "source": [
    "class Phone:\n",
    "    # 📌 클래스 변수 (모든 객체가 공유하는 전화번호부)\n",
    "    phone_book = {}\n",
    "\n",
    "    def __init__(self, name, number, power):\n",
    "        self.name = name\n",
    "        self.number = number\n",
    "        self.power = power\n",
    "        # 객체 생성 시 자동으로 phone_book에 추가\n",
    "        Phone.phone_book[self.name] = self.number\n",
    "\n",
    "    def call(self, opponent):\n",
    "        if opponent.power:\n",
    "            print(f'{self.name}이 {opponent.name}에게 전화 거는 중...')\n",
    "        else:\n",
    "            print(f'{opponent.name}의 전화기가 꺼져 있습니다.')\n",
    "\n",
    "    # 📌 현재 전화번호부 출력\n",
    "    @classmethod\n",
    "    def show_phone_book(cls):\n",
    "        return cls.phone_book #cls는 클래스 자체를 가리키는 변수임 self처럼\n"
   ]
  },
  {
   "cell_type": "code",
   "execution_count": 14,
   "id": "1c68498f-5805-4673-b9b4-d85bd597f340",
   "metadata": {},
   "outputs": [
    {
     "name": "stdout",
     "output_type": "stream",
     "text": [
      "지원의 전화기가 꺼져있습니다.\n"
     ]
    }
   ],
   "source": [
    "phone1.phone_book()\n",
    "phone1.call(phone3)"
   ]
  },
  {
   "cell_type": "code",
   "execution_count": 15,
   "id": "e46c9b9b-09b6-49c1-9755-c21e8aec2d3f",
   "metadata": {},
   "outputs": [],
   "source": [
    "class Car:\n",
    "    registered_cars = []\n",
    "    def __init__(self, brand, model):\n",
    "        self.brand = brand\n",
    "        self.model = model\n",
    "    def register_car(self):\n",
    "        cls.registered_cars.append(f'{self.brand} {self.model}')\n",
    "    def show_registered_cars(cls):\n",
    "        return cls.registered_cars\n",
    "    def remove_car(cls, brand, model):\n",
    "        cls.registered_cars.remove(f'{self.brand} {self.model}')\n",
    "        return cls.registered_cars\n",
    "\n",
    "car1 = Car(\"Tesla\", \"Model S\")\n",
    "car2 = Car(\"Hyundai\", \"Sonata\")\n",
    "car3 = Car(\"BMW\", \"X5\")\n",
    "    "
   ]
  },
  {
   "cell_type": "code",
   "execution_count": null,
   "id": "64089e0d-69a6-46ec-b141-8c3c07ecd303",
   "metadata": {},
   "outputs": [],
   "source": []
  },
  {
   "cell_type": "code",
   "execution_count": 16,
   "id": "2ead850f-af45-48eb-9273-baa2d2f59678",
   "metadata": {},
   "outputs": [
    {
     "ename": "NameError",
     "evalue": "name 'cls' is not defined",
     "output_type": "error",
     "traceback": [
      "\u001b[1;31m---------------------------------------------------------------------------\u001b[0m",
      "\u001b[1;31mNameError\u001b[0m                                 Traceback (most recent call last)",
      "Cell \u001b[1;32mIn[16], line 1\u001b[0m\n\u001b[1;32m----> 1\u001b[0m \u001b[43mcar1\u001b[49m\u001b[38;5;241;43m.\u001b[39;49m\u001b[43mregister_car\u001b[49m\u001b[43m(\u001b[49m\u001b[43m)\u001b[49m\n",
      "Cell \u001b[1;32mIn[15], line 7\u001b[0m, in \u001b[0;36mCar.register_car\u001b[1;34m(self)\u001b[0m\n\u001b[0;32m      6\u001b[0m \u001b[38;5;28;01mdef\u001b[39;00m\u001b[38;5;250m \u001b[39m\u001b[38;5;21mregister_car\u001b[39m(\u001b[38;5;28mself\u001b[39m):\n\u001b[1;32m----> 7\u001b[0m     \u001b[38;5;28;43mcls\u001b[39;49m\u001b[38;5;241m.\u001b[39mregistered_cars\u001b[38;5;241m.\u001b[39mappend(\u001b[38;5;124mf\u001b[39m\u001b[38;5;124m'\u001b[39m\u001b[38;5;132;01m{\u001b[39;00m\u001b[38;5;28mself\u001b[39m\u001b[38;5;241m.\u001b[39mbrand\u001b[38;5;132;01m}\u001b[39;00m\u001b[38;5;124m \u001b[39m\u001b[38;5;132;01m{\u001b[39;00m\u001b[38;5;28mself\u001b[39m\u001b[38;5;241m.\u001b[39mmodel\u001b[38;5;132;01m}\u001b[39;00m\u001b[38;5;124m'\u001b[39m)\n",
      "\u001b[1;31mNameError\u001b[0m: name 'cls' is not defined"
     ]
    }
   ],
   "source": [
    "car1.register_car()"
   ]
  },
  {
   "cell_type": "code",
   "execution_count": 19,
   "id": "c0b09381-925a-49b4-a513-71736b5f7ec3",
   "metadata": {},
   "outputs": [],
   "source": [
    "class MyClass():\n",
    "    name = 'kim'\n",
    "\n",
    "    def hello(self):\n",
    "        return 'ji'"
   ]
  },
  {
   "cell_type": "code",
   "execution_count": 20,
   "id": "0841ced6-2ae1-4b4a-8419-2bc9006e85ac",
   "metadata": {},
   "outputs": [],
   "source": [
    "mc1 = MyClass()"
   ]
  },
  {
   "cell_type": "code",
   "execution_count": 22,
   "id": "9d11c276-8313-475a-b52a-215208958a21",
   "metadata": {},
   "outputs": [
    {
     "data": {
      "text/plain": [
       "'ji'"
      ]
     },
     "execution_count": 22,
     "metadata": {},
     "output_type": "execute_result"
    }
   ],
   "source": [
    "mc1.hello()"
   ]
  },
  {
   "cell_type": "code",
   "execution_count": 23,
   "id": "93367d12-7f28-4ddc-9e95-760485b2f879",
   "metadata": {},
   "outputs": [
    {
     "name": "stdout",
     "output_type": "stream",
     "text": [
      "lee\n",
      "ji\n"
     ]
    }
   ],
   "source": [
    "m2 = MyClass()\n",
    "m2.name = 'lee'\n",
    "print(m2.name)\n",
    "print(m2.hello())"
   ]
  },
  {
   "cell_type": "code",
   "execution_count": null,
   "id": "7dd45ddf-610a-4b59-8aa2-ff8736cc1b29",
   "metadata": {},
   "outputs": [],
   "source": [
    "# on ,off, call 기능 수행하기 "
   ]
  },
  {
   "cell_type": "code",
   "execution_count": 25,
   "id": "ea417892-b873-4ca5-9444-6497e7a41c87",
   "metadata": {},
   "outputs": [],
   "source": [
    "class Phone():\n",
    "    power = False\n",
    "    number = '010-0000-00000'\n",
    "    book = {}\n",
    "    model = ''\n",
    "\n",
    "    def on(self):\n",
    "        if Phone.power == False:\n",
    "            Phone.power = True\n",
    "    def off(self):\n",
    "        if Phone.power == True:\n",
    "            Phone.power = False\n",
    "    def call(self, target):\n",
    "        if Phone.power == True:\n",
    "            print(f'{self.number}가 {target.number}에게 전화거는 중')\n",
    "        else:\n",
    "            print(f'전화기가 꺼져있습니다')"
   ]
  },
  {
   "cell_type": "code",
   "execution_count": null,
   "id": "5e027559-5cc9-4f0a-8ccd-5754d6d8c4b5",
   "metadata": {},
   "outputs": [],
   "source": [
    "#Person 클래스 생성\n",
    "# 생성자 __init___ 이용해서 이름생성\n",
    "# 소멸자 __del__이용해서 소멸"
   ]
  },
  {
   "cell_type": "code",
   "execution_count": 32,
   "id": "55b04a79-f491-454a-8347-2660658d8851",
   "metadata": {},
   "outputs": [],
   "source": [
    "class Person():\n",
    "    def __init__(self,name):\n",
    "        self.name = name\n",
    "        print(f'{self.name}이 생성되었습니다')\n",
    "\n",
    "    def __del__(self):\n",
    "        print(f'소멸되었습니다')"
   ]
  },
  {
   "cell_type": "code",
   "execution_count": 33,
   "id": "91c6ab86-8062-4e04-b01b-415312ddea08",
   "metadata": {},
   "outputs": [
    {
     "name": "stdout",
     "output_type": "stream",
     "text": [
      "주현이 생성되었습니다\n"
     ]
    }
   ],
   "source": [
    "p1 = Person('주현')"
   ]
  },
  {
   "cell_type": "code",
   "execution_count": 34,
   "id": "c0717fd8-a215-4e1f-a87b-c0abc6fde23b",
   "metadata": {},
   "outputs": [
    {
     "name": "stdout",
     "output_type": "stream",
     "text": [
      "소멸되었습니다\n"
     ]
    }
   ],
   "source": [
    "del p1"
   ]
  },
  {
   "cell_type": "code",
   "execution_count": null,
   "id": "f35029bf-f39e-4db3-93bf-c5ce3d8ac908",
   "metadata": {},
   "outputs": [],
   "source": [
    "# circle 클래스 \n",
    "# r, x, y 변수(없으면 기본 0)\n",
    "# info 함수 => 반지름과 중심점 뽑는 함수\n",
    "# area 함수 => 원의 넓이 계산\n",
    "# round 함수 => 원의 둘레 계산\n",
    "# move 함수 => x와 y의 위치를 이동시킨다"
   ]
  },
  {
   "cell_type": "code",
   "execution_count": 38,
   "id": "1e24a26d-5ab3-41ae-ae24-f7429b07befb",
   "metadata": {},
   "outputs": [],
   "source": [
    "class Circle():\n",
    "    def __init__(self, r, x=0, y=0):\n",
    "        self.r = r\n",
    "        self.x = x\n",
    "        self.y = y\n",
    "        self.pi = 3.14\n",
    "    def info(self):\n",
    "        print(f'원의 반지름은 {self.r}이고 중심점은 ({self.x},{self.y})입니다')\n",
    "    def area(self):\n",
    "        return self.r**2 *self.pi\n",
    "    def round(self):\n",
    "        return self.r *2 *self.pi\n",
    "    def move(self, x, y):\n",
    "        self.x = x\n",
    "        self.y = y\n",
    "        print(f'원의 중심이 ({self.x},{self.y})로 이동됐습니다')"
   ]
  },
  {
   "cell_type": "code",
   "execution_count": 43,
   "id": "f7f0c176-a8bc-40f2-9126-97c4f44d1fd5",
   "metadata": {},
   "outputs": [
    {
     "name": "stdout",
     "output_type": "stream",
     "text": [
      "원의 반지름은 5이고 중심점은 (1,2)입니다\n",
      "None\n",
      "78.5\n",
      "원의 중심이 (100,100)로 이동됐습니다\n"
     ]
    }
   ],
   "source": [
    "c1 = Circle(3, 3, 5)\n",
    "c2 = Circle(5, 1, 2)\n",
    "print(c2.info())\n",
    "print(c2.area())\n",
    "c2.round()\n",
    "c1.move(100,100)"
   ]
  },
  {
   "cell_type": "code",
   "execution_count": null,
   "id": "aa04c9a0-78c0-461c-9b33-17863987c241",
   "metadata": {},
   "outputs": [],
   "source": [
    "# 강아지 클래스\n",
    "# num_of_puppy : 클래스 변수\n",
    "# name, num_of_puppy: 인스턴스변수 (numofpuppy에 하나 추가해주기)\n",
    "# info 함수는 classmethod => 강아지는 num마리입니다 출력\n",
    "# bark 함수는 self =. 멍멍! name 입니다\n",
    "# bark2 함수는 staticmethod => 왈왈"
   ]
  },
  {
   "cell_type": "code",
   "execution_count": 44,
   "id": "a8139b81-f82b-48ae-a474-9eee4a15bbc7",
   "metadata": {},
   "outputs": [],
   "source": [
    "class Puppy():\n",
    "    num_of_puppy = 0\n",
    "    def __init__(self, name):\n",
    "        self.name= name\n",
    "        Puppy.num_of_puppy += 1\n",
    "    @classmethod\n",
    "    def info(cls):\n",
    "        print(f'강아지는 {cls.num_of_puppy}마리입니다')\n",
    "    def bark(self):\n",
    "        print(f'멍멍! {self.name}입니다')\n",
    "    @staticmethod\n",
    "    def bark2():\n",
    "        print('왈왈')"
   ]
  },
  {
   "cell_type": "code",
   "execution_count": 45,
   "id": "547d178f-d4c3-4b64-a504-27b82ba3152b",
   "metadata": {},
   "outputs": [
    {
     "name": "stdout",
     "output_type": "stream",
     "text": [
      "강아지는 1마리입니다\n"
     ]
    }
   ],
   "source": [
    "p1 = Puppy('초롱이')\n",
    "p1.info()"
   ]
  },
  {
   "cell_type": "code",
   "execution_count": 46,
   "id": "3c981923-66de-42b8-a9a2-db32669f240a",
   "metadata": {},
   "outputs": [
    {
     "name": "stdout",
     "output_type": "stream",
     "text": [
      "멍멍! 초롱이입니다\n"
     ]
    }
   ],
   "source": [
    "p1.bark()"
   ]
  },
  {
   "cell_type": "code",
   "execution_count": 47,
   "id": "06655b9a-87f4-4839-967d-82a2c59a2e8f",
   "metadata": {},
   "outputs": [
    {
     "name": "stdout",
     "output_type": "stream",
     "text": [
      "강아지는 2마리입니다\n"
     ]
    }
   ],
   "source": [
    "p2 = Puppy('초코')\n",
    "p2.info()"
   ]
  },
  {
   "cell_type": "code",
   "execution_count": null,
   "id": "484de520-444f-44b2-8ed2-53cd5b2dfbc9",
   "metadata": {},
   "outputs": [],
   "source": [
    "# person 클래스\n",
    "# ident는 클래스변수, 빈 문자열 name은 인스턴스 변수\n",
    "# greeting함수는 안녕하세요 누구입니다 출력"
   ]
  },
  {
   "cell_type": "code",
   "execution_count": 49,
   "id": "a1d56b1c-a7ee-4bb9-904b-6d03bea4234b",
   "metadata": {},
   "outputs": [
    {
     "name": "stdout",
     "output_type": "stream",
     "text": [
      "안녕하세요 주햔입니다\n"
     ]
    }
   ],
   "source": [
    "class Person():\n",
    "    ident = ''\n",
    "    def __init__(self, name):\n",
    "        self.name = name\n",
    "    def greeting(self):\n",
    "        print(f'안녕하세요 {self.name}입니다')\n",
    "\n",
    "p1 = Person('주햔')\n",
    "p1.greeting()"
   ]
  },
  {
   "cell_type": "code",
   "execution_count": 51,
   "id": "73bb3271-da0d-4528-a886-c67c41acb6c3",
   "metadata": {},
   "outputs": [
    {
     "data": {
      "text/plain": [
       "'021202-34234234'"
      ]
     },
     "execution_count": 51,
     "metadata": {},
     "output_type": "execute_result"
    }
   ],
   "source": [
    "p1.ident = '021202-34234234'\n",
    "p1.ident"
   ]
  },
  {
   "cell_type": "code",
   "execution_count": null,
   "id": "1259b6dd-c0f3-4184-be94-26e8777e6f30",
   "metadata": {},
   "outputs": [],
   "source": [
    "class Soldier(Person):\n",
    "    def greeting(self):\n",
    "        print(f'충성! {self.name}입니다.')"
   ]
  }
 ],
 "metadata": {
  "kernelspec": {
   "display_name": "Python 3 (ipykernel)",
   "language": "python",
   "name": "python3"
  },
  "language_info": {
   "codemirror_mode": {
    "name": "ipython",
    "version": 3
   },
   "file_extension": ".py",
   "mimetype": "text/x-python",
   "name": "python",
   "nbconvert_exporter": "python",
   "pygments_lexer": "ipython3",
   "version": "3.13.2"
  }
 },
 "nbformat": 4,
 "nbformat_minor": 5
}
