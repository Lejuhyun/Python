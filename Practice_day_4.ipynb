{
 "cells": [
  {
   "cell_type": "markdown",
   "id": "e362b7d8-9b2e-4150-b658-85ce3fcf4d53",
   "metadata": {},
   "source": [
    "## 윤년 판별\n",
    "\n",
    "사용자로부터 연도를 입력받아 해당 연도가 윤년인지 판별하세요.\n",
    "4로 나누어떨어지고, 100으로 나누어떨어지지 않거나 400으로 나누어떨어지는 해는 윤년입니다."
   ]
  },
  {
   "cell_type": "code",
   "execution_count": null,
   "id": "a4825196-b68d-4553-a275-ab48843a4830",
   "metadata": {},
   "outputs": [],
   "source": [
    "years = int(input())\n",
    "if (years % 4 == 0 and years % 100 != 0) or years % 400 == 0:\n",
    "    print(\"윤년입니다\")\n",
    "else:\n",
    "    print(\"윤년이 아닙니다\")"
   ]
  },
  {
   "cell_type": "markdown",
   "id": "9120de62-4069-450d-a813-7bdd12c5486e",
   "metadata": {},
   "source": [
    "## 심리 테스트\n",
    "\n",
    "사용자에게 \"어떤 색을 좋아하세요? (red/blue/green)\"라고 질문하고,\n",
    "\"red\"면 \"열정적인 성격이시군요!\",\n",
    "\"blue\"면 \"차분한 성격이시군요!\",\n",
    "\"green\"이면 \"자연을 좋아하는군요!\",\n",
    "그 외에는 \"다양한 색을 좋아하시네요!\"를 출력하세요."
   ]
  },
  {
   "cell_type": "code",
   "execution_count": null,
   "id": "440a13a0-0955-42b7-bad8-d3d0d145b5d4",
   "metadata": {},
   "outputs": [],
   "source": [
    "print('어떤 색을 좋아하세요? red/blue/green')\n",
    "colors = input()\n",
    "if colors == 'red':\n",
    "    print('열정적인 성격이시군요!')\n",
    "elif colors == 'blue':\n",
    "    print('차분한 성격이시군요!')\n",
    "elif colors == 'green':\n",
    "    print('자연을 좋아하는군요!')\n",
    "else:\n",
    "    print('다양한 색을 좋아하시네요!')"
   ]
  },
  {
   "cell_type": "markdown",
   "id": "ac018710-5e6a-4078-8bef-6dac2f29121f",
   "metadata": {},
   "source": [
    "## ATM 출금 가능 여부\n",
    "\n",
    "계좌 잔액이 50000원이고, 사용자에게 출금할 금액을 입력받아\n",
    "잔액보다 크면 \"잔액이 부족합니다.\"\n",
    "아니면 \"출금되었습니다. 남은 잔액: OOO원\"을 출력하세요."
   ]
  },
  {
   "cell_type": "code",
   "execution_count": null,
   "id": "32a2d1c4-6033-4231-b075-2c32698e1ed1",
   "metadata": {},
   "outputs": [],
   "source": [
    "money = int(input())\n",
    "if money > 50000:\n",
    "    print(\"잔액이 부족합니다\")\n",
    "else:\n",
    "    balance = 50000 - money\n",
    "    print(f'출금되었습니다. 남은 잔액: {balance}원')"
   ]
  },
  {
   "cell_type": "markdown",
   "id": "2f82661e-e25b-43e8-bdbb-dd1c08e4e09a",
   "metadata": {},
   "source": [
    "## 가위바위보 게임\n",
    "\n",
    "사용자와 컴퓨터가 가위바위보를 해서 승패를 출력하는 프로그램을 작성하세요.\n",
    "python\n",
    "복사\n",
    "편집\n",
    "import random\n",
    "choices = [\"가위\", \"바위\", \"보\"]\n",
    "computer = random.choice(choices)"
   ]
  },
  {
   "cell_type": "code",
   "execution_count": null,
   "id": "ab11430c-10c7-4261-be2f-a17851afa2d2",
   "metadata": {},
   "outputs": [],
   "source": [
    "import random\n",
    "choices = [\"가위\", \"바위\", \"보\"]\n",
    "computer = random.choice(choices)\n",
    "\n",
    "user = input()\n",
    "print(f\"사용자: {user}, 컴퓨터: {computer}\")\n",
    "if user == \"가위\":\n",
    "    if computer == \"바위\":\n",
    "        print(\"컴퓨터가 승리하였습니다\")\n",
    "    elif computer == \"보\":\n",
    "        print(\"사용자가 승리하였습니다\")\n",
    "    else:\n",
    "        print(\"비겼습니다\")\n",
    "elif user == \"바위\":\n",
    "    if computer == \"보\":\n",
    "        print(\"컴퓨터가 승리하였습니다\")\n",
    "    elif computer == \"가위\":\n",
    "        print(\"사용자가 승리하였습니다.\")\n",
    "    else:\n",
    "        print(\"비겼습니다\")\n",
    "else:\n",
    "    if computer == \"가위\":\n",
    "        print(\"컴퓨터가 승리하였습니다\")\n",
    "    elif computer == \"보\":\n",
    "        print(\"비겼습니다\")\n",
    "    else:\n",
    "        print(\"사용자가 승리하였습니다\")\n"
   ]
  },
  {
   "cell_type": "markdown",
   "id": "23ff089a-ba14-417e-8ad5-ee482030c50b",
   "metadata": {},
   "source": [
    "## 거꾸로 숫자 출력\n",
    "\n",
    "for문을 사용하여 10부터 1까지 거꾸로 출력하세요.\n",
    "\n"
   ]
  },
  {
   "cell_type": "code",
   "execution_count": null,
   "id": "82b2f569-4650-4351-99e3-1ef34b99f5a2",
   "metadata": {},
   "outputs": [],
   "source": [
    "for i in range(11):\n",
    "    print(10-i)"
   ]
  },
  {
   "cell_type": "markdown",
   "id": "c2fcb51e-e421-4d45-a14e-a0fe8ac2ea89",
   "metadata": {},
   "source": [
    "## 구구단 전체 출력\n",
    "\n",
    "for문을 사용하여 2단부터 9단까지 출력하세요."
   ]
  },
  {
   "cell_type": "code",
   "execution_count": null,
   "id": "7edcea38-95bb-4cc6-a23d-9c19a0c713f6",
   "metadata": {},
   "outputs": [],
   "source": [
    "for i in range(2,10):\n",
    "    for j in range(1,10):\n",
    "        print(i*j)\n",
    "    "
   ]
  },
  {
   "cell_type": "markdown",
   "id": "1355bb61-b292-48af-809b-460d73db29e7",
   "metadata": {},
   "source": [
    "## 1. 1부터 100까지의 합 구하기 (누적합)\n",
    "while문을 사용해 1부터 100까지의 합을 구하세요.\n",
    "힌트: 합을 누적시키는 변수(total)를 사용하고, i를 1부터 시작해서 100까지 반복합니다."
   ]
  },
  {
   "cell_type": "code",
   "execution_count": null,
   "id": "12b22bf8-7b0b-4b71-ab93-130653e7d1a3",
   "metadata": {},
   "outputs": [],
   "source": [
    "i = 1\n",
    "total = 0\n",
    "\n",
    "while i >= 1 and i <= 100:\n",
    "    total = total + i\n",
    "    i = i + 1\n",
    "print(total)"
   ]
  },
  {
   "cell_type": "markdown",
   "id": "42241957-0746-44c7-9a40-4cb2b1e44381",
   "metadata": {},
   "source": [
    "## 4. 구구단 7단 출력 (사용자 입력)\n",
    "사용자가 입력한 숫자에 대한 구구단을 while문을 사용하여 출력하세요.\n",
    "예: 7을 입력하면 7단을 출력.\n"
   ]
  },
  {
   "cell_type": "code",
   "execution_count": null,
   "id": "5da8225c-c5b4-4417-83fb-b1a37cc28960",
   "metadata": {},
   "outputs": [],
   "source": [
    "number = int(input())\n",
    "i=1\n",
    "while i<=9:\n",
    "    mul = number * i\n",
    "    print(mul)\n",
    "    i = i + 1\n",
    "    \n",
    "    "
   ]
  },
  {
   "cell_type": "markdown",
   "id": "eaca8c81-e340-4490-b83b-6661d2aeaccc",
   "metadata": {},
   "source": [
    "## 사용자 입력으로 0이 입력될 때까지 숫자 합 구하기\n",
    "사용자로부터 숫자를 입력받고, 0이 입력되면 입력받은 숫자의 합을 출력하세요.\n",
    "힌트: input()으로 숫자를 받되, 숫자가 0이면 종료하고, 그 전까지 입력받은 숫자를 합산하세요.\n"
   ]
  },
  {
   "cell_type": "code",
   "execution_count": 2,
   "id": "d51c181f-9fd6-4e0a-aeb4-323a546742e0",
   "metadata": {},
   "outputs": [
    {
     "name": "stdin",
     "output_type": "stream",
     "text": [
      " 1\n"
     ]
    },
    {
     "name": "stdout",
     "output_type": "stream",
     "text": [
      "현재까지의 누적합은 1입니다\n"
     ]
    },
    {
     "name": "stdin",
     "output_type": "stream",
     "text": [
      " 2\n"
     ]
    },
    {
     "name": "stdout",
     "output_type": "stream",
     "text": [
      "현재까지의 누적합은 3입니다\n"
     ]
    },
    {
     "name": "stdin",
     "output_type": "stream",
     "text": [
      " 3\n"
     ]
    },
    {
     "name": "stdout",
     "output_type": "stream",
     "text": [
      "현재까지의 누적합은 6입니다\n"
     ]
    },
    {
     "name": "stdin",
     "output_type": "stream",
     "text": [
      " 4\n"
     ]
    },
    {
     "name": "stdout",
     "output_type": "stream",
     "text": [
      "현재까지의 누적합은 10입니다\n"
     ]
    },
    {
     "name": "stdin",
     "output_type": "stream",
     "text": [
      " 5\n"
     ]
    },
    {
     "name": "stdout",
     "output_type": "stream",
     "text": [
      "현재까지의 누적합은 15입니다\n"
     ]
    },
    {
     "name": "stdin",
     "output_type": "stream",
     "text": [
      " 0\n"
     ]
    }
   ],
   "source": [
    "\n",
    "total = 0\n",
    "\n",
    "while True:      ###########우선 무조건 True로 해서 While문을 계속 돌리기\n",
    "    number = int(input())\n",
    "\n",
    "    if number == 0:   ############if 문을 활용하여 브레이크 걸기\n",
    "        break\n",
    "    \n",
    "    total = total + number\n",
    "    print(f'현재까지의 누적합은 {total}입니다')\n",
    "    \n",
    "    "
   ]
  },
  {
   "cell_type": "markdown",
   "id": "14be6a05-373d-498c-9e8e-9198bdee3468",
   "metadata": {},
   "source": [
    "## 문제 2: 1부터 100까지의 숫자 중 3의 배수의 합 구하기\n",
    "1부터 100까지의 숫자 중에서 3의 배수만 더하여 그 합을 구하세요.\n",
    "for문과 if문을 사용하여 3의 배수인지 확인하고 합산합니다."
   ]
  },
  {
   "cell_type": "code",
   "execution_count": 3,
   "id": "a394bb61-9c0f-47b7-be89-fa0fe0c6fc3b",
   "metadata": {},
   "outputs": [
    {
     "name": "stdout",
     "output_type": "stream",
     "text": [
      "1683\n"
     ]
    }
   ],
   "source": [
    "total = 0\n",
    "for i in range(1,101):\n",
    "    if i % 3 == 0:\n",
    "        total = total + i\n",
    "print(total)\n",
    "        "
   ]
  },
  {
   "cell_type": "markdown",
   "id": "629b03f7-7294-4d6e-ab6e-c19c997a3c56",
   "metadata": {},
   "source": [
    "## 문제 3: 2차원 리스트에서 각 행의 합 구하기\n",
    "2차원 리스트가 주어졌을 때, 각 행의 합을 출력하세요."
   ]
  },
  {
   "cell_type": "code",
   "execution_count": 4,
   "id": "3d40437b-a873-43ca-8642-3aa20b535a18",
   "metadata": {},
   "outputs": [],
   "source": [
    "matrix = [\n",
    "    [1, 2, 3],\n",
    "    [4, 5, 6],\n",
    "    [7, 8, 9]\n",
    "]"
   ]
  },
  {
   "cell_type": "code",
   "execution_count": 7,
   "id": "71aded65-3f37-4da7-a230-13eef8b534e0",
   "metadata": {
    "scrolled": true
   },
   "outputs": [
    {
     "name": "stdout",
     "output_type": "stream",
     "text": [
      "6\n",
      "15\n",
      "24\n"
     ]
    }
   ],
   "source": [
    "for i in matrix:\n",
    "    total = i[0] + i[1] + i[2] \n",
    "    print(total)"
   ]
  },
  {
   "cell_type": "markdown",
   "id": "fc4b644d-cc7d-4a1f-a6f9-ff84a8629814",
   "metadata": {},
   "source": [
    "## 문제 1: 숫자 1부터 100까지의 합 중 3의 배수와 5의 배수만 더하기\n",
    "for문을 사용하여 1부터 100까지의 숫자 중 3의 배수와 5의 배수만 더하세요.\n",
    "힌트: if문을 사용하여 3의 배수와 5의 배수를 구분하여 합산합니다."
   ]
  },
  {
   "cell_type": "code",
   "execution_count": 8,
   "id": "2d76de0e-8592-490e-a9fe-c790ab092f0e",
   "metadata": {},
   "outputs": [
    {
     "name": "stdout",
     "output_type": "stream",
     "text": [
      "2418\n"
     ]
    }
   ],
   "source": [
    "total = 0\n",
    "for i in range(1,101):\n",
    "    if i % 3 == 0 or i % 5 == 0:\n",
    "        total = total + i\n",
    "print(total)"
   ]
  },
  {
   "cell_type": "markdown",
   "id": "60932d2b-7952-45af-9dae-1e3cfab219e3",
   "metadata": {},
   "source": [
    "## 문제 1: 피라미드 모양의 별 출력\n",
    "for문을 사용하여 피라미드 모양의 별을 출력하세요.\n",
    "예를 들어, 5행의 피라미드 모양은 아래와 같습니다.\n",
    "출력 예시:\n",
    "\n",
    "    *\n",
    "   ***\n",
    "  *****\n",
    " *******"
   ]
  },
  {
   "cell_type": "code",
   "execution_count": 18,
   "id": "2253e84e-4e5a-4074-8840-466bc200f222",
   "metadata": {},
   "outputs": [
    {
     "name": "stdout",
     "output_type": "stream",
     "text": [
      "        *\n",
      "       ***\n",
      "      *****\n",
      "     *******\n",
      "    *********\n"
     ]
    }
   ],
   "source": [
    "for i in range(1,6):\n",
    "    print(' ' * ((9-i)+1//2), end='')\n",
    "    print((2*i-1)* '*')"
   ]
  },
  {
   "cell_type": "markdown",
   "id": "5b1a3298-8993-45fd-9cf8-5fb4f03ef404",
   "metadata": {},
   "source": [
    "## 윤년"
   ]
  },
  {
   "cell_type": "code",
   "execution_count": null,
   "id": "ad84b2e1-f483-466a-9a3c-ce91f3be9566",
   "metadata": {},
   "outputs": [],
   "source": [
    "if years % 4 == 0"
   ]
  }
 ],
 "metadata": {
  "kernelspec": {
   "display_name": "Python 3 (ipykernel)",
   "language": "python",
   "name": "python3"
  },
  "language_info": {
   "codemirror_mode": {
    "name": "ipython",
    "version": 3
   },
   "file_extension": ".py",
   "mimetype": "text/x-python",
   "name": "python",
   "nbconvert_exporter": "python",
   "pygments_lexer": "ipython3",
   "version": "3.13.2"
  }
 },
 "nbformat": 4,
 "nbformat_minor": 5
}
